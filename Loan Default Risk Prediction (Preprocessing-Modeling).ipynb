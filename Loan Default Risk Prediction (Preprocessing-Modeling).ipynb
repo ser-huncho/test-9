{
 "cells": [
  {
   "cell_type": "code",
   "execution_count": 1,
   "metadata": {},
   "outputs": [],
   "source": [
    "import pandas as pd\n",
    "import numpy as np\n",
    "import matplotlib.pyplot as plt\n",
    "%matplotlib inline\n",
    "import joblib\n",
    "from scipy.stats import f_oneway, chi2_contingency\n",
    "from imblearn.under_sampling import RandomUnderSampler\n",
    "from sklearn.preprocessing import StandardScaler\n",
    "from sklearn.linear_model import LogisticRegression\n",
    "from sklearn.ensemble import RandomForestClassifier\n",
    "from sklearn.model_selection import GridSearchCV\n",
    "from sklearn.feature_selection import SelectFromModel"
   ]
  },
  {
   "cell_type": "code",
   "execution_count": 2,
   "metadata": {},
   "outputs": [],
   "source": [
    "app_train = pd.read_csv(\"application_train.csv\")"
   ]
  },
  {
   "cell_type": "code",
   "execution_count": 3,
   "metadata": {},
   "outputs": [
    {
     "data": {
      "text/plain": [
       "(307511, 122)"
      ]
     },
     "execution_count": 3,
     "metadata": {},
     "output_type": "execute_result"
    }
   ],
   "source": [
    "app_train.shape"
   ]
  },
  {
   "cell_type": "code",
   "execution_count": 4,
   "metadata": {},
   "outputs": [
    {
     "data": {
      "text/plain": [
       "SK_ID_CURR                      int64\n",
       "TARGET                          int64\n",
       "NAME_CONTRACT_TYPE             object\n",
       "CODE_GENDER                    object\n",
       "FLAG_OWN_CAR                   object\n",
       "                               ...   \n",
       "AMT_REQ_CREDIT_BUREAU_DAY     float64\n",
       "AMT_REQ_CREDIT_BUREAU_WEEK    float64\n",
       "AMT_REQ_CREDIT_BUREAU_MON     float64\n",
       "AMT_REQ_CREDIT_BUREAU_QRT     float64\n",
       "AMT_REQ_CREDIT_BUREAU_YEAR    float64\n",
       "Length: 122, dtype: object"
      ]
     },
     "execution_count": 4,
     "metadata": {},
     "output_type": "execute_result"
    }
   ],
   "source": [
    "app_train.dtypes"
   ]
  },
  {
   "cell_type": "markdown",
   "metadata": {},
   "source": [
    "### 1. Checking Duplicate Data"
   ]
  },
  {
   "cell_type": "code",
   "execution_count": 5,
   "metadata": {},
   "outputs": [
    {
     "data": {
      "text/plain": [
       "0"
      ]
     },
     "execution_count": 5,
     "metadata": {},
     "output_type": "execute_result"
    }
   ],
   "source": [
    "app_train.duplicated().sum()"
   ]
  },
  {
   "cell_type": "code",
   "execution_count": 6,
   "metadata": {},
   "outputs": [],
   "source": [
    "# app_train.drop_duplicates()"
   ]
  },
  {
   "cell_type": "markdown",
   "metadata": {},
   "source": [
    "### 2. Handling Missing Value"
   ]
  },
  {
   "cell_type": "code",
   "execution_count": 7,
   "metadata": {
    "scrolled": true
   },
   "outputs": [
    {
     "data": {
      "text/html": [
       "<div>\n",
       "<style scoped>\n",
       "    .dataframe tbody tr th:only-of-type {\n",
       "        vertical-align: middle;\n",
       "    }\n",
       "\n",
       "    .dataframe tbody tr th {\n",
       "        vertical-align: top;\n",
       "    }\n",
       "\n",
       "    .dataframe thead th {\n",
       "        text-align: right;\n",
       "    }\n",
       "</style>\n",
       "<table border=\"1\" class=\"dataframe\">\n",
       "  <thead>\n",
       "    <tr style=\"text-align: right;\">\n",
       "      <th></th>\n",
       "      <th>null_counts</th>\n",
       "      <th>null_percentage</th>\n",
       "    </tr>\n",
       "    <tr>\n",
       "      <th>column_name</th>\n",
       "      <th></th>\n",
       "      <th></th>\n",
       "    </tr>\n",
       "  </thead>\n",
       "  <tbody>\n",
       "    <tr>\n",
       "      <th>SK_ID_CURR</th>\n",
       "      <td>0</td>\n",
       "      <td>0.00</td>\n",
       "    </tr>\n",
       "    <tr>\n",
       "      <th>HOUR_APPR_PROCESS_START</th>\n",
       "      <td>0</td>\n",
       "      <td>0.00</td>\n",
       "    </tr>\n",
       "    <tr>\n",
       "      <th>REG_REGION_NOT_WORK_REGION</th>\n",
       "      <td>0</td>\n",
       "      <td>0.00</td>\n",
       "    </tr>\n",
       "    <tr>\n",
       "      <th>LIVE_REGION_NOT_WORK_REGION</th>\n",
       "      <td>0</td>\n",
       "      <td>0.00</td>\n",
       "    </tr>\n",
       "    <tr>\n",
       "      <th>REG_CITY_NOT_LIVE_CITY</th>\n",
       "      <td>0</td>\n",
       "      <td>0.00</td>\n",
       "    </tr>\n",
       "    <tr>\n",
       "      <th>...</th>\n",
       "      <td>...</td>\n",
       "      <td>...</td>\n",
       "    </tr>\n",
       "    <tr>\n",
       "      <th>NONLIVINGAPARTMENTS_MEDI</th>\n",
       "      <td>213514</td>\n",
       "      <td>69.43</td>\n",
       "    </tr>\n",
       "    <tr>\n",
       "      <th>NONLIVINGAPARTMENTS_MODE</th>\n",
       "      <td>213514</td>\n",
       "      <td>69.43</td>\n",
       "    </tr>\n",
       "    <tr>\n",
       "      <th>COMMONAREA_MODE</th>\n",
       "      <td>214865</td>\n",
       "      <td>69.87</td>\n",
       "    </tr>\n",
       "    <tr>\n",
       "      <th>COMMONAREA_AVG</th>\n",
       "      <td>214865</td>\n",
       "      <td>69.87</td>\n",
       "    </tr>\n",
       "    <tr>\n",
       "      <th>COMMONAREA_MEDI</th>\n",
       "      <td>214865</td>\n",
       "      <td>69.87</td>\n",
       "    </tr>\n",
       "  </tbody>\n",
       "</table>\n",
       "<p>122 rows × 2 columns</p>\n",
       "</div>"
      ],
      "text/plain": [
       "                             null_counts  null_percentage\n",
       "column_name                                              \n",
       "SK_ID_CURR                             0             0.00\n",
       "HOUR_APPR_PROCESS_START                0             0.00\n",
       "REG_REGION_NOT_WORK_REGION             0             0.00\n",
       "LIVE_REGION_NOT_WORK_REGION            0             0.00\n",
       "REG_CITY_NOT_LIVE_CITY                 0             0.00\n",
       "...                                  ...              ...\n",
       "NONLIVINGAPARTMENTS_MEDI          213514            69.43\n",
       "NONLIVINGAPARTMENTS_MODE          213514            69.43\n",
       "COMMONAREA_MODE                   214865            69.87\n",
       "COMMONAREA_AVG                    214865            69.87\n",
       "COMMONAREA_MEDI                   214865            69.87\n",
       "\n",
       "[122 rows x 2 columns]"
      ]
     },
     "execution_count": 7,
     "metadata": {},
     "output_type": "execute_result"
    }
   ],
   "source": [
    "null = app_train.isna().sum().reset_index().rename(columns = {\"index\": \"column_name\", 0: \"null_counts\"}).sort_values(by = [\"null_counts\"])\n",
    "null = null.set_index(\"column_name\")\n",
    "null[\"null_percentage\"] = (null[\"null_counts\"] / app_train.shape[0] * 100).round(2)\n",
    "null"
   ]
  },
  {
   "cell_type": "code",
   "execution_count": 8,
   "metadata": {},
   "outputs": [],
   "source": [
    "# Delete columns that have >50% missing values\n",
    "del_column = list(null[null[\"null_percentage\"] > 50].index)\n",
    "\n",
    "app_train.drop(columns = del_column, inplace = True)"
   ]
  },
  {
   "cell_type": "code",
   "execution_count": 9,
   "metadata": {},
   "outputs": [
    {
     "data": {
      "text/plain": [
       "(307511, 81)"
      ]
     },
     "execution_count": 9,
     "metadata": {},
     "output_type": "execute_result"
    }
   ],
   "source": [
    "app_train.shape"
   ]
  },
  {
   "cell_type": "code",
   "execution_count": 10,
   "metadata": {
    "scrolled": true
   },
   "outputs": [
    {
     "data": {
      "text/plain": [
       "SK_ID_CURR                      int64\n",
       "TARGET                          int64\n",
       "NAME_CONTRACT_TYPE             object\n",
       "CODE_GENDER                    object\n",
       "FLAG_OWN_CAR                   object\n",
       "                               ...   \n",
       "AMT_REQ_CREDIT_BUREAU_DAY     float64\n",
       "AMT_REQ_CREDIT_BUREAU_WEEK    float64\n",
       "AMT_REQ_CREDIT_BUREAU_MON     float64\n",
       "AMT_REQ_CREDIT_BUREAU_QRT     float64\n",
       "AMT_REQ_CREDIT_BUREAU_YEAR    float64\n",
       "Length: 81, dtype: object"
      ]
     },
     "execution_count": 10,
     "metadata": {},
     "output_type": "execute_result"
    }
   ],
   "source": [
    "app_train.dtypes"
   ]
  },
  {
   "cell_type": "markdown",
   "metadata": {},
   "source": [
    "#### 2a. Change The Dtype"
   ]
  },
  {
   "cell_type": "code",
   "execution_count": 11,
   "metadata": {},
   "outputs": [
    {
     "data": {
      "text/plain": [
       "TARGET\n",
       "0    282686\n",
       "1     24825\n",
       "Name: count, dtype: int64"
      ]
     },
     "execution_count": 11,
     "metadata": {},
     "output_type": "execute_result"
    }
   ],
   "source": [
    "app_train[\"TARGET\"].value_counts()"
   ]
  },
  {
   "cell_type": "code",
   "execution_count": 12,
   "metadata": {},
   "outputs": [
    {
     "data": {
      "text/plain": [
       "(68, 13)"
      ]
     },
     "execution_count": 12,
     "metadata": {},
     "output_type": "execute_result"
    }
   ],
   "source": [
    "# Numerical columns\n",
    "list_num = list(app_train.select_dtypes(include = \"number\").columns)\n",
    "\n",
    "# Categorical columns\n",
    "list_cat = list(app_train.select_dtypes(include = \"object\").columns)\n",
    "\n",
    "len(list_num), len(list_cat)"
   ]
  },
  {
   "cell_type": "code",
   "execution_count": 13,
   "metadata": {},
   "outputs": [],
   "source": [
    "num_to_cat = ['FLAG_MOBIL', 'FLAG_EMP_PHONE', 'FLAG_WORK_PHONE', 'FLAG_CONT_MOBILE', 'FLAG_PHONE', \n",
    "              'FLAG_EMAIL', 'REGION_RATING_CLIENT', 'REGION_RATING_CLIENT_W_CITY', \n",
    "              'REG_REGION_NOT_LIVE_REGION', 'REG_REGION_NOT_WORK_REGION', 'LIVE_REGION_NOT_WORK_REGION', \n",
    "              'REG_CITY_NOT_LIVE_CITY', 'REG_CITY_NOT_WORK_CITY', 'LIVE_CITY_NOT_WORK_CITY',\n",
    "              'FLAG_DOCUMENT_2', 'FLAG_DOCUMENT_3', 'FLAG_DOCUMENT_4', 'FLAG_DOCUMENT_5', \n",
    "              'FLAG_DOCUMENT_6', 'FLAG_DOCUMENT_7', 'FLAG_DOCUMENT_8', 'FLAG_DOCUMENT_9', \n",
    "              'FLAG_DOCUMENT_10', 'FLAG_DOCUMENT_11','FLAG_DOCUMENT_12', 'FLAG_DOCUMENT_13', \n",
    "              'FLAG_DOCUMENT_14', 'FLAG_DOCUMENT_15', 'FLAG_DOCUMENT_16','FLAG_DOCUMENT_17', \n",
    "              'FLAG_DOCUMENT_18', 'FLAG_DOCUMENT_19', 'FLAG_DOCUMENT_20', 'FLAG_DOCUMENT_21']"
   ]
  },
  {
   "cell_type": "code",
   "execution_count": 14,
   "metadata": {},
   "outputs": [],
   "source": [
    "app_train[num_to_cat] = app_train[num_to_cat].astype(object)"
   ]
  },
  {
   "cell_type": "code",
   "execution_count": 15,
   "metadata": {},
   "outputs": [
    {
     "data": {
      "text/plain": [
       "(34, 47)"
      ]
     },
     "execution_count": 15,
     "metadata": {},
     "output_type": "execute_result"
    }
   ],
   "source": [
    "# Update numerical and categorical columns\n",
    "list_num = list(app_train.select_dtypes(include = \"number\").columns)\n",
    "list_cat = list(app_train.select_dtypes(include = \"object\").columns)\n",
    "\n",
    "len(list_num), len(list_cat)"
   ]
  },
  {
   "cell_type": "code",
   "execution_count": 16,
   "metadata": {},
   "outputs": [
    {
     "data": {
      "text/plain": [
       "SK_ID_CURR                      int64\n",
       "TARGET                          int64\n",
       "NAME_CONTRACT_TYPE             object\n",
       "CODE_GENDER                    object\n",
       "FLAG_OWN_CAR                   object\n",
       "                               ...   \n",
       "AMT_REQ_CREDIT_BUREAU_DAY     float64\n",
       "AMT_REQ_CREDIT_BUREAU_WEEK    float64\n",
       "AMT_REQ_CREDIT_BUREAU_MON     float64\n",
       "AMT_REQ_CREDIT_BUREAU_QRT     float64\n",
       "AMT_REQ_CREDIT_BUREAU_YEAR    float64\n",
       "Length: 81, dtype: object"
      ]
     },
     "execution_count": 16,
     "metadata": {},
     "output_type": "execute_result"
    }
   ],
   "source": [
    "app_train.dtypes"
   ]
  },
  {
   "cell_type": "code",
   "execution_count": 17,
   "metadata": {},
   "outputs": [
    {
     "name": "stdout",
     "output_type": "stream",
     "text": [
      "[]\n"
     ]
    }
   ],
   "source": [
    "# Remove columns that have only 1 feature\n",
    "nunique_value = app_train.apply(pd.Series.nunique)\n",
    "single_value_cols = nunique_value[nunique_value == 1].index.tolist()\n",
    "print(single_value_cols)"
   ]
  },
  {
   "cell_type": "code",
   "execution_count": 18,
   "metadata": {},
   "outputs": [
    {
     "data": {
      "text/plain": [
       "SK_ID_CURR                           0\n",
       "TARGET                               0\n",
       "CNT_CHILDREN                         0\n",
       "AMT_INCOME_TOTAL                     0\n",
       "AMT_CREDIT                           0\n",
       "AMT_ANNUITY                         12\n",
       "AMT_GOODS_PRICE                    278\n",
       "REGION_POPULATION_RELATIVE           0\n",
       "DAYS_BIRTH                           0\n",
       "DAYS_EMPLOYED                        0\n",
       "DAYS_REGISTRATION                    0\n",
       "DAYS_ID_PUBLISH                      0\n",
       "CNT_FAM_MEMBERS                      2\n",
       "HOUR_APPR_PROCESS_START              0\n",
       "EXT_SOURCE_2                       660\n",
       "EXT_SOURCE_3                     60965\n",
       "YEARS_BEGINEXPLUATATION_AVG     150007\n",
       "FLOORSMAX_AVG                   153020\n",
       "YEARS_BEGINEXPLUATATION_MODE    150007\n",
       "FLOORSMAX_MODE                  153020\n",
       "YEARS_BEGINEXPLUATATION_MEDI    150007\n",
       "FLOORSMAX_MEDI                  153020\n",
       "TOTALAREA_MODE                  148431\n",
       "OBS_30_CNT_SOCIAL_CIRCLE          1021\n",
       "DEF_30_CNT_SOCIAL_CIRCLE          1021\n",
       "OBS_60_CNT_SOCIAL_CIRCLE          1021\n",
       "DEF_60_CNT_SOCIAL_CIRCLE          1021\n",
       "DAYS_LAST_PHONE_CHANGE               1\n",
       "AMT_REQ_CREDIT_BUREAU_HOUR       41519\n",
       "AMT_REQ_CREDIT_BUREAU_DAY        41519\n",
       "AMT_REQ_CREDIT_BUREAU_WEEK       41519\n",
       "AMT_REQ_CREDIT_BUREAU_MON        41519\n",
       "AMT_REQ_CREDIT_BUREAU_QRT        41519\n",
       "AMT_REQ_CREDIT_BUREAU_YEAR       41519\n",
       "dtype: int64"
      ]
     },
     "execution_count": 18,
     "metadata": {},
     "output_type": "execute_result"
    }
   ],
   "source": [
    "# Missing in numerical data\n",
    "app_train[list_num].isna().sum()"
   ]
  },
  {
   "cell_type": "code",
   "execution_count": 19,
   "metadata": {},
   "outputs": [],
   "source": [
    "num_mean = app_train[list_num].mean()\n",
    "num_mean.to_csv(\"save_files/num_mean.csv\")"
   ]
  },
  {
   "cell_type": "code",
   "execution_count": 20,
   "metadata": {},
   "outputs": [
    {
     "data": {
      "text/plain": [
       "SK_ID_CURR                      0\n",
       "TARGET                          0\n",
       "CNT_CHILDREN                    0\n",
       "AMT_INCOME_TOTAL                0\n",
       "AMT_CREDIT                      0\n",
       "AMT_ANNUITY                     0\n",
       "AMT_GOODS_PRICE                 0\n",
       "REGION_POPULATION_RELATIVE      0\n",
       "DAYS_BIRTH                      0\n",
       "DAYS_EMPLOYED                   0\n",
       "DAYS_REGISTRATION               0\n",
       "DAYS_ID_PUBLISH                 0\n",
       "CNT_FAM_MEMBERS                 0\n",
       "HOUR_APPR_PROCESS_START         0\n",
       "EXT_SOURCE_2                    0\n",
       "EXT_SOURCE_3                    0\n",
       "YEARS_BEGINEXPLUATATION_AVG     0\n",
       "FLOORSMAX_AVG                   0\n",
       "YEARS_BEGINEXPLUATATION_MODE    0\n",
       "FLOORSMAX_MODE                  0\n",
       "YEARS_BEGINEXPLUATATION_MEDI    0\n",
       "FLOORSMAX_MEDI                  0\n",
       "TOTALAREA_MODE                  0\n",
       "OBS_30_CNT_SOCIAL_CIRCLE        0\n",
       "DEF_30_CNT_SOCIAL_CIRCLE        0\n",
       "OBS_60_CNT_SOCIAL_CIRCLE        0\n",
       "DEF_60_CNT_SOCIAL_CIRCLE        0\n",
       "DAYS_LAST_PHONE_CHANGE          0\n",
       "AMT_REQ_CREDIT_BUREAU_HOUR      0\n",
       "AMT_REQ_CREDIT_BUREAU_DAY       0\n",
       "AMT_REQ_CREDIT_BUREAU_WEEK      0\n",
       "AMT_REQ_CREDIT_BUREAU_MON       0\n",
       "AMT_REQ_CREDIT_BUREAU_QRT       0\n",
       "AMT_REQ_CREDIT_BUREAU_YEAR      0\n",
       "dtype: int64"
      ]
     },
     "execution_count": 20,
     "metadata": {},
     "output_type": "execute_result"
    }
   ],
   "source": [
    "# Impute missing value in numerical data using \"mean\"\n",
    "app_train[list_num] = app_train[list_num].fillna(num_mean)\n",
    "app_train[list_num].isna().sum()"
   ]
  },
  {
   "cell_type": "code",
   "execution_count": 21,
   "metadata": {},
   "outputs": [
    {
     "data": {
      "text/plain": [
       "NAME_CONTRACT_TYPE                  0\n",
       "CODE_GENDER                         0\n",
       "FLAG_OWN_CAR                        0\n",
       "FLAG_OWN_REALTY                     0\n",
       "NAME_TYPE_SUITE                  1292\n",
       "NAME_INCOME_TYPE                    0\n",
       "NAME_EDUCATION_TYPE                 0\n",
       "NAME_FAMILY_STATUS                  0\n",
       "NAME_HOUSING_TYPE                   0\n",
       "FLAG_MOBIL                          0\n",
       "FLAG_EMP_PHONE                      0\n",
       "FLAG_WORK_PHONE                     0\n",
       "FLAG_CONT_MOBILE                    0\n",
       "FLAG_PHONE                          0\n",
       "FLAG_EMAIL                          0\n",
       "OCCUPATION_TYPE                 96391\n",
       "REGION_RATING_CLIENT                0\n",
       "REGION_RATING_CLIENT_W_CITY         0\n",
       "WEEKDAY_APPR_PROCESS_START          0\n",
       "REG_REGION_NOT_LIVE_REGION          0\n",
       "REG_REGION_NOT_WORK_REGION          0\n",
       "LIVE_REGION_NOT_WORK_REGION         0\n",
       "REG_CITY_NOT_LIVE_CITY              0\n",
       "REG_CITY_NOT_WORK_CITY              0\n",
       "LIVE_CITY_NOT_WORK_CITY             0\n",
       "ORGANIZATION_TYPE                   0\n",
       "EMERGENCYSTATE_MODE            145755\n",
       "FLAG_DOCUMENT_2                     0\n",
       "FLAG_DOCUMENT_3                     0\n",
       "FLAG_DOCUMENT_4                     0\n",
       "FLAG_DOCUMENT_5                     0\n",
       "FLAG_DOCUMENT_6                     0\n",
       "FLAG_DOCUMENT_7                     0\n",
       "FLAG_DOCUMENT_8                     0\n",
       "FLAG_DOCUMENT_9                     0\n",
       "FLAG_DOCUMENT_10                    0\n",
       "FLAG_DOCUMENT_11                    0\n",
       "FLAG_DOCUMENT_12                    0\n",
       "FLAG_DOCUMENT_13                    0\n",
       "FLAG_DOCUMENT_14                    0\n",
       "FLAG_DOCUMENT_15                    0\n",
       "FLAG_DOCUMENT_16                    0\n",
       "FLAG_DOCUMENT_17                    0\n",
       "FLAG_DOCUMENT_18                    0\n",
       "FLAG_DOCUMENT_19                    0\n",
       "FLAG_DOCUMENT_20                    0\n",
       "FLAG_DOCUMENT_21                    0\n",
       "dtype: int64"
      ]
     },
     "execution_count": 21,
     "metadata": {},
     "output_type": "execute_result"
    }
   ],
   "source": [
    "# Missing in categorical data\n",
    "app_train[list_cat].isna().sum()"
   ]
  },
  {
   "cell_type": "code",
   "execution_count": 22,
   "metadata": {},
   "outputs": [],
   "source": [
    "dict_cat_mode = {}\n",
    "\n",
    "for i in list_cat:\n",
    "    mode_value = app_train[i].mode()[0]\n",
    "    dict_cat_mode[i] = mode_value"
   ]
  },
  {
   "cell_type": "code",
   "execution_count": 23,
   "metadata": {},
   "outputs": [
    {
     "data": {
      "text/plain": [
       "['dict_cat_mode.joblib']"
      ]
     },
     "execution_count": 23,
     "metadata": {},
     "output_type": "execute_result"
    }
   ],
   "source": [
    "# save\n",
    "joblib.dump(dict_cat_mode, \"save_files/dict_cat_mode.joblib\")"
   ]
  },
  {
   "cell_type": "code",
   "execution_count": 24,
   "metadata": {
    "scrolled": true
   },
   "outputs": [
    {
     "data": {
      "text/plain": [
       "NAME_CONTRACT_TYPE             0\n",
       "CODE_GENDER                    0\n",
       "FLAG_OWN_CAR                   0\n",
       "FLAG_OWN_REALTY                0\n",
       "NAME_TYPE_SUITE                0\n",
       "NAME_INCOME_TYPE               0\n",
       "NAME_EDUCATION_TYPE            0\n",
       "NAME_FAMILY_STATUS             0\n",
       "NAME_HOUSING_TYPE              0\n",
       "FLAG_MOBIL                     0\n",
       "FLAG_EMP_PHONE                 0\n",
       "FLAG_WORK_PHONE                0\n",
       "FLAG_CONT_MOBILE               0\n",
       "FLAG_PHONE                     0\n",
       "FLAG_EMAIL                     0\n",
       "OCCUPATION_TYPE                0\n",
       "REGION_RATING_CLIENT           0\n",
       "REGION_RATING_CLIENT_W_CITY    0\n",
       "WEEKDAY_APPR_PROCESS_START     0\n",
       "REG_REGION_NOT_LIVE_REGION     0\n",
       "REG_REGION_NOT_WORK_REGION     0\n",
       "LIVE_REGION_NOT_WORK_REGION    0\n",
       "REG_CITY_NOT_LIVE_CITY         0\n",
       "REG_CITY_NOT_WORK_CITY         0\n",
       "LIVE_CITY_NOT_WORK_CITY        0\n",
       "ORGANIZATION_TYPE              0\n",
       "EMERGENCYSTATE_MODE            0\n",
       "FLAG_DOCUMENT_2                0\n",
       "FLAG_DOCUMENT_3                0\n",
       "FLAG_DOCUMENT_4                0\n",
       "FLAG_DOCUMENT_5                0\n",
       "FLAG_DOCUMENT_6                0\n",
       "FLAG_DOCUMENT_7                0\n",
       "FLAG_DOCUMENT_8                0\n",
       "FLAG_DOCUMENT_9                0\n",
       "FLAG_DOCUMENT_10               0\n",
       "FLAG_DOCUMENT_11               0\n",
       "FLAG_DOCUMENT_12               0\n",
       "FLAG_DOCUMENT_13               0\n",
       "FLAG_DOCUMENT_14               0\n",
       "FLAG_DOCUMENT_15               0\n",
       "FLAG_DOCUMENT_16               0\n",
       "FLAG_DOCUMENT_17               0\n",
       "FLAG_DOCUMENT_18               0\n",
       "FLAG_DOCUMENT_19               0\n",
       "FLAG_DOCUMENT_20               0\n",
       "FLAG_DOCUMENT_21               0\n",
       "dtype: int64"
      ]
     },
     "execution_count": 24,
     "metadata": {},
     "output_type": "execute_result"
    }
   ],
   "source": [
    "# Impute missing value in categorical data using \"mode\"\n",
    "app_train[list_cat] = app_train[list_cat].fillna(dict_cat_mode)\n",
    "app_train[list_cat].isna().sum()"
   ]
  },
  {
   "cell_type": "markdown",
   "metadata": {},
   "source": [
    "#### 2b. Exploring Numerical and Categorical Data"
   ]
  },
  {
   "cell_type": "code",
   "execution_count": 25,
   "metadata": {},
   "outputs": [],
   "source": [
    "# CATEGORICAL DATA"
   ]
  },
  {
   "cell_type": "code",
   "execution_count": 26,
   "metadata": {},
   "outputs": [
    {
     "name": "stdout",
     "output_type": "stream",
     "text": [
      "NAME_CONTRACT_TYPE\n",
      "Cash loans         278232\n",
      "Revolving loans     29279\n",
      "Name: count, dtype: int64\n",
      "\n",
      "----------\n",
      "CODE_GENDER\n",
      "F      202448\n",
      "M      105059\n",
      "XNA         4\n",
      "Name: count, dtype: int64\n",
      "\n",
      "----------\n",
      "FLAG_OWN_CAR\n",
      "N    202924\n",
      "Y    104587\n",
      "Name: count, dtype: int64\n",
      "\n",
      "----------\n",
      "FLAG_OWN_REALTY\n",
      "Y    213312\n",
      "N     94199\n",
      "Name: count, dtype: int64\n",
      "\n",
      "----------\n",
      "NAME_TYPE_SUITE\n",
      "Unaccompanied      249818\n",
      "Family              40149\n",
      "Spouse, partner     11370\n",
      "Children             3267\n",
      "Other_B              1770\n",
      "Other_A               866\n",
      "Group of people       271\n",
      "Name: count, dtype: int64\n",
      "\n",
      "----------\n",
      "NAME_INCOME_TYPE\n",
      "Working                 158774\n",
      "Commercial associate     71617\n",
      "Pensioner                55362\n",
      "State servant            21703\n",
      "Unemployed                  22\n",
      "Student                     18\n",
      "Businessman                 10\n",
      "Maternity leave              5\n",
      "Name: count, dtype: int64\n",
      "\n",
      "----------\n",
      "NAME_EDUCATION_TYPE\n",
      "Secondary / secondary special    218391\n",
      "Higher education                  74863\n",
      "Incomplete higher                 10277\n",
      "Lower secondary                    3816\n",
      "Academic degree                     164\n",
      "Name: count, dtype: int64\n",
      "\n",
      "----------\n",
      "NAME_FAMILY_STATUS\n",
      "Married                 196432\n",
      "Single / not married     45444\n",
      "Civil marriage           29775\n",
      "Separated                19770\n",
      "Widow                    16088\n",
      "Unknown                      2\n",
      "Name: count, dtype: int64\n",
      "\n",
      "----------\n",
      "NAME_HOUSING_TYPE\n",
      "House / apartment      272868\n",
      "With parents            14840\n",
      "Municipal apartment     11183\n",
      "Rented apartment         4881\n",
      "Office apartment         2617\n",
      "Co-op apartment          1122\n",
      "Name: count, dtype: int64\n",
      "\n",
      "----------\n",
      "FLAG_MOBIL\n",
      "1    307510\n",
      "0         1\n",
      "Name: count, dtype: int64\n",
      "\n",
      "----------\n",
      "FLAG_EMP_PHONE\n",
      "1    252125\n",
      "0     55386\n",
      "Name: count, dtype: int64\n",
      "\n",
      "----------\n",
      "FLAG_WORK_PHONE\n",
      "0    246203\n",
      "1     61308\n",
      "Name: count, dtype: int64\n",
      "\n",
      "----------\n",
      "FLAG_CONT_MOBILE\n",
      "1    306937\n",
      "0       574\n",
      "Name: count, dtype: int64\n",
      "\n",
      "----------\n",
      "FLAG_PHONE\n",
      "0    221080\n",
      "1     86431\n",
      "Name: count, dtype: int64\n",
      "\n",
      "----------\n",
      "FLAG_EMAIL\n",
      "0    290069\n",
      "1     17442\n",
      "Name: count, dtype: int64\n",
      "\n",
      "----------\n",
      "OCCUPATION_TYPE\n",
      "Laborers                 151577\n",
      "Sales staff               32102\n",
      "Core staff                27570\n",
      "Managers                  21371\n",
      "Drivers                   18603\n",
      "High skill tech staff     11380\n",
      "Accountants                9813\n",
      "Medicine staff             8537\n",
      "Security staff             6721\n",
      "Cooking staff              5946\n",
      "Cleaning staff             4653\n",
      "Private service staff      2652\n",
      "Low-skill Laborers         2093\n",
      "Waiters/barmen staff       1348\n",
      "Secretaries                1305\n",
      "Realty agents               751\n",
      "HR staff                    563\n",
      "IT staff                    526\n",
      "Name: count, dtype: int64\n",
      "\n",
      "----------\n",
      "REGION_RATING_CLIENT\n",
      "2    226984\n",
      "3     48330\n",
      "1     32197\n",
      "Name: count, dtype: int64\n",
      "\n",
      "----------\n",
      "REGION_RATING_CLIENT_W_CITY\n",
      "2    229484\n",
      "3     43860\n",
      "1     34167\n",
      "Name: count, dtype: int64\n",
      "\n",
      "----------\n",
      "WEEKDAY_APPR_PROCESS_START\n",
      "TUESDAY      53901\n",
      "WEDNESDAY    51934\n",
      "MONDAY       50714\n",
      "THURSDAY     50591\n",
      "FRIDAY       50338\n",
      "SATURDAY     33852\n",
      "SUNDAY       16181\n",
      "Name: count, dtype: int64\n",
      "\n",
      "----------\n",
      "REG_REGION_NOT_LIVE_REGION\n",
      "0    302854\n",
      "1      4657\n",
      "Name: count, dtype: int64\n",
      "\n",
      "----------\n",
      "REG_REGION_NOT_WORK_REGION\n",
      "0    291899\n",
      "1     15612\n",
      "Name: count, dtype: int64\n",
      "\n",
      "----------\n",
      "LIVE_REGION_NOT_WORK_REGION\n",
      "0    295008\n",
      "1     12503\n",
      "Name: count, dtype: int64\n",
      "\n",
      "----------\n",
      "REG_CITY_NOT_LIVE_CITY\n",
      "0    283472\n",
      "1     24039\n",
      "Name: count, dtype: int64\n",
      "\n",
      "----------\n",
      "REG_CITY_NOT_WORK_CITY\n",
      "0    236644\n",
      "1     70867\n",
      "Name: count, dtype: int64\n",
      "\n",
      "----------\n",
      "LIVE_CITY_NOT_WORK_CITY\n",
      "0    252296\n",
      "1     55215\n",
      "Name: count, dtype: int64\n",
      "\n",
      "----------\n",
      "ORGANIZATION_TYPE\n",
      "Business Entity Type 3    67992\n",
      "XNA                       55374\n",
      "Self-employed             38412\n",
      "Other                     16683\n",
      "Medicine                  11193\n",
      "Business Entity Type 2    10553\n",
      "Government                10404\n",
      "School                     8893\n",
      "Trade: type 7              7831\n",
      "Kindergarten               6880\n",
      "Construction               6721\n",
      "Business Entity Type 1     5984\n",
      "Transport: type 4          5398\n",
      "Trade: type 3              3492\n",
      "Industry: type 9           3368\n",
      "Industry: type 3           3278\n",
      "Security                   3247\n",
      "Housing                    2958\n",
      "Industry: type 11          2704\n",
      "Military                   2634\n",
      "Bank                       2507\n",
      "Agriculture                2454\n",
      "Police                     2341\n",
      "Transport: type 2          2204\n",
      "Postal                     2157\n",
      "Security Ministries        1974\n",
      "Trade: type 2              1900\n",
      "Restaurant                 1811\n",
      "Services                   1575\n",
      "University                 1327\n",
      "Industry: type 7           1307\n",
      "Transport: type 3          1187\n",
      "Industry: type 1           1039\n",
      "Hotel                       966\n",
      "Electricity                 950\n",
      "Industry: type 4            877\n",
      "Trade: type 6               631\n",
      "Industry: type 5            599\n",
      "Insurance                   597\n",
      "Telecom                     577\n",
      "Emergency                   560\n",
      "Industry: type 2            458\n",
      "Advertising                 429\n",
      "Realtor                     396\n",
      "Culture                     379\n",
      "Industry: type 12           369\n",
      "Trade: type 1               348\n",
      "Mobile                      317\n",
      "Legal Services              305\n",
      "Cleaning                    260\n",
      "Transport: type 1           201\n",
      "Industry: type 6            112\n",
      "Industry: type 10           109\n",
      "Religion                     85\n",
      "Industry: type 13            67\n",
      "Trade: type 4                64\n",
      "Trade: type 5                49\n",
      "Industry: type 8             24\n",
      "Name: count, dtype: int64\n",
      "\n",
      "----------\n",
      "EMERGENCYSTATE_MODE\n",
      "No     305183\n",
      "Yes      2328\n",
      "Name: count, dtype: int64\n",
      "\n",
      "----------\n",
      "FLAG_DOCUMENT_2\n",
      "0    307498\n",
      "1        13\n",
      "Name: count, dtype: int64\n",
      "\n",
      "----------\n",
      "FLAG_DOCUMENT_3\n",
      "1    218340\n",
      "0     89171\n",
      "Name: count, dtype: int64\n",
      "\n",
      "----------\n",
      "FLAG_DOCUMENT_4\n",
      "0    307486\n",
      "1        25\n",
      "Name: count, dtype: int64\n",
      "\n",
      "----------\n",
      "FLAG_DOCUMENT_5\n",
      "0    302863\n",
      "1      4648\n",
      "Name: count, dtype: int64\n",
      "\n",
      "----------\n",
      "FLAG_DOCUMENT_6\n",
      "0    280433\n",
      "1     27078\n",
      "Name: count, dtype: int64\n",
      "\n",
      "----------\n",
      "FLAG_DOCUMENT_7\n",
      "0    307452\n",
      "1        59\n",
      "Name: count, dtype: int64\n",
      "\n",
      "----------\n",
      "FLAG_DOCUMENT_8\n",
      "0    282487\n",
      "1     25024\n",
      "Name: count, dtype: int64\n",
      "\n",
      "----------\n",
      "FLAG_DOCUMENT_9\n",
      "0    306313\n",
      "1      1198\n",
      "Name: count, dtype: int64\n",
      "\n",
      "----------\n",
      "FLAG_DOCUMENT_10\n",
      "0    307504\n",
      "1         7\n",
      "Name: count, dtype: int64\n",
      "\n",
      "----------\n",
      "FLAG_DOCUMENT_11\n",
      "0    306308\n",
      "1      1203\n",
      "Name: count, dtype: int64\n",
      "\n",
      "----------\n",
      "FLAG_DOCUMENT_12\n",
      "0    307509\n",
      "1         2\n",
      "Name: count, dtype: int64\n",
      "\n",
      "----------\n",
      "FLAG_DOCUMENT_13\n",
      "0    306427\n",
      "1      1084\n",
      "Name: count, dtype: int64\n",
      "\n",
      "----------\n",
      "FLAG_DOCUMENT_14\n",
      "0    306608\n",
      "1       903\n",
      "Name: count, dtype: int64\n",
      "\n",
      "----------\n",
      "FLAG_DOCUMENT_15\n",
      "0    307139\n",
      "1       372\n",
      "Name: count, dtype: int64\n",
      "\n",
      "----------\n",
      "FLAG_DOCUMENT_16\n",
      "0    304458\n",
      "1      3053\n",
      "Name: count, dtype: int64\n",
      "\n",
      "----------\n",
      "FLAG_DOCUMENT_17\n",
      "0    307429\n",
      "1        82\n",
      "Name: count, dtype: int64\n",
      "\n",
      "----------\n",
      "FLAG_DOCUMENT_18\n",
      "0    305011\n",
      "1      2500\n",
      "Name: count, dtype: int64\n",
      "\n",
      "----------\n",
      "FLAG_DOCUMENT_19\n",
      "0    307328\n",
      "1       183\n",
      "Name: count, dtype: int64\n",
      "\n",
      "----------\n",
      "FLAG_DOCUMENT_20\n",
      "0    307355\n",
      "1       156\n",
      "Name: count, dtype: int64\n",
      "\n",
      "----------\n",
      "FLAG_DOCUMENT_21\n",
      "0    307408\n",
      "1       103\n",
      "Name: count, dtype: int64\n",
      "\n",
      "----------\n"
     ]
    }
   ],
   "source": [
    "for i in list_cat:\n",
    "    print(app_train[i].value_counts())\n",
    "    print(\"\\n----------\")"
   ]
  },
  {
   "cell_type": "code",
   "execution_count": 27,
   "metadata": {},
   "outputs": [
    {
     "data": {
      "text/plain": [
       "['FLAG_DOCUMENT_2',\n",
       " 'FLAG_DOCUMENT_4',\n",
       " 'FLAG_DOCUMENT_5',\n",
       " 'FLAG_DOCUMENT_7',\n",
       " 'FLAG_DOCUMENT_9',\n",
       " 'FLAG_DOCUMENT_10',\n",
       " 'FLAG_DOCUMENT_11',\n",
       " 'FLAG_DOCUMENT_12',\n",
       " 'FLAG_DOCUMENT_13',\n",
       " 'FLAG_DOCUMENT_14',\n",
       " 'FLAG_DOCUMENT_15',\n",
       " 'FLAG_DOCUMENT_16',\n",
       " 'FLAG_DOCUMENT_17',\n",
       " 'FLAG_DOCUMENT_18',\n",
       " 'FLAG_DOCUMENT_19',\n",
       " 'FLAG_DOCUMENT_20',\n",
       " 'FLAG_DOCUMENT_21',\n",
       " 'FLAG_MOBIL']"
      ]
     },
     "execution_count": 27,
     "metadata": {},
     "output_type": "execute_result"
    }
   ],
   "source": [
    "# Delete the document features that almost only have one value\n",
    "delete_features = [i for i in list_cat if \"DOCUMENT\" in i]\n",
    "not_remove = [\"FLAG_DOCUMENT_8\", \"FLAG_DOCUMENT_6\", \"FLAG_DOCUMENT_3\"] # the proporsion are better\n",
    "delete_features = [i for i in delete_features if i not in not_remove]\n",
    "delete_features.append(\"FLAG_MOBIL\") # almost only have one value\n",
    "delete_features"
   ]
  },
  {
   "cell_type": "code",
   "execution_count": 28,
   "metadata": {},
   "outputs": [],
   "source": [
    "app_train.drop(columns = delete_features, inplace = True)"
   ]
  },
  {
   "cell_type": "code",
   "execution_count": 29,
   "metadata": {},
   "outputs": [],
   "source": [
    "# Update categorical columns\n",
    "list_cat = [i for i in list_cat if i not in delete_features]"
   ]
  },
  {
   "cell_type": "code",
   "execution_count": 30,
   "metadata": {},
   "outputs": [
    {
     "data": {
      "text/plain": [
       "0"
      ]
     },
     "execution_count": 30,
     "metadata": {},
     "output_type": "execute_result"
    }
   ],
   "source": [
    "((app_train.isna().sum()) > 0).sum()"
   ]
  },
  {
   "cell_type": "code",
   "execution_count": 31,
   "metadata": {},
   "outputs": [
    {
     "data": {
      "text/plain": [
       "(307511, 63)"
      ]
     },
     "execution_count": 31,
     "metadata": {},
     "output_type": "execute_result"
    }
   ],
   "source": [
    "app_train.shape"
   ]
  },
  {
   "cell_type": "code",
   "execution_count": 32,
   "metadata": {},
   "outputs": [],
   "source": [
    "# \"XNA\" in CODE_GENDER replace by NAN\n",
    "# \"Unknown\" in NAME_FAMILY_STATUS replace by NAN\n",
    "# \"XNA\" in ORGANIZATION_TYPE replace by \"Other\"\n",
    "\n",
    "app_train[\"CODE_GENDER\"].replace(\"XNA\", np.nan, inplace = True)\n",
    "app_train[\"NAME_FAMILY_STATUS\"].replace(\"Unknown\", np.nan, inplace = True)\n",
    "app_train[\"ORGANIZATION_TYPE\"].replace(\"XNA\", \"Other\", inplace = True)"
   ]
  },
  {
   "cell_type": "code",
   "execution_count": 33,
   "metadata": {},
   "outputs": [
    {
     "data": {
      "text/plain": [
       "2"
      ]
     },
     "execution_count": 33,
     "metadata": {},
     "output_type": "execute_result"
    }
   ],
   "source": [
    "((app_train.isna().sum()) > 0).sum()"
   ]
  },
  {
   "cell_type": "code",
   "execution_count": 34,
   "metadata": {
    "scrolled": true
   },
   "outputs": [
    {
     "data": {
      "text/plain": [
       "NAME_CONTRACT_TYPE             0\n",
       "CODE_GENDER                    0\n",
       "FLAG_OWN_CAR                   0\n",
       "FLAG_OWN_REALTY                0\n",
       "NAME_TYPE_SUITE                0\n",
       "NAME_INCOME_TYPE               0\n",
       "NAME_EDUCATION_TYPE            0\n",
       "NAME_FAMILY_STATUS             0\n",
       "NAME_HOUSING_TYPE              0\n",
       "FLAG_EMP_PHONE                 0\n",
       "FLAG_WORK_PHONE                0\n",
       "FLAG_CONT_MOBILE               0\n",
       "FLAG_PHONE                     0\n",
       "FLAG_EMAIL                     0\n",
       "OCCUPATION_TYPE                0\n",
       "REGION_RATING_CLIENT           0\n",
       "REGION_RATING_CLIENT_W_CITY    0\n",
       "WEEKDAY_APPR_PROCESS_START     0\n",
       "REG_REGION_NOT_LIVE_REGION     0\n",
       "REG_REGION_NOT_WORK_REGION     0\n",
       "LIVE_REGION_NOT_WORK_REGION    0\n",
       "REG_CITY_NOT_LIVE_CITY         0\n",
       "REG_CITY_NOT_WORK_CITY         0\n",
       "LIVE_CITY_NOT_WORK_CITY        0\n",
       "ORGANIZATION_TYPE              0\n",
       "EMERGENCYSTATE_MODE            0\n",
       "FLAG_DOCUMENT_3                0\n",
       "FLAG_DOCUMENT_6                0\n",
       "FLAG_DOCUMENT_8                0\n",
       "dtype: int64"
      ]
     },
     "execution_count": 34,
     "metadata": {},
     "output_type": "execute_result"
    }
   ],
   "source": [
    "# Impute missing value in categorical data using \"mode\"\n",
    "app_train[\"CODE_GENDER\"] = app_train[\"CODE_GENDER\"].fillna(app_train[\"CODE_GENDER\"].mode()[0])\n",
    "app_train[\"NAME_FAMILY_STATUS\"] = app_train[\"NAME_FAMILY_STATUS\"].fillna(app_train[\"NAME_FAMILY_STATUS\"].mode()[0])\n",
    "app_train[list_cat].isna().sum()"
   ]
  },
  {
   "cell_type": "code",
   "execution_count": 35,
   "metadata": {},
   "outputs": [
    {
     "data": {
      "text/html": [
       "<div>\n",
       "<style scoped>\n",
       "    .dataframe tbody tr th:only-of-type {\n",
       "        vertical-align: middle;\n",
       "    }\n",
       "\n",
       "    .dataframe tbody tr th {\n",
       "        vertical-align: top;\n",
       "    }\n",
       "\n",
       "    .dataframe thead th {\n",
       "        text-align: right;\n",
       "    }\n",
       "</style>\n",
       "<table border=\"1\" class=\"dataframe\">\n",
       "  <thead>\n",
       "    <tr style=\"text-align: right;\">\n",
       "      <th></th>\n",
       "      <th>count</th>\n",
       "      <th>mean</th>\n",
       "      <th>std</th>\n",
       "      <th>min</th>\n",
       "      <th>25%</th>\n",
       "      <th>50%</th>\n",
       "      <th>75%</th>\n",
       "      <th>max</th>\n",
       "    </tr>\n",
       "  </thead>\n",
       "  <tbody>\n",
       "    <tr>\n",
       "      <th>FLAG_EMP_PHONE</th>\n",
       "      <td>307511.0</td>\n",
       "      <td>0.819889</td>\n",
       "      <td>0.384280</td>\n",
       "      <td>0.0</td>\n",
       "      <td>1.0</td>\n",
       "      <td>1.0</td>\n",
       "      <td>1.0</td>\n",
       "      <td>1.0</td>\n",
       "    </tr>\n",
       "    <tr>\n",
       "      <th>FLAG_WORK_PHONE</th>\n",
       "      <td>307511.0</td>\n",
       "      <td>0.199368</td>\n",
       "      <td>0.399526</td>\n",
       "      <td>0.0</td>\n",
       "      <td>0.0</td>\n",
       "      <td>0.0</td>\n",
       "      <td>0.0</td>\n",
       "      <td>1.0</td>\n",
       "    </tr>\n",
       "    <tr>\n",
       "      <th>FLAG_CONT_MOBILE</th>\n",
       "      <td>307511.0</td>\n",
       "      <td>0.998133</td>\n",
       "      <td>0.043164</td>\n",
       "      <td>0.0</td>\n",
       "      <td>1.0</td>\n",
       "      <td>1.0</td>\n",
       "      <td>1.0</td>\n",
       "      <td>1.0</td>\n",
       "    </tr>\n",
       "    <tr>\n",
       "      <th>FLAG_PHONE</th>\n",
       "      <td>307511.0</td>\n",
       "      <td>0.281066</td>\n",
       "      <td>0.449521</td>\n",
       "      <td>0.0</td>\n",
       "      <td>0.0</td>\n",
       "      <td>0.0</td>\n",
       "      <td>1.0</td>\n",
       "      <td>1.0</td>\n",
       "    </tr>\n",
       "    <tr>\n",
       "      <th>FLAG_EMAIL</th>\n",
       "      <td>307511.0</td>\n",
       "      <td>0.056720</td>\n",
       "      <td>0.231307</td>\n",
       "      <td>0.0</td>\n",
       "      <td>0.0</td>\n",
       "      <td>0.0</td>\n",
       "      <td>0.0</td>\n",
       "      <td>1.0</td>\n",
       "    </tr>\n",
       "    <tr>\n",
       "      <th>REGION_RATING_CLIENT</th>\n",
       "      <td>307511.0</td>\n",
       "      <td>2.052463</td>\n",
       "      <td>0.509034</td>\n",
       "      <td>1.0</td>\n",
       "      <td>2.0</td>\n",
       "      <td>2.0</td>\n",
       "      <td>2.0</td>\n",
       "      <td>3.0</td>\n",
       "    </tr>\n",
       "    <tr>\n",
       "      <th>REGION_RATING_CLIENT_W_CITY</th>\n",
       "      <td>307511.0</td>\n",
       "      <td>2.031521</td>\n",
       "      <td>0.502737</td>\n",
       "      <td>1.0</td>\n",
       "      <td>2.0</td>\n",
       "      <td>2.0</td>\n",
       "      <td>2.0</td>\n",
       "      <td>3.0</td>\n",
       "    </tr>\n",
       "    <tr>\n",
       "      <th>REG_REGION_NOT_LIVE_REGION</th>\n",
       "      <td>307511.0</td>\n",
       "      <td>0.015144</td>\n",
       "      <td>0.122126</td>\n",
       "      <td>0.0</td>\n",
       "      <td>0.0</td>\n",
       "      <td>0.0</td>\n",
       "      <td>0.0</td>\n",
       "      <td>1.0</td>\n",
       "    </tr>\n",
       "    <tr>\n",
       "      <th>REG_REGION_NOT_WORK_REGION</th>\n",
       "      <td>307511.0</td>\n",
       "      <td>0.050769</td>\n",
       "      <td>0.219526</td>\n",
       "      <td>0.0</td>\n",
       "      <td>0.0</td>\n",
       "      <td>0.0</td>\n",
       "      <td>0.0</td>\n",
       "      <td>1.0</td>\n",
       "    </tr>\n",
       "    <tr>\n",
       "      <th>LIVE_REGION_NOT_WORK_REGION</th>\n",
       "      <td>307511.0</td>\n",
       "      <td>0.040659</td>\n",
       "      <td>0.197499</td>\n",
       "      <td>0.0</td>\n",
       "      <td>0.0</td>\n",
       "      <td>0.0</td>\n",
       "      <td>0.0</td>\n",
       "      <td>1.0</td>\n",
       "    </tr>\n",
       "    <tr>\n",
       "      <th>REG_CITY_NOT_LIVE_CITY</th>\n",
       "      <td>307511.0</td>\n",
       "      <td>0.078173</td>\n",
       "      <td>0.268444</td>\n",
       "      <td>0.0</td>\n",
       "      <td>0.0</td>\n",
       "      <td>0.0</td>\n",
       "      <td>0.0</td>\n",
       "      <td>1.0</td>\n",
       "    </tr>\n",
       "    <tr>\n",
       "      <th>REG_CITY_NOT_WORK_CITY</th>\n",
       "      <td>307511.0</td>\n",
       "      <td>0.230454</td>\n",
       "      <td>0.421124</td>\n",
       "      <td>0.0</td>\n",
       "      <td>0.0</td>\n",
       "      <td>0.0</td>\n",
       "      <td>0.0</td>\n",
       "      <td>1.0</td>\n",
       "    </tr>\n",
       "    <tr>\n",
       "      <th>LIVE_CITY_NOT_WORK_CITY</th>\n",
       "      <td>307511.0</td>\n",
       "      <td>0.179555</td>\n",
       "      <td>0.383817</td>\n",
       "      <td>0.0</td>\n",
       "      <td>0.0</td>\n",
       "      <td>0.0</td>\n",
       "      <td>0.0</td>\n",
       "      <td>1.0</td>\n",
       "    </tr>\n",
       "    <tr>\n",
       "      <th>FLAG_DOCUMENT_3</th>\n",
       "      <td>307511.0</td>\n",
       "      <td>0.710023</td>\n",
       "      <td>0.453752</td>\n",
       "      <td>0.0</td>\n",
       "      <td>0.0</td>\n",
       "      <td>1.0</td>\n",
       "      <td>1.0</td>\n",
       "      <td>1.0</td>\n",
       "    </tr>\n",
       "    <tr>\n",
       "      <th>FLAG_DOCUMENT_6</th>\n",
       "      <td>307511.0</td>\n",
       "      <td>0.088055</td>\n",
       "      <td>0.283376</td>\n",
       "      <td>0.0</td>\n",
       "      <td>0.0</td>\n",
       "      <td>0.0</td>\n",
       "      <td>0.0</td>\n",
       "      <td>1.0</td>\n",
       "    </tr>\n",
       "    <tr>\n",
       "      <th>FLAG_DOCUMENT_8</th>\n",
       "      <td>307511.0</td>\n",
       "      <td>0.081376</td>\n",
       "      <td>0.273412</td>\n",
       "      <td>0.0</td>\n",
       "      <td>0.0</td>\n",
       "      <td>0.0</td>\n",
       "      <td>0.0</td>\n",
       "      <td>1.0</td>\n",
       "    </tr>\n",
       "  </tbody>\n",
       "</table>\n",
       "</div>"
      ],
      "text/plain": [
       "                                count      mean       std  min  25%  50%  75%  \\\n",
       "FLAG_EMP_PHONE               307511.0  0.819889  0.384280  0.0  1.0  1.0  1.0   \n",
       "FLAG_WORK_PHONE              307511.0  0.199368  0.399526  0.0  0.0  0.0  0.0   \n",
       "FLAG_CONT_MOBILE             307511.0  0.998133  0.043164  0.0  1.0  1.0  1.0   \n",
       "FLAG_PHONE                   307511.0  0.281066  0.449521  0.0  0.0  0.0  1.0   \n",
       "FLAG_EMAIL                   307511.0  0.056720  0.231307  0.0  0.0  0.0  0.0   \n",
       "REGION_RATING_CLIENT         307511.0  2.052463  0.509034  1.0  2.0  2.0  2.0   \n",
       "REGION_RATING_CLIENT_W_CITY  307511.0  2.031521  0.502737  1.0  2.0  2.0  2.0   \n",
       "REG_REGION_NOT_LIVE_REGION   307511.0  0.015144  0.122126  0.0  0.0  0.0  0.0   \n",
       "REG_REGION_NOT_WORK_REGION   307511.0  0.050769  0.219526  0.0  0.0  0.0  0.0   \n",
       "LIVE_REGION_NOT_WORK_REGION  307511.0  0.040659  0.197499  0.0  0.0  0.0  0.0   \n",
       "REG_CITY_NOT_LIVE_CITY       307511.0  0.078173  0.268444  0.0  0.0  0.0  0.0   \n",
       "REG_CITY_NOT_WORK_CITY       307511.0  0.230454  0.421124  0.0  0.0  0.0  0.0   \n",
       "LIVE_CITY_NOT_WORK_CITY      307511.0  0.179555  0.383817  0.0  0.0  0.0  0.0   \n",
       "FLAG_DOCUMENT_3              307511.0  0.710023  0.453752  0.0  0.0  1.0  1.0   \n",
       "FLAG_DOCUMENT_6              307511.0  0.088055  0.283376  0.0  0.0  0.0  0.0   \n",
       "FLAG_DOCUMENT_8              307511.0  0.081376  0.273412  0.0  0.0  0.0  0.0   \n",
       "\n",
       "                             max  \n",
       "FLAG_EMP_PHONE               1.0  \n",
       "FLAG_WORK_PHONE              1.0  \n",
       "FLAG_CONT_MOBILE             1.0  \n",
       "FLAG_PHONE                   1.0  \n",
       "FLAG_EMAIL                   1.0  \n",
       "REGION_RATING_CLIENT         3.0  \n",
       "REGION_RATING_CLIENT_W_CITY  3.0  \n",
       "REG_REGION_NOT_LIVE_REGION   1.0  \n",
       "REG_REGION_NOT_WORK_REGION   1.0  \n",
       "LIVE_REGION_NOT_WORK_REGION  1.0  \n",
       "REG_CITY_NOT_LIVE_CITY       1.0  \n",
       "REG_CITY_NOT_WORK_CITY       1.0  \n",
       "LIVE_CITY_NOT_WORK_CITY      1.0  \n",
       "FLAG_DOCUMENT_3              1.0  \n",
       "FLAG_DOCUMENT_6              1.0  \n",
       "FLAG_DOCUMENT_8              1.0  "
      ]
     },
     "execution_count": 35,
     "metadata": {},
     "output_type": "execute_result"
    }
   ],
   "source": [
    "app_train[list_cat].describe().T"
   ]
  },
  {
   "cell_type": "code",
   "execution_count": 36,
   "metadata": {},
   "outputs": [],
   "source": [
    "# NUMERICAL DATA"
   ]
  },
  {
   "cell_type": "code",
   "execution_count": 37,
   "metadata": {},
   "outputs": [
    {
     "data": {
      "text/html": [
       "<div>\n",
       "<style scoped>\n",
       "    .dataframe tbody tr th:only-of-type {\n",
       "        vertical-align: middle;\n",
       "    }\n",
       "\n",
       "    .dataframe tbody tr th {\n",
       "        vertical-align: top;\n",
       "    }\n",
       "\n",
       "    .dataframe thead th {\n",
       "        text-align: right;\n",
       "    }\n",
       "</style>\n",
       "<table border=\"1\" class=\"dataframe\">\n",
       "  <thead>\n",
       "    <tr style=\"text-align: right;\">\n",
       "      <th></th>\n",
       "      <th>count</th>\n",
       "      <th>mean</th>\n",
       "      <th>std</th>\n",
       "      <th>min</th>\n",
       "      <th>25%</th>\n",
       "      <th>50%</th>\n",
       "      <th>75%</th>\n",
       "      <th>max</th>\n",
       "    </tr>\n",
       "  </thead>\n",
       "  <tbody>\n",
       "    <tr>\n",
       "      <th>SK_ID_CURR</th>\n",
       "      <td>307511.0</td>\n",
       "      <td>278180.52</td>\n",
       "      <td>102790.18</td>\n",
       "      <td>100002.0</td>\n",
       "      <td>189145.50</td>\n",
       "      <td>278202.00</td>\n",
       "      <td>367142.50</td>\n",
       "      <td>4.562550e+05</td>\n",
       "    </tr>\n",
       "    <tr>\n",
       "      <th>TARGET</th>\n",
       "      <td>307511.0</td>\n",
       "      <td>0.08</td>\n",
       "      <td>0.27</td>\n",
       "      <td>0.0</td>\n",
       "      <td>0.00</td>\n",
       "      <td>0.00</td>\n",
       "      <td>0.00</td>\n",
       "      <td>1.000000e+00</td>\n",
       "    </tr>\n",
       "    <tr>\n",
       "      <th>CNT_CHILDREN</th>\n",
       "      <td>307511.0</td>\n",
       "      <td>0.42</td>\n",
       "      <td>0.72</td>\n",
       "      <td>0.0</td>\n",
       "      <td>0.00</td>\n",
       "      <td>0.00</td>\n",
       "      <td>1.00</td>\n",
       "      <td>1.900000e+01</td>\n",
       "    </tr>\n",
       "    <tr>\n",
       "      <th>AMT_INCOME_TOTAL</th>\n",
       "      <td>307511.0</td>\n",
       "      <td>168797.92</td>\n",
       "      <td>237123.15</td>\n",
       "      <td>25650.0</td>\n",
       "      <td>112500.00</td>\n",
       "      <td>147150.00</td>\n",
       "      <td>202500.00</td>\n",
       "      <td>1.170000e+08</td>\n",
       "    </tr>\n",
       "    <tr>\n",
       "      <th>AMT_CREDIT</th>\n",
       "      <td>307511.0</td>\n",
       "      <td>599026.00</td>\n",
       "      <td>402490.78</td>\n",
       "      <td>45000.0</td>\n",
       "      <td>270000.00</td>\n",
       "      <td>513531.00</td>\n",
       "      <td>808650.00</td>\n",
       "      <td>4.050000e+06</td>\n",
       "    </tr>\n",
       "    <tr>\n",
       "      <th>AMT_ANNUITY</th>\n",
       "      <td>307511.0</td>\n",
       "      <td>27108.57</td>\n",
       "      <td>14493.45</td>\n",
       "      <td>1615.5</td>\n",
       "      <td>16524.00</td>\n",
       "      <td>24903.00</td>\n",
       "      <td>34596.00</td>\n",
       "      <td>2.580255e+05</td>\n",
       "    </tr>\n",
       "    <tr>\n",
       "      <th>AMT_GOODS_PRICE</th>\n",
       "      <td>307511.0</td>\n",
       "      <td>538396.21</td>\n",
       "      <td>369279.43</td>\n",
       "      <td>40500.0</td>\n",
       "      <td>238500.00</td>\n",
       "      <td>450000.00</td>\n",
       "      <td>679500.00</td>\n",
       "      <td>4.050000e+06</td>\n",
       "    </tr>\n",
       "    <tr>\n",
       "      <th>REGION_POPULATION_RELATIVE</th>\n",
       "      <td>307511.0</td>\n",
       "      <td>0.02</td>\n",
       "      <td>0.01</td>\n",
       "      <td>0.0</td>\n",
       "      <td>0.01</td>\n",
       "      <td>0.02</td>\n",
       "      <td>0.03</td>\n",
       "      <td>7.000000e-02</td>\n",
       "    </tr>\n",
       "    <tr>\n",
       "      <th>DAYS_BIRTH</th>\n",
       "      <td>307511.0</td>\n",
       "      <td>-16037.00</td>\n",
       "      <td>4363.99</td>\n",
       "      <td>-25229.0</td>\n",
       "      <td>-19682.00</td>\n",
       "      <td>-15750.00</td>\n",
       "      <td>-12413.00</td>\n",
       "      <td>-7.489000e+03</td>\n",
       "    </tr>\n",
       "    <tr>\n",
       "      <th>DAYS_EMPLOYED</th>\n",
       "      <td>307511.0</td>\n",
       "      <td>63815.05</td>\n",
       "      <td>141275.77</td>\n",
       "      <td>-17912.0</td>\n",
       "      <td>-2760.00</td>\n",
       "      <td>-1213.00</td>\n",
       "      <td>-289.00</td>\n",
       "      <td>3.652430e+05</td>\n",
       "    </tr>\n",
       "    <tr>\n",
       "      <th>DAYS_REGISTRATION</th>\n",
       "      <td>307511.0</td>\n",
       "      <td>-4986.12</td>\n",
       "      <td>3522.89</td>\n",
       "      <td>-24672.0</td>\n",
       "      <td>-7479.50</td>\n",
       "      <td>-4504.00</td>\n",
       "      <td>-2010.00</td>\n",
       "      <td>0.000000e+00</td>\n",
       "    </tr>\n",
       "    <tr>\n",
       "      <th>DAYS_ID_PUBLISH</th>\n",
       "      <td>307511.0</td>\n",
       "      <td>-2994.20</td>\n",
       "      <td>1509.45</td>\n",
       "      <td>-7197.0</td>\n",
       "      <td>-4299.00</td>\n",
       "      <td>-3254.00</td>\n",
       "      <td>-1720.00</td>\n",
       "      <td>0.000000e+00</td>\n",
       "    </tr>\n",
       "    <tr>\n",
       "      <th>CNT_FAM_MEMBERS</th>\n",
       "      <td>307511.0</td>\n",
       "      <td>2.15</td>\n",
       "      <td>0.91</td>\n",
       "      <td>1.0</td>\n",
       "      <td>2.00</td>\n",
       "      <td>2.00</td>\n",
       "      <td>3.00</td>\n",
       "      <td>2.000000e+01</td>\n",
       "    </tr>\n",
       "    <tr>\n",
       "      <th>HOUR_APPR_PROCESS_START</th>\n",
       "      <td>307511.0</td>\n",
       "      <td>12.06</td>\n",
       "      <td>3.27</td>\n",
       "      <td>0.0</td>\n",
       "      <td>10.00</td>\n",
       "      <td>12.00</td>\n",
       "      <td>14.00</td>\n",
       "      <td>2.300000e+01</td>\n",
       "    </tr>\n",
       "    <tr>\n",
       "      <th>EXT_SOURCE_2</th>\n",
       "      <td>307511.0</td>\n",
       "      <td>0.51</td>\n",
       "      <td>0.19</td>\n",
       "      <td>0.0</td>\n",
       "      <td>0.39</td>\n",
       "      <td>0.57</td>\n",
       "      <td>0.66</td>\n",
       "      <td>8.500000e-01</td>\n",
       "    </tr>\n",
       "    <tr>\n",
       "      <th>EXT_SOURCE_3</th>\n",
       "      <td>307511.0</td>\n",
       "      <td>0.51</td>\n",
       "      <td>0.17</td>\n",
       "      <td>0.0</td>\n",
       "      <td>0.42</td>\n",
       "      <td>0.51</td>\n",
       "      <td>0.64</td>\n",
       "      <td>9.000000e-01</td>\n",
       "    </tr>\n",
       "    <tr>\n",
       "      <th>YEARS_BEGINEXPLUATATION_AVG</th>\n",
       "      <td>307511.0</td>\n",
       "      <td>0.98</td>\n",
       "      <td>0.04</td>\n",
       "      <td>0.0</td>\n",
       "      <td>0.98</td>\n",
       "      <td>0.98</td>\n",
       "      <td>0.98</td>\n",
       "      <td>1.000000e+00</td>\n",
       "    </tr>\n",
       "    <tr>\n",
       "      <th>FLOORSMAX_AVG</th>\n",
       "      <td>307511.0</td>\n",
       "      <td>0.23</td>\n",
       "      <td>0.10</td>\n",
       "      <td>0.0</td>\n",
       "      <td>0.17</td>\n",
       "      <td>0.23</td>\n",
       "      <td>0.23</td>\n",
       "      <td>1.000000e+00</td>\n",
       "    </tr>\n",
       "    <tr>\n",
       "      <th>YEARS_BEGINEXPLUATATION_MODE</th>\n",
       "      <td>307511.0</td>\n",
       "      <td>0.98</td>\n",
       "      <td>0.05</td>\n",
       "      <td>0.0</td>\n",
       "      <td>0.98</td>\n",
       "      <td>0.98</td>\n",
       "      <td>0.98</td>\n",
       "      <td>1.000000e+00</td>\n",
       "    </tr>\n",
       "    <tr>\n",
       "      <th>FLOORSMAX_MODE</th>\n",
       "      <td>307511.0</td>\n",
       "      <td>0.22</td>\n",
       "      <td>0.10</td>\n",
       "      <td>0.0</td>\n",
       "      <td>0.17</td>\n",
       "      <td>0.22</td>\n",
       "      <td>0.22</td>\n",
       "      <td>1.000000e+00</td>\n",
       "    </tr>\n",
       "    <tr>\n",
       "      <th>YEARS_BEGINEXPLUATATION_MEDI</th>\n",
       "      <td>307511.0</td>\n",
       "      <td>0.98</td>\n",
       "      <td>0.04</td>\n",
       "      <td>0.0</td>\n",
       "      <td>0.98</td>\n",
       "      <td>0.98</td>\n",
       "      <td>0.98</td>\n",
       "      <td>1.000000e+00</td>\n",
       "    </tr>\n",
       "    <tr>\n",
       "      <th>FLOORSMAX_MEDI</th>\n",
       "      <td>307511.0</td>\n",
       "      <td>0.23</td>\n",
       "      <td>0.10</td>\n",
       "      <td>0.0</td>\n",
       "      <td>0.17</td>\n",
       "      <td>0.23</td>\n",
       "      <td>0.23</td>\n",
       "      <td>1.000000e+00</td>\n",
       "    </tr>\n",
       "    <tr>\n",
       "      <th>TOTALAREA_MODE</th>\n",
       "      <td>307511.0</td>\n",
       "      <td>0.10</td>\n",
       "      <td>0.08</td>\n",
       "      <td>0.0</td>\n",
       "      <td>0.07</td>\n",
       "      <td>0.10</td>\n",
       "      <td>0.10</td>\n",
       "      <td>1.000000e+00</td>\n",
       "    </tr>\n",
       "    <tr>\n",
       "      <th>OBS_30_CNT_SOCIAL_CIRCLE</th>\n",
       "      <td>307511.0</td>\n",
       "      <td>1.42</td>\n",
       "      <td>2.40</td>\n",
       "      <td>0.0</td>\n",
       "      <td>0.00</td>\n",
       "      <td>0.00</td>\n",
       "      <td>2.00</td>\n",
       "      <td>3.480000e+02</td>\n",
       "    </tr>\n",
       "    <tr>\n",
       "      <th>DEF_30_CNT_SOCIAL_CIRCLE</th>\n",
       "      <td>307511.0</td>\n",
       "      <td>0.14</td>\n",
       "      <td>0.45</td>\n",
       "      <td>0.0</td>\n",
       "      <td>0.00</td>\n",
       "      <td>0.00</td>\n",
       "      <td>0.00</td>\n",
       "      <td>3.400000e+01</td>\n",
       "    </tr>\n",
       "    <tr>\n",
       "      <th>OBS_60_CNT_SOCIAL_CIRCLE</th>\n",
       "      <td>307511.0</td>\n",
       "      <td>1.41</td>\n",
       "      <td>2.38</td>\n",
       "      <td>0.0</td>\n",
       "      <td>0.00</td>\n",
       "      <td>0.00</td>\n",
       "      <td>2.00</td>\n",
       "      <td>3.440000e+02</td>\n",
       "    </tr>\n",
       "    <tr>\n",
       "      <th>DEF_60_CNT_SOCIAL_CIRCLE</th>\n",
       "      <td>307511.0</td>\n",
       "      <td>0.10</td>\n",
       "      <td>0.36</td>\n",
       "      <td>0.0</td>\n",
       "      <td>0.00</td>\n",
       "      <td>0.00</td>\n",
       "      <td>0.00</td>\n",
       "      <td>2.400000e+01</td>\n",
       "    </tr>\n",
       "    <tr>\n",
       "      <th>DAYS_LAST_PHONE_CHANGE</th>\n",
       "      <td>307511.0</td>\n",
       "      <td>-962.86</td>\n",
       "      <td>826.81</td>\n",
       "      <td>-4292.0</td>\n",
       "      <td>-1570.00</td>\n",
       "      <td>-757.00</td>\n",
       "      <td>-274.00</td>\n",
       "      <td>0.000000e+00</td>\n",
       "    </tr>\n",
       "    <tr>\n",
       "      <th>AMT_REQ_CREDIT_BUREAU_HOUR</th>\n",
       "      <td>307511.0</td>\n",
       "      <td>0.01</td>\n",
       "      <td>0.08</td>\n",
       "      <td>0.0</td>\n",
       "      <td>0.00</td>\n",
       "      <td>0.00</td>\n",
       "      <td>0.00</td>\n",
       "      <td>4.000000e+00</td>\n",
       "    </tr>\n",
       "    <tr>\n",
       "      <th>AMT_REQ_CREDIT_BUREAU_DAY</th>\n",
       "      <td>307511.0</td>\n",
       "      <td>0.01</td>\n",
       "      <td>0.10</td>\n",
       "      <td>0.0</td>\n",
       "      <td>0.00</td>\n",
       "      <td>0.00</td>\n",
       "      <td>0.00</td>\n",
       "      <td>9.000000e+00</td>\n",
       "    </tr>\n",
       "    <tr>\n",
       "      <th>AMT_REQ_CREDIT_BUREAU_WEEK</th>\n",
       "      <td>307511.0</td>\n",
       "      <td>0.03</td>\n",
       "      <td>0.19</td>\n",
       "      <td>0.0</td>\n",
       "      <td>0.00</td>\n",
       "      <td>0.00</td>\n",
       "      <td>0.00</td>\n",
       "      <td>8.000000e+00</td>\n",
       "    </tr>\n",
       "    <tr>\n",
       "      <th>AMT_REQ_CREDIT_BUREAU_MON</th>\n",
       "      <td>307511.0</td>\n",
       "      <td>0.27</td>\n",
       "      <td>0.85</td>\n",
       "      <td>0.0</td>\n",
       "      <td>0.00</td>\n",
       "      <td>0.00</td>\n",
       "      <td>0.27</td>\n",
       "      <td>2.700000e+01</td>\n",
       "    </tr>\n",
       "    <tr>\n",
       "      <th>AMT_REQ_CREDIT_BUREAU_QRT</th>\n",
       "      <td>307511.0</td>\n",
       "      <td>0.27</td>\n",
       "      <td>0.74</td>\n",
       "      <td>0.0</td>\n",
       "      <td>0.00</td>\n",
       "      <td>0.00</td>\n",
       "      <td>0.27</td>\n",
       "      <td>2.610000e+02</td>\n",
       "    </tr>\n",
       "    <tr>\n",
       "      <th>AMT_REQ_CREDIT_BUREAU_YEAR</th>\n",
       "      <td>307511.0</td>\n",
       "      <td>1.90</td>\n",
       "      <td>1.74</td>\n",
       "      <td>0.0</td>\n",
       "      <td>1.00</td>\n",
       "      <td>1.90</td>\n",
       "      <td>3.00</td>\n",
       "      <td>2.500000e+01</td>\n",
       "    </tr>\n",
       "  </tbody>\n",
       "</table>\n",
       "</div>"
      ],
      "text/plain": [
       "                                 count       mean        std       min  \\\n",
       "SK_ID_CURR                    307511.0  278180.52  102790.18  100002.0   \n",
       "TARGET                        307511.0       0.08       0.27       0.0   \n",
       "CNT_CHILDREN                  307511.0       0.42       0.72       0.0   \n",
       "AMT_INCOME_TOTAL              307511.0  168797.92  237123.15   25650.0   \n",
       "AMT_CREDIT                    307511.0  599026.00  402490.78   45000.0   \n",
       "AMT_ANNUITY                   307511.0   27108.57   14493.45    1615.5   \n",
       "AMT_GOODS_PRICE               307511.0  538396.21  369279.43   40500.0   \n",
       "REGION_POPULATION_RELATIVE    307511.0       0.02       0.01       0.0   \n",
       "DAYS_BIRTH                    307511.0  -16037.00    4363.99  -25229.0   \n",
       "DAYS_EMPLOYED                 307511.0   63815.05  141275.77  -17912.0   \n",
       "DAYS_REGISTRATION             307511.0   -4986.12    3522.89  -24672.0   \n",
       "DAYS_ID_PUBLISH               307511.0   -2994.20    1509.45   -7197.0   \n",
       "CNT_FAM_MEMBERS               307511.0       2.15       0.91       1.0   \n",
       "HOUR_APPR_PROCESS_START       307511.0      12.06       3.27       0.0   \n",
       "EXT_SOURCE_2                  307511.0       0.51       0.19       0.0   \n",
       "EXT_SOURCE_3                  307511.0       0.51       0.17       0.0   \n",
       "YEARS_BEGINEXPLUATATION_AVG   307511.0       0.98       0.04       0.0   \n",
       "FLOORSMAX_AVG                 307511.0       0.23       0.10       0.0   \n",
       "YEARS_BEGINEXPLUATATION_MODE  307511.0       0.98       0.05       0.0   \n",
       "FLOORSMAX_MODE                307511.0       0.22       0.10       0.0   \n",
       "YEARS_BEGINEXPLUATATION_MEDI  307511.0       0.98       0.04       0.0   \n",
       "FLOORSMAX_MEDI                307511.0       0.23       0.10       0.0   \n",
       "TOTALAREA_MODE                307511.0       0.10       0.08       0.0   \n",
       "OBS_30_CNT_SOCIAL_CIRCLE      307511.0       1.42       2.40       0.0   \n",
       "DEF_30_CNT_SOCIAL_CIRCLE      307511.0       0.14       0.45       0.0   \n",
       "OBS_60_CNT_SOCIAL_CIRCLE      307511.0       1.41       2.38       0.0   \n",
       "DEF_60_CNT_SOCIAL_CIRCLE      307511.0       0.10       0.36       0.0   \n",
       "DAYS_LAST_PHONE_CHANGE        307511.0    -962.86     826.81   -4292.0   \n",
       "AMT_REQ_CREDIT_BUREAU_HOUR    307511.0       0.01       0.08       0.0   \n",
       "AMT_REQ_CREDIT_BUREAU_DAY     307511.0       0.01       0.10       0.0   \n",
       "AMT_REQ_CREDIT_BUREAU_WEEK    307511.0       0.03       0.19       0.0   \n",
       "AMT_REQ_CREDIT_BUREAU_MON     307511.0       0.27       0.85       0.0   \n",
       "AMT_REQ_CREDIT_BUREAU_QRT     307511.0       0.27       0.74       0.0   \n",
       "AMT_REQ_CREDIT_BUREAU_YEAR    307511.0       1.90       1.74       0.0   \n",
       "\n",
       "                                    25%        50%        75%           max  \n",
       "SK_ID_CURR                    189145.50  278202.00  367142.50  4.562550e+05  \n",
       "TARGET                             0.00       0.00       0.00  1.000000e+00  \n",
       "CNT_CHILDREN                       0.00       0.00       1.00  1.900000e+01  \n",
       "AMT_INCOME_TOTAL              112500.00  147150.00  202500.00  1.170000e+08  \n",
       "AMT_CREDIT                    270000.00  513531.00  808650.00  4.050000e+06  \n",
       "AMT_ANNUITY                    16524.00   24903.00   34596.00  2.580255e+05  \n",
       "AMT_GOODS_PRICE               238500.00  450000.00  679500.00  4.050000e+06  \n",
       "REGION_POPULATION_RELATIVE         0.01       0.02       0.03  7.000000e-02  \n",
       "DAYS_BIRTH                    -19682.00  -15750.00  -12413.00 -7.489000e+03  \n",
       "DAYS_EMPLOYED                  -2760.00   -1213.00    -289.00  3.652430e+05  \n",
       "DAYS_REGISTRATION              -7479.50   -4504.00   -2010.00  0.000000e+00  \n",
       "DAYS_ID_PUBLISH                -4299.00   -3254.00   -1720.00  0.000000e+00  \n",
       "CNT_FAM_MEMBERS                    2.00       2.00       3.00  2.000000e+01  \n",
       "HOUR_APPR_PROCESS_START           10.00      12.00      14.00  2.300000e+01  \n",
       "EXT_SOURCE_2                       0.39       0.57       0.66  8.500000e-01  \n",
       "EXT_SOURCE_3                       0.42       0.51       0.64  9.000000e-01  \n",
       "YEARS_BEGINEXPLUATATION_AVG        0.98       0.98       0.98  1.000000e+00  \n",
       "FLOORSMAX_AVG                      0.17       0.23       0.23  1.000000e+00  \n",
       "YEARS_BEGINEXPLUATATION_MODE       0.98       0.98       0.98  1.000000e+00  \n",
       "FLOORSMAX_MODE                     0.17       0.22       0.22  1.000000e+00  \n",
       "YEARS_BEGINEXPLUATATION_MEDI       0.98       0.98       0.98  1.000000e+00  \n",
       "FLOORSMAX_MEDI                     0.17       0.23       0.23  1.000000e+00  \n",
       "TOTALAREA_MODE                     0.07       0.10       0.10  1.000000e+00  \n",
       "OBS_30_CNT_SOCIAL_CIRCLE           0.00       0.00       2.00  3.480000e+02  \n",
       "DEF_30_CNT_SOCIAL_CIRCLE           0.00       0.00       0.00  3.400000e+01  \n",
       "OBS_60_CNT_SOCIAL_CIRCLE           0.00       0.00       2.00  3.440000e+02  \n",
       "DEF_60_CNT_SOCIAL_CIRCLE           0.00       0.00       0.00  2.400000e+01  \n",
       "DAYS_LAST_PHONE_CHANGE         -1570.00    -757.00    -274.00  0.000000e+00  \n",
       "AMT_REQ_CREDIT_BUREAU_HOUR         0.00       0.00       0.00  4.000000e+00  \n",
       "AMT_REQ_CREDIT_BUREAU_DAY          0.00       0.00       0.00  9.000000e+00  \n",
       "AMT_REQ_CREDIT_BUREAU_WEEK         0.00       0.00       0.00  8.000000e+00  \n",
       "AMT_REQ_CREDIT_BUREAU_MON          0.00       0.00       0.27  2.700000e+01  \n",
       "AMT_REQ_CREDIT_BUREAU_QRT          0.00       0.00       0.27  2.610000e+02  \n",
       "AMT_REQ_CREDIT_BUREAU_YEAR         1.00       1.90       3.00  2.500000e+01  "
      ]
     },
     "execution_count": 37,
     "metadata": {},
     "output_type": "execute_result"
    }
   ],
   "source": [
    "app_train[list_num].describe().round(2).T"
   ]
  },
  {
   "cell_type": "code",
   "execution_count": 38,
   "metadata": {},
   "outputs": [
    {
     "data": {
      "text/plain": [
       "(307511, 63)"
      ]
     },
     "execution_count": 38,
     "metadata": {},
     "output_type": "execute_result"
    }
   ],
   "source": [
    "app_train.shape"
   ]
  },
  {
   "cell_type": "code",
   "execution_count": 39,
   "metadata": {},
   "outputs": [
    {
     "data": {
      "text/plain": [
       "0"
      ]
     },
     "execution_count": 39,
     "metadata": {},
     "output_type": "execute_result"
    }
   ],
   "source": [
    "app_train.columns.duplicated().sum()"
   ]
  },
  {
   "cell_type": "markdown",
   "metadata": {},
   "source": [
    "### 3. Feature Selection"
   ]
  },
  {
   "cell_type": "code",
   "execution_count": 40,
   "metadata": {},
   "outputs": [],
   "source": [
    "# CORRELATION\n",
    "# Numerical & Categorical -> ANOVA\n",
    "# Categorical & Categorical -> Chi Square"
   ]
  },
  {
   "cell_type": "markdown",
   "metadata": {},
   "source": [
    "#### 3a. ANOVA"
   ]
  },
  {
   "cell_type": "code",
   "execution_count": 42,
   "metadata": {},
   "outputs": [
    {
     "name": "stdout",
     "output_type": "stream",
     "text": [
      "P-value of Anova: 1.9224915500910093e-26\n"
     ]
    }
   ],
   "source": [
    "# Assumption (H0) is between 2 variables are NOT correlated\n",
    "# Reject H0 if p-value < 0.05 (Reject = correlated)\n",
    "\n",
    "category_group = app_train.groupby(\"TARGET\")[\"CNT_CHILDREN\"].apply(list)\n",
    "anova_result = f_oneway(*category_group)\n",
    "print(\"P-value of Anova:\", anova_result[1])"
   ]
  },
  {
   "cell_type": "code",
   "execution_count": 43,
   "metadata": {},
   "outputs": [
    {
     "name": "stderr",
     "output_type": "stream",
     "text": [
      "/Users/wanda/anaconda3/lib/python3.11/site-packages/scipy/stats/_stats_py.py:4167: ConstantInputWarning: Each of the input arrays is constant;the F statistic is not defined or infinite\n",
      "  warnings.warn(stats.ConstantInputWarning(msg))\n"
     ]
    }
   ],
   "source": [
    "dict_anova = {}\n",
    "for i in list_num:\n",
    "    category_group = app_train.groupby(\"TARGET\")[i].apply(list)\n",
    "    pvalue_anova = f_oneway(*category_group)[1]\n",
    "    dict_anova[i] = pvalue_anova"
   ]
  },
  {
   "cell_type": "code",
   "execution_count": 44,
   "metadata": {},
   "outputs": [
    {
     "data": {
      "text/plain": [
       "{'SK_ID_CURR': 0.24231496893115526,\n",
       " 'TARGET': 0.0,\n",
       " 'CNT_CHILDREN': 1.9224915500910093e-26,\n",
       " 'AMT_INCOME_TOTAL': 0.02723796087829524,\n",
       " 'AMT_CREDIT': 1.1474602724260586e-63,\n",
       " 'AMT_ANNUITY': 1.1815936484710046e-12,\n",
       " 'AMT_GOODS_PRICE': 4.1013948936918764e-107,\n",
       " 'REGION_POPULATION_RELATIVE': 9.582701564553064e-95,\n",
       " 'DAYS_BIRTH': 0.0,\n",
       " 'DAYS_EMPLOYED': 3.6311730827265075e-137,\n",
       " 'DAYS_REGISTRATION': 6.0365534541554926e-120,\n",
       " 'DAYS_ID_PUBLISH': 2.527523814198052e-179,\n",
       " 'CNT_FAM_MEMBERS': 2.4485092616990623e-07,\n",
       " 'HOUR_APPR_PROCESS_START': 5.826823528542842e-41,\n",
       " 'EXT_SOURCE_2': 0.0,\n",
       " 'EXT_SOURCE_3': 0.0,\n",
       " 'YEARS_BEGINEXPLUATATION_AVG': 0.00030080320356455637,\n",
       " 'FLOORSMAX_AVG': 8.833929163271674e-59,\n",
       " 'YEARS_BEGINEXPLUATATION_MODE': 0.0007857771365762672,\n",
       " 'FLOORSMAX_MODE': 8.734258610027192e-57,\n",
       " 'YEARS_BEGINEXPLUATATION_MEDI': 0.00020462635987650627,\n",
       " 'FLOORSMAX_MEDI': 3.583899853939172e-58,\n",
       " 'TOTALAREA_MODE': 4.520533398298308e-34,\n",
       " 'OBS_30_CNT_SOCIAL_CIRCLE': 4.2083174080918836e-07,\n",
       " 'DEF_30_CNT_SOCIAL_CIRCLE': 1.9282236658471134e-71,\n",
       " 'OBS_60_CNT_SOCIAL_CIRCLE': 5.758343188747271e-07,\n",
       " 'DEF_60_CNT_SOCIAL_CIRCLE': 2.600710458865681e-67,\n",
       " 'DAYS_LAST_PHONE_CHANGE': 3.1837199188792205e-206,\n",
       " 'AMT_REQ_CREDIT_BUREAU_HOUR': 0.6382568757674145,\n",
       " 'AMT_REQ_CREDIT_BUREAU_DAY': 0.17177647564740878,\n",
       " 'AMT_REQ_CREDIT_BUREAU_WEEK': 0.6906113957174211,\n",
       " 'AMT_REQ_CREDIT_BUREAU_MON': 3.0271951830348865e-10,\n",
       " 'AMT_REQ_CREDIT_BUREAU_QRT': 0.3069384507085001,\n",
       " 'AMT_REQ_CREDIT_BUREAU_YEAR': 7.402835758528336e-24}"
      ]
     },
     "execution_count": 44,
     "metadata": {},
     "output_type": "execute_result"
    }
   ],
   "source": [
    "dict_anova"
   ]
  },
  {
   "cell_type": "markdown",
   "metadata": {},
   "source": [
    "#### 3b. Chi Square"
   ]
  },
  {
   "cell_type": "code",
   "execution_count": 45,
   "metadata": {},
   "outputs": [
    {
     "name": "stdout",
     "output_type": "stream",
     "text": [
      "P-value of Chi Square: 4.183493188620687e-202\n"
     ]
    }
   ],
   "source": [
    "# Assumption (H0) is between 2 variables are NOT correlated\n",
    "# Reject H0 if p-value < 0.05 (Reject = correlated)\n",
    "\n",
    "crosstab_result = pd.crosstab(index = app_train[\"CODE_GENDER\"], \n",
    "                              columns = app_train[\"TARGET\"])\n",
    "chisquare_result = chi2_contingency(crosstab_result)\n",
    "print(\"P-value of Chi Square:\", chisquare_result[1])"
   ]
  },
  {
   "cell_type": "code",
   "execution_count": 46,
   "metadata": {},
   "outputs": [],
   "source": [
    "dict_chisquare = {}\n",
    "for i in list_cat:\n",
    "    crosstab_result = pd.crosstab(index = app_train[i], \n",
    "                                  columns = app_train[\"TARGET\"])\n",
    "    pvalue_chisquare = chi2_contingency(crosstab_result)[1]\n",
    "    dict_chisquare[i] = pvalue_chisquare"
   ]
  },
  {
   "cell_type": "code",
   "execution_count": 47,
   "metadata": {},
   "outputs": [
    {
     "data": {
      "text/plain": [
       "{'NAME_CONTRACT_TYPE': 1.0235150721172847e-65,\n",
       " 'CODE_GENDER': 4.183493188620687e-202,\n",
       " 'FLAG_OWN_CAR': 9.330994431109667e-34,\n",
       " 'FLAG_OWN_REALTY': 0.0006681470317545887,\n",
       " 'NAME_TYPE_SUITE': 1.669680344640335e-05,\n",
       " 'NAME_INCOME_TYPE': 1.9281456056861122e-266,\n",
       " 'NAME_EDUCATION_TYPE': 2.4476812052198174e-219,\n",
       " 'NAME_FAMILY_STATUS': 6.983958115483933e-108,\n",
       " 'NAME_HOUSING_TYPE': 1.0990890032617707e-88,\n",
       " 'FLAG_EMP_PHONE': 2.5306059279614537e-143,\n",
       " 'FLAG_WORK_PHONE': 2.6758000919452704e-56,\n",
       " 'FLAG_CONT_MOBILE': 0.8976989816319643,\n",
       " 'FLAG_PHONE': 9.489418049556951e-40,\n",
       " 'FLAG_EMAIL': 0.3366632895181666,\n",
       " 'OCCUPATION_TYPE': 3.4203518801583733e-243,\n",
       " 'REGION_RATING_CLIENT': 1.8283164955910817e-232,\n",
       " 'REGION_RATING_CLIENT_W_CITY': 5.05571529094165e-249,\n",
       " 'WEEKDAY_APPR_PROCESS_START': 0.01744736931389504,\n",
       " 'REG_REGION_NOT_LIVE_REGION': 0.0021769580022904804,\n",
       " 'REG_REGION_NOT_WORK_REGION': 0.0001258375420219184,\n",
       " 'LIVE_REGION_NOT_WORK_REGION': 0.12192447948152679,\n",
       " 'REG_CITY_NOT_LIVE_CITY': 1.0752352295806783e-133,\n",
       " 'REG_CITY_NOT_WORK_CITY': 7.98127695863221e-176,\n",
       " 'LIVE_CITY_NOT_WORK_CITY': 1.2629385266970663e-72,\n",
       " 'ORGANIZATION_TYPE': 1.6120155093065654e-281,\n",
       " 'EMERGENCYSTATE_MODE': 0.008300432837195271,\n",
       " 'FLAG_DOCUMENT_3': 1.8557477135709125e-133,\n",
       " 'FLAG_DOCUMENT_6': 1.425605347566481e-56,\n",
       " 'FLAG_DOCUMENT_8': 8.724696176376265e-06}"
      ]
     },
     "execution_count": 47,
     "metadata": {},
     "output_type": "execute_result"
    }
   ],
   "source": [
    "dict_chisquare"
   ]
  },
  {
   "cell_type": "code",
   "execution_count": 48,
   "metadata": {},
   "outputs": [
    {
     "data": {
      "text/plain": [
       "(34, 29)"
      ]
     },
     "execution_count": 48,
     "metadata": {},
     "output_type": "execute_result"
    }
   ],
   "source": [
    "len(dict_anova), len(dict_chisquare)"
   ]
  },
  {
   "cell_type": "code",
   "execution_count": 49,
   "metadata": {},
   "outputs": [
    {
     "data": {
      "text/plain": [
       "63"
      ]
     },
     "execution_count": 49,
     "metadata": {},
     "output_type": "execute_result"
    }
   ],
   "source": [
    "# Combine p_value from ANOVA and Chi Square\n",
    "pvalue_all = dict(dict_anova)\n",
    "pvalue_all.update(dict_chisquare)\n",
    "len(pvalue_all)"
   ]
  },
  {
   "cell_type": "code",
   "execution_count": 50,
   "metadata": {},
   "outputs": [],
   "source": [
    "# Just select variables that have correlation with \"TARGET\"\n",
    "correlated_var = []\n",
    "for var, pvalue in pvalue_all.items():\n",
    "    if pvalue <= 0.05:\n",
    "        correlated_var.append(var)\n",
    "        \n",
    "correlated_var.insert(0, \"SK_ID_CURR\")"
   ]
  },
  {
   "cell_type": "code",
   "execution_count": 51,
   "metadata": {},
   "outputs": [
    {
     "data": {
      "text/plain": [
       "56"
      ]
     },
     "execution_count": 51,
     "metadata": {},
     "output_type": "execute_result"
    }
   ],
   "source": [
    "len(correlated_var)"
   ]
  },
  {
   "cell_type": "code",
   "execution_count": 52,
   "metadata": {
    "scrolled": true
   },
   "outputs": [
    {
     "data": {
      "text/plain": [
       "['SK_ID_CURR',\n",
       " 'TARGET',\n",
       " 'CNT_CHILDREN',\n",
       " 'AMT_INCOME_TOTAL',\n",
       " 'AMT_CREDIT',\n",
       " 'AMT_ANNUITY',\n",
       " 'AMT_GOODS_PRICE',\n",
       " 'REGION_POPULATION_RELATIVE',\n",
       " 'DAYS_BIRTH',\n",
       " 'DAYS_EMPLOYED',\n",
       " 'DAYS_REGISTRATION',\n",
       " 'DAYS_ID_PUBLISH',\n",
       " 'CNT_FAM_MEMBERS',\n",
       " 'HOUR_APPR_PROCESS_START',\n",
       " 'EXT_SOURCE_2',\n",
       " 'EXT_SOURCE_3',\n",
       " 'YEARS_BEGINEXPLUATATION_AVG',\n",
       " 'FLOORSMAX_AVG',\n",
       " 'YEARS_BEGINEXPLUATATION_MODE',\n",
       " 'FLOORSMAX_MODE',\n",
       " 'YEARS_BEGINEXPLUATATION_MEDI',\n",
       " 'FLOORSMAX_MEDI',\n",
       " 'TOTALAREA_MODE',\n",
       " 'OBS_30_CNT_SOCIAL_CIRCLE',\n",
       " 'DEF_30_CNT_SOCIAL_CIRCLE',\n",
       " 'OBS_60_CNT_SOCIAL_CIRCLE',\n",
       " 'DEF_60_CNT_SOCIAL_CIRCLE',\n",
       " 'DAYS_LAST_PHONE_CHANGE',\n",
       " 'AMT_REQ_CREDIT_BUREAU_MON',\n",
       " 'AMT_REQ_CREDIT_BUREAU_YEAR',\n",
       " 'NAME_CONTRACT_TYPE',\n",
       " 'CODE_GENDER',\n",
       " 'FLAG_OWN_CAR',\n",
       " 'FLAG_OWN_REALTY',\n",
       " 'NAME_TYPE_SUITE',\n",
       " 'NAME_INCOME_TYPE',\n",
       " 'NAME_EDUCATION_TYPE',\n",
       " 'NAME_FAMILY_STATUS',\n",
       " 'NAME_HOUSING_TYPE',\n",
       " 'FLAG_EMP_PHONE',\n",
       " 'FLAG_WORK_PHONE',\n",
       " 'FLAG_PHONE',\n",
       " 'OCCUPATION_TYPE',\n",
       " 'REGION_RATING_CLIENT',\n",
       " 'REGION_RATING_CLIENT_W_CITY',\n",
       " 'WEEKDAY_APPR_PROCESS_START',\n",
       " 'REG_REGION_NOT_LIVE_REGION',\n",
       " 'REG_REGION_NOT_WORK_REGION',\n",
       " 'REG_CITY_NOT_LIVE_CITY',\n",
       " 'REG_CITY_NOT_WORK_CITY',\n",
       " 'LIVE_CITY_NOT_WORK_CITY',\n",
       " 'ORGANIZATION_TYPE',\n",
       " 'EMERGENCYSTATE_MODE',\n",
       " 'FLAG_DOCUMENT_3',\n",
       " 'FLAG_DOCUMENT_6',\n",
       " 'FLAG_DOCUMENT_8']"
      ]
     },
     "execution_count": 52,
     "metadata": {},
     "output_type": "execute_result"
    }
   ],
   "source": [
    "correlated_var"
   ]
  },
  {
   "cell_type": "code",
   "execution_count": 53,
   "metadata": {},
   "outputs": [
    {
     "data": {
      "text/plain": [
       "['list_cat.joblib']"
      ]
     },
     "execution_count": 53,
     "metadata": {},
     "output_type": "execute_result"
    }
   ],
   "source": [
    "# Update numerical and categorical columns\n",
    "list_num = [i for i in list_num if i in correlated_var]\n",
    "list_cat = [i for i in list_cat if i in correlated_var]\n",
    "\n",
    "# save\n",
    "joblib.dump(list_num, \"save_files/list_num.joblib\")\n",
    "joblib.dump(list_cat, \"save_files/list_cat.joblib\")"
   ]
  },
  {
   "cell_type": "code",
   "execution_count": 54,
   "metadata": {},
   "outputs": [
    {
     "data": {
      "text/plain": [
       "(307511, 56)"
      ]
     },
     "execution_count": 54,
     "metadata": {},
     "output_type": "execute_result"
    }
   ],
   "source": [
    "app_train = app_train[correlated_var]\n",
    "app_train.shape"
   ]
  },
  {
   "cell_type": "code",
   "execution_count": 55,
   "metadata": {},
   "outputs": [],
   "source": [
    "app_train.to_csv(\"save_files/data_train_with_correlated_var.csv\", index = False)"
   ]
  },
  {
   "cell_type": "markdown",
   "metadata": {},
   "source": [
    "### 4. Handling Categorical Data"
   ]
  },
  {
   "cell_type": "code",
   "execution_count": 104,
   "metadata": {},
   "outputs": [
    {
     "data": {
      "text/html": [
       "<div>\n",
       "<style scoped>\n",
       "    .dataframe tbody tr th:only-of-type {\n",
       "        vertical-align: middle;\n",
       "    }\n",
       "\n",
       "    .dataframe tbody tr th {\n",
       "        vertical-align: top;\n",
       "    }\n",
       "\n",
       "    .dataframe thead th {\n",
       "        text-align: right;\n",
       "    }\n",
       "</style>\n",
       "<table border=\"1\" class=\"dataframe\">\n",
       "  <thead>\n",
       "    <tr style=\"text-align: right;\">\n",
       "      <th></th>\n",
       "      <th>SK_ID_CURR</th>\n",
       "      <th>TARGET</th>\n",
       "      <th>CNT_CHILDREN</th>\n",
       "      <th>AMT_INCOME_TOTAL</th>\n",
       "      <th>AMT_CREDIT</th>\n",
       "      <th>AMT_ANNUITY</th>\n",
       "      <th>AMT_GOODS_PRICE</th>\n",
       "      <th>REGION_POPULATION_RELATIVE</th>\n",
       "      <th>DAYS_BIRTH</th>\n",
       "      <th>DAYS_EMPLOYED</th>\n",
       "      <th>...</th>\n",
       "      <th>REG_REGION_NOT_LIVE_REGION</th>\n",
       "      <th>REG_REGION_NOT_WORK_REGION</th>\n",
       "      <th>REG_CITY_NOT_LIVE_CITY</th>\n",
       "      <th>REG_CITY_NOT_WORK_CITY</th>\n",
       "      <th>LIVE_CITY_NOT_WORK_CITY</th>\n",
       "      <th>ORGANIZATION_TYPE</th>\n",
       "      <th>EMERGENCYSTATE_MODE</th>\n",
       "      <th>FLAG_DOCUMENT_3</th>\n",
       "      <th>FLAG_DOCUMENT_6</th>\n",
       "      <th>FLAG_DOCUMENT_8</th>\n",
       "    </tr>\n",
       "  </thead>\n",
       "  <tbody>\n",
       "    <tr>\n",
       "      <th>0</th>\n",
       "      <td>100002</td>\n",
       "      <td>1</td>\n",
       "      <td>0</td>\n",
       "      <td>202500.0</td>\n",
       "      <td>406597.5</td>\n",
       "      <td>24700.5</td>\n",
       "      <td>351000.0</td>\n",
       "      <td>0.018801</td>\n",
       "      <td>-9461</td>\n",
       "      <td>-637</td>\n",
       "      <td>...</td>\n",
       "      <td>0</td>\n",
       "      <td>0</td>\n",
       "      <td>0</td>\n",
       "      <td>0</td>\n",
       "      <td>0</td>\n",
       "      <td>Business Entity Type 3</td>\n",
       "      <td>No</td>\n",
       "      <td>1</td>\n",
       "      <td>0</td>\n",
       "      <td>0</td>\n",
       "    </tr>\n",
       "    <tr>\n",
       "      <th>1</th>\n",
       "      <td>100003</td>\n",
       "      <td>0</td>\n",
       "      <td>0</td>\n",
       "      <td>270000.0</td>\n",
       "      <td>1293502.5</td>\n",
       "      <td>35698.5</td>\n",
       "      <td>1129500.0</td>\n",
       "      <td>0.003541</td>\n",
       "      <td>-16765</td>\n",
       "      <td>-1188</td>\n",
       "      <td>...</td>\n",
       "      <td>0</td>\n",
       "      <td>0</td>\n",
       "      <td>0</td>\n",
       "      <td>0</td>\n",
       "      <td>0</td>\n",
       "      <td>School</td>\n",
       "      <td>No</td>\n",
       "      <td>1</td>\n",
       "      <td>0</td>\n",
       "      <td>0</td>\n",
       "    </tr>\n",
       "    <tr>\n",
       "      <th>2</th>\n",
       "      <td>100004</td>\n",
       "      <td>0</td>\n",
       "      <td>0</td>\n",
       "      <td>67500.0</td>\n",
       "      <td>135000.0</td>\n",
       "      <td>6750.0</td>\n",
       "      <td>135000.0</td>\n",
       "      <td>0.010032</td>\n",
       "      <td>-19046</td>\n",
       "      <td>-225</td>\n",
       "      <td>...</td>\n",
       "      <td>0</td>\n",
       "      <td>0</td>\n",
       "      <td>0</td>\n",
       "      <td>0</td>\n",
       "      <td>0</td>\n",
       "      <td>Government</td>\n",
       "      <td>No</td>\n",
       "      <td>0</td>\n",
       "      <td>0</td>\n",
       "      <td>0</td>\n",
       "    </tr>\n",
       "    <tr>\n",
       "      <th>3</th>\n",
       "      <td>100006</td>\n",
       "      <td>0</td>\n",
       "      <td>0</td>\n",
       "      <td>135000.0</td>\n",
       "      <td>312682.5</td>\n",
       "      <td>29686.5</td>\n",
       "      <td>297000.0</td>\n",
       "      <td>0.008019</td>\n",
       "      <td>-19005</td>\n",
       "      <td>-3039</td>\n",
       "      <td>...</td>\n",
       "      <td>0</td>\n",
       "      <td>0</td>\n",
       "      <td>0</td>\n",
       "      <td>0</td>\n",
       "      <td>0</td>\n",
       "      <td>Business Entity Type 3</td>\n",
       "      <td>No</td>\n",
       "      <td>1</td>\n",
       "      <td>0</td>\n",
       "      <td>0</td>\n",
       "    </tr>\n",
       "    <tr>\n",
       "      <th>4</th>\n",
       "      <td>100007</td>\n",
       "      <td>0</td>\n",
       "      <td>0</td>\n",
       "      <td>121500.0</td>\n",
       "      <td>513000.0</td>\n",
       "      <td>21865.5</td>\n",
       "      <td>513000.0</td>\n",
       "      <td>0.028663</td>\n",
       "      <td>-19932</td>\n",
       "      <td>-3038</td>\n",
       "      <td>...</td>\n",
       "      <td>0</td>\n",
       "      <td>0</td>\n",
       "      <td>0</td>\n",
       "      <td>1</td>\n",
       "      <td>1</td>\n",
       "      <td>Religion</td>\n",
       "      <td>No</td>\n",
       "      <td>0</td>\n",
       "      <td>0</td>\n",
       "      <td>1</td>\n",
       "    </tr>\n",
       "    <tr>\n",
       "      <th>...</th>\n",
       "      <td>...</td>\n",
       "      <td>...</td>\n",
       "      <td>...</td>\n",
       "      <td>...</td>\n",
       "      <td>...</td>\n",
       "      <td>...</td>\n",
       "      <td>...</td>\n",
       "      <td>...</td>\n",
       "      <td>...</td>\n",
       "      <td>...</td>\n",
       "      <td>...</td>\n",
       "      <td>...</td>\n",
       "      <td>...</td>\n",
       "      <td>...</td>\n",
       "      <td>...</td>\n",
       "      <td>...</td>\n",
       "      <td>...</td>\n",
       "      <td>...</td>\n",
       "      <td>...</td>\n",
       "      <td>...</td>\n",
       "      <td>...</td>\n",
       "    </tr>\n",
       "    <tr>\n",
       "      <th>307506</th>\n",
       "      <td>456251</td>\n",
       "      <td>0</td>\n",
       "      <td>0</td>\n",
       "      <td>157500.0</td>\n",
       "      <td>254700.0</td>\n",
       "      <td>27558.0</td>\n",
       "      <td>225000.0</td>\n",
       "      <td>0.032561</td>\n",
       "      <td>-9327</td>\n",
       "      <td>-236</td>\n",
       "      <td>...</td>\n",
       "      <td>0</td>\n",
       "      <td>0</td>\n",
       "      <td>0</td>\n",
       "      <td>0</td>\n",
       "      <td>0</td>\n",
       "      <td>Services</td>\n",
       "      <td>No</td>\n",
       "      <td>0</td>\n",
       "      <td>0</td>\n",
       "      <td>1</td>\n",
       "    </tr>\n",
       "    <tr>\n",
       "      <th>307507</th>\n",
       "      <td>456252</td>\n",
       "      <td>0</td>\n",
       "      <td>0</td>\n",
       "      <td>72000.0</td>\n",
       "      <td>269550.0</td>\n",
       "      <td>12001.5</td>\n",
       "      <td>225000.0</td>\n",
       "      <td>0.025164</td>\n",
       "      <td>-20775</td>\n",
       "      <td>365243</td>\n",
       "      <td>...</td>\n",
       "      <td>0</td>\n",
       "      <td>0</td>\n",
       "      <td>0</td>\n",
       "      <td>0</td>\n",
       "      <td>0</td>\n",
       "      <td>Other</td>\n",
       "      <td>No</td>\n",
       "      <td>1</td>\n",
       "      <td>0</td>\n",
       "      <td>0</td>\n",
       "    </tr>\n",
       "    <tr>\n",
       "      <th>307508</th>\n",
       "      <td>456253</td>\n",
       "      <td>0</td>\n",
       "      <td>0</td>\n",
       "      <td>153000.0</td>\n",
       "      <td>677664.0</td>\n",
       "      <td>29979.0</td>\n",
       "      <td>585000.0</td>\n",
       "      <td>0.005002</td>\n",
       "      <td>-14966</td>\n",
       "      <td>-7921</td>\n",
       "      <td>...</td>\n",
       "      <td>0</td>\n",
       "      <td>0</td>\n",
       "      <td>0</td>\n",
       "      <td>1</td>\n",
       "      <td>1</td>\n",
       "      <td>School</td>\n",
       "      <td>No</td>\n",
       "      <td>1</td>\n",
       "      <td>0</td>\n",
       "      <td>0</td>\n",
       "    </tr>\n",
       "    <tr>\n",
       "      <th>307509</th>\n",
       "      <td>456254</td>\n",
       "      <td>1</td>\n",
       "      <td>0</td>\n",
       "      <td>171000.0</td>\n",
       "      <td>370107.0</td>\n",
       "      <td>20205.0</td>\n",
       "      <td>319500.0</td>\n",
       "      <td>0.005313</td>\n",
       "      <td>-11961</td>\n",
       "      <td>-4786</td>\n",
       "      <td>...</td>\n",
       "      <td>0</td>\n",
       "      <td>0</td>\n",
       "      <td>1</td>\n",
       "      <td>1</td>\n",
       "      <td>0</td>\n",
       "      <td>Business Entity Type 1</td>\n",
       "      <td>No</td>\n",
       "      <td>1</td>\n",
       "      <td>0</td>\n",
       "      <td>0</td>\n",
       "    </tr>\n",
       "    <tr>\n",
       "      <th>307510</th>\n",
       "      <td>456255</td>\n",
       "      <td>0</td>\n",
       "      <td>0</td>\n",
       "      <td>157500.0</td>\n",
       "      <td>675000.0</td>\n",
       "      <td>49117.5</td>\n",
       "      <td>675000.0</td>\n",
       "      <td>0.046220</td>\n",
       "      <td>-16856</td>\n",
       "      <td>-1262</td>\n",
       "      <td>...</td>\n",
       "      <td>0</td>\n",
       "      <td>0</td>\n",
       "      <td>0</td>\n",
       "      <td>1</td>\n",
       "      <td>1</td>\n",
       "      <td>Business Entity Type 3</td>\n",
       "      <td>No</td>\n",
       "      <td>1</td>\n",
       "      <td>0</td>\n",
       "      <td>0</td>\n",
       "    </tr>\n",
       "  </tbody>\n",
       "</table>\n",
       "<p>307511 rows × 56 columns</p>\n",
       "</div>"
      ],
      "text/plain": [
       "        SK_ID_CURR  TARGET  CNT_CHILDREN  AMT_INCOME_TOTAL  AMT_CREDIT  \\\n",
       "0           100002       1             0          202500.0    406597.5   \n",
       "1           100003       0             0          270000.0   1293502.5   \n",
       "2           100004       0             0           67500.0    135000.0   \n",
       "3           100006       0             0          135000.0    312682.5   \n",
       "4           100007       0             0          121500.0    513000.0   \n",
       "...            ...     ...           ...               ...         ...   \n",
       "307506      456251       0             0          157500.0    254700.0   \n",
       "307507      456252       0             0           72000.0    269550.0   \n",
       "307508      456253       0             0          153000.0    677664.0   \n",
       "307509      456254       1             0          171000.0    370107.0   \n",
       "307510      456255       0             0          157500.0    675000.0   \n",
       "\n",
       "        AMT_ANNUITY  AMT_GOODS_PRICE  REGION_POPULATION_RELATIVE  DAYS_BIRTH  \\\n",
       "0           24700.5         351000.0                    0.018801       -9461   \n",
       "1           35698.5        1129500.0                    0.003541      -16765   \n",
       "2            6750.0         135000.0                    0.010032      -19046   \n",
       "3           29686.5         297000.0                    0.008019      -19005   \n",
       "4           21865.5         513000.0                    0.028663      -19932   \n",
       "...             ...              ...                         ...         ...   \n",
       "307506      27558.0         225000.0                    0.032561       -9327   \n",
       "307507      12001.5         225000.0                    0.025164      -20775   \n",
       "307508      29979.0         585000.0                    0.005002      -14966   \n",
       "307509      20205.0         319500.0                    0.005313      -11961   \n",
       "307510      49117.5         675000.0                    0.046220      -16856   \n",
       "\n",
       "        DAYS_EMPLOYED  ...  REG_REGION_NOT_LIVE_REGION  \\\n",
       "0                -637  ...                           0   \n",
       "1               -1188  ...                           0   \n",
       "2                -225  ...                           0   \n",
       "3               -3039  ...                           0   \n",
       "4               -3038  ...                           0   \n",
       "...               ...  ...                         ...   \n",
       "307506           -236  ...                           0   \n",
       "307507         365243  ...                           0   \n",
       "307508          -7921  ...                           0   \n",
       "307509          -4786  ...                           0   \n",
       "307510          -1262  ...                           0   \n",
       "\n",
       "        REG_REGION_NOT_WORK_REGION  REG_CITY_NOT_LIVE_CITY  \\\n",
       "0                                0                       0   \n",
       "1                                0                       0   \n",
       "2                                0                       0   \n",
       "3                                0                       0   \n",
       "4                                0                       0   \n",
       "...                            ...                     ...   \n",
       "307506                           0                       0   \n",
       "307507                           0                       0   \n",
       "307508                           0                       0   \n",
       "307509                           0                       1   \n",
       "307510                           0                       0   \n",
       "\n",
       "        REG_CITY_NOT_WORK_CITY  LIVE_CITY_NOT_WORK_CITY  \\\n",
       "0                            0                        0   \n",
       "1                            0                        0   \n",
       "2                            0                        0   \n",
       "3                            0                        0   \n",
       "4                            1                        1   \n",
       "...                        ...                      ...   \n",
       "307506                       0                        0   \n",
       "307507                       0                        0   \n",
       "307508                       1                        1   \n",
       "307509                       1                        0   \n",
       "307510                       1                        1   \n",
       "\n",
       "             ORGANIZATION_TYPE  EMERGENCYSTATE_MODE  FLAG_DOCUMENT_3  \\\n",
       "0       Business Entity Type 3                   No                1   \n",
       "1                       School                   No                1   \n",
       "2                   Government                   No                0   \n",
       "3       Business Entity Type 3                   No                1   \n",
       "4                     Religion                   No                0   \n",
       "...                        ...                  ...              ...   \n",
       "307506                Services                   No                0   \n",
       "307507                   Other                   No                1   \n",
       "307508                  School                   No                1   \n",
       "307509  Business Entity Type 1                   No                1   \n",
       "307510  Business Entity Type 3                   No                1   \n",
       "\n",
       "        FLAG_DOCUMENT_6  FLAG_DOCUMENT_8  \n",
       "0                     0                0  \n",
       "1                     0                0  \n",
       "2                     0                0  \n",
       "3                     0                0  \n",
       "4                     0                1  \n",
       "...                 ...              ...  \n",
       "307506                0                1  \n",
       "307507                0                0  \n",
       "307508                0                0  \n",
       "307509                0                0  \n",
       "307510                0                0  \n",
       "\n",
       "[307511 rows x 56 columns]"
      ]
     },
     "execution_count": 104,
     "metadata": {},
     "output_type": "execute_result"
    }
   ],
   "source": [
    "app_train_ok = pd.read_csv(\"save_files/data_train_with_correlated_var.csv\")\n",
    "app_train_ok"
   ]
  },
  {
   "cell_type": "code",
   "execution_count": 105,
   "metadata": {},
   "outputs": [
    {
     "data": {
      "text/plain": [
       "SK_ID_CURR                        int64\n",
       "TARGET                            int64\n",
       "CNT_CHILDREN                      int64\n",
       "AMT_INCOME_TOTAL                float64\n",
       "AMT_CREDIT                      float64\n",
       "AMT_ANNUITY                     float64\n",
       "AMT_GOODS_PRICE                 float64\n",
       "REGION_POPULATION_RELATIVE      float64\n",
       "DAYS_BIRTH                        int64\n",
       "DAYS_EMPLOYED                     int64\n",
       "DAYS_REGISTRATION               float64\n",
       "DAYS_ID_PUBLISH                   int64\n",
       "CNT_FAM_MEMBERS                 float64\n",
       "HOUR_APPR_PROCESS_START           int64\n",
       "EXT_SOURCE_2                    float64\n",
       "EXT_SOURCE_3                    float64\n",
       "YEARS_BEGINEXPLUATATION_AVG     float64\n",
       "FLOORSMAX_AVG                   float64\n",
       "YEARS_BEGINEXPLUATATION_MODE    float64\n",
       "FLOORSMAX_MODE                  float64\n",
       "YEARS_BEGINEXPLUATATION_MEDI    float64\n",
       "FLOORSMAX_MEDI                  float64\n",
       "TOTALAREA_MODE                  float64\n",
       "OBS_30_CNT_SOCIAL_CIRCLE        float64\n",
       "DEF_30_CNT_SOCIAL_CIRCLE        float64\n",
       "OBS_60_CNT_SOCIAL_CIRCLE        float64\n",
       "DEF_60_CNT_SOCIAL_CIRCLE        float64\n",
       "DAYS_LAST_PHONE_CHANGE          float64\n",
       "AMT_REQ_CREDIT_BUREAU_MON       float64\n",
       "AMT_REQ_CREDIT_BUREAU_YEAR      float64\n",
       "NAME_CONTRACT_TYPE               object\n",
       "CODE_GENDER                      object\n",
       "FLAG_OWN_CAR                     object\n",
       "FLAG_OWN_REALTY                  object\n",
       "NAME_TYPE_SUITE                  object\n",
       "NAME_INCOME_TYPE                 object\n",
       "NAME_EDUCATION_TYPE              object\n",
       "NAME_FAMILY_STATUS               object\n",
       "NAME_HOUSING_TYPE                object\n",
       "FLAG_EMP_PHONE                    int64\n",
       "FLAG_WORK_PHONE                   int64\n",
       "FLAG_PHONE                        int64\n",
       "OCCUPATION_TYPE                  object\n",
       "REGION_RATING_CLIENT              int64\n",
       "REGION_RATING_CLIENT_W_CITY       int64\n",
       "WEEKDAY_APPR_PROCESS_START       object\n",
       "REG_REGION_NOT_LIVE_REGION        int64\n",
       "REG_REGION_NOT_WORK_REGION        int64\n",
       "REG_CITY_NOT_LIVE_CITY            int64\n",
       "REG_CITY_NOT_WORK_CITY            int64\n",
       "LIVE_CITY_NOT_WORK_CITY           int64\n",
       "ORGANIZATION_TYPE                object\n",
       "EMERGENCYSTATE_MODE              object\n",
       "FLAG_DOCUMENT_3                   int64\n",
       "FLAG_DOCUMENT_6                   int64\n",
       "FLAG_DOCUMENT_8                   int64\n",
       "dtype: object"
      ]
     },
     "execution_count": 105,
     "metadata": {},
     "output_type": "execute_result"
    }
   ],
   "source": [
    "app_train_ok.dtypes"
   ]
  },
  {
   "cell_type": "code",
   "execution_count": 58,
   "metadata": {},
   "outputs": [],
   "source": [
    "list_cat_ok = joblib.load(\"save_files/list_cat.joblib\")\n",
    "app_train_ok[list_cat_ok] = app_train_ok[list_cat_ok].astype(object)"
   ]
  },
  {
   "cell_type": "code",
   "execution_count": 106,
   "metadata": {},
   "outputs": [],
   "source": [
    "# Use Frequency Encoding\n",
    "encoder_dict = {}\n",
    "\n",
    "for var in list_cat_ok:\n",
    "    encoder_dict[var] = (app_train_ok[var].value_counts() / len(app_train_ok)).to_dict()"
   ]
  },
  {
   "cell_type": "code",
   "execution_count": 107,
   "metadata": {},
   "outputs": [
    {
     "data": {
      "text/plain": [
       "{'NAME_CONTRACT_TYPE': {'Cash loans': 0.9047871458256778,\n",
       "  'Revolving loans': 0.09521285417432222},\n",
       " 'CODE_GENDER': {'F': 0.6583569368250242, 'M': 0.34164306317497584},\n",
       " 'FLAG_OWN_CAR': {'N': 0.6598918412674668, 'Y': 0.34010815873253314},\n",
       " 'FLAG_OWN_REALTY': {'Y': 0.6936727466659729, 'N': 0.30632725333402705},\n",
       " 'NAME_TYPE_SUITE': {'Unaccompanied': 0.8123871991571033,\n",
       "  'Family': 0.13056118317718715,\n",
       "  'Spouse, partner': 0.03697428709867289,\n",
       "  'Children': 0.010624010198009176,\n",
       "  'Other_B': 0.0057558916591601604,\n",
       "  'Other_A': 0.002816159421939378,\n",
       "  'Group of people': 0.0008812692879279115},\n",
       " 'NAME_INCOME_TYPE': {'Working': 0.5163197414076245,\n",
       "  'Commercial associate': 0.2328924818949566,\n",
       "  'Pensioner': 0.18003258420024,\n",
       "  'State servant': 0.07057633710664009,\n",
       "  'Unemployed': 7.154215621555002e-05,\n",
       "  'Student': 5.8534491449086374e-05,\n",
       "  'Businessman': 3.2519161916159095e-05,\n",
       "  'Maternity leave': 1.6259580958079547e-05},\n",
       " 'NAME_EDUCATION_TYPE': {'Secondary / secondary special': 0.7101892290031901,\n",
       "  'Higher education': 0.24344820185294186,\n",
       "  'Incomplete higher': 0.0334199427012367,\n",
       "  'Lower secondary': 0.012409312187206312,\n",
       "  'Academic degree': 0.0005333142554250092},\n",
       " 'NAME_FAMILY_STATUS': {'Married': 0.6387869051838796,\n",
       "  'Single / not married': 0.14778007941179339,\n",
       "  'Civil marriage': 0.0968258046053637,\n",
       "  'Separated': 0.06429038310824653,\n",
       "  'Widow': 0.05231682769071676},\n",
       " 'NAME_HOUSING_TYPE': {'House / apartment': 0.8873438673738501,\n",
       "  'With parents': 0.0482584362835801,\n",
       "  'Municipal apartment': 0.03636617877084072,\n",
       "  'Rented apartment': 0.015872602931277256,\n",
       "  'Office apartment': 0.008510264673458836,\n",
       "  'Co-op apartment': 0.0036486499669930506},\n",
       " 'FLAG_EMP_PHONE': {1: 0.8198893698111612, 0: 0.18011063018883877},\n",
       " 'FLAG_WORK_PHONE': {0: 0.8006315221244118, 1: 0.1993684778755882},\n",
       " 'FLAG_PHONE': {0: 0.7189336316424453, 1: 0.28106636835755466},\n",
       " 'OCCUPATION_TYPE': {'Laborers': 0.49291570057656475,\n",
       "  'Sales staff': 0.10439301358325394,\n",
       "  'Core staff': 0.08965532940285063,\n",
       "  'Managers': 0.0694967009310236,\n",
       "  'Drivers': 0.06049539691263077,\n",
       "  'High skill tech staff': 0.037006806260589054,\n",
       "  'Accountants': 0.031911053588326924,\n",
       "  'Medicine staff': 0.02776160852782502,\n",
       "  'Security staff': 0.02185612872385053,\n",
       "  'Cooking staff': 0.019335893675348197,\n",
       "  'Cleaning staff': 0.015131166039588828,\n",
       "  'Private service staff': 0.008624081740165393,\n",
       "  'Low-skill Laborers': 0.006806260589052099,\n",
       "  'Waiters/barmen staff': 0.0043835830262982465,\n",
       "  'Secretaries': 0.004243750630058762,\n",
       "  'Realty agents': 0.0024421890599035483,\n",
       "  'HR staff': 0.001830828815879757,\n",
       "  'IT staff': 0.0017105079167899686},\n",
       " 'REGION_RATING_CLIENT': {2: 0.7381329448377456,\n",
       "  3: 0.1571651095407969,\n",
       "  1: 0.10470194562145745},\n",
       " 'REGION_RATING_CLIENT_W_CITY': {2: 0.7462627353167854,\n",
       "  3: 0.1426290441642738,\n",
       "  1: 0.11110822051894079},\n",
       " 'WEEKDAY_APPR_PROCESS_START': {'TUESDAY': 0.17528153464428914,\n",
       "  'WEDNESDAY': 0.16888501549538065,\n",
       "  'MONDAY': 0.16491767774160923,\n",
       "  'THURSDAY': 0.1645176920500405,\n",
       "  'FRIDAY': 0.16369495725356167,\n",
       "  'SATURDAY': 0.11008386691858177,\n",
       "  'SUNDAY': 0.052619255896537036},\n",
       " 'REG_REGION_NOT_LIVE_REGION': {0: 0.9848558262956447,\n",
       "  1: 0.015144173704355291},\n",
       " 'REG_REGION_NOT_WORK_REGION': {0: 0.9492310844164924, 1: 0.05076891558350758},\n",
       " 'REG_CITY_NOT_LIVE_CITY': {0: 0.9218271866697452, 1: 0.07817281333025486},\n",
       " 'REG_CITY_NOT_WORK_CITY': {0: 0.7695464552487553, 1: 0.23045354475124466},\n",
       " 'LIVE_CITY_NOT_WORK_CITY': {0: 0.8204454474799275, 1: 0.17955455252007246},\n",
       " 'ORGANIZATION_TYPE': {'Other': 0.23432332501926761,\n",
       "  'Business Entity Type 3': 0.22110428570034893,\n",
       "  'Self-employed': 0.12491260475235032,\n",
       "  'Medicine': 0.03639869793275688,\n",
       "  'Business Entity Type 2': 0.034317471570122694,\n",
       "  'Government': 0.03383293605757193,\n",
       "  'School': 0.028919290692040286,\n",
       "  'Trade: type 7': 0.02546575569654419,\n",
       "  'Kindergarten': 0.02237318339831746,\n",
       "  'Construction': 0.02185612872385053,\n",
       "  'Business Entity Type 1': 0.019459466490629605,\n",
       "  'Transport: type 4': 0.01755384360234268,\n",
       "  'Trade: type 3': 0.011355691341122756,\n",
       "  'Industry: type 9': 0.010952453733362384,\n",
       "  'Industry: type 3': 0.010659781276116952,\n",
       "  'Security': 0.010558971874176858,\n",
       "  'Housing': 0.009619168094799862,\n",
       "  'Industry: type 11': 0.008793181382129419,\n",
       "  'Military': 0.008565547248716306,\n",
       "  'Bank': 0.008152553892381086,\n",
       "  'Agriculture': 0.007980202334225443,\n",
       "  'Police': 0.007612735804572845,\n",
       "  'Transport: type 2': 0.007167223286321465,\n",
       "  'Postal': 0.007014383225315517,\n",
       "  'Security Ministries': 0.006419282562249806,\n",
       "  'Trade: type 2': 0.006178640764070228,\n",
       "  'Restaurant': 0.005889220223016412,\n",
       "  'Services': 0.005121768001795058,\n",
       "  'University': 0.004315292786274312,\n",
       "  'Industry: type 7': 0.004250254462441994,\n",
       "  'Transport: type 3': 0.003860024519448085,\n",
       "  'Industry: type 1': 0.0033787409230889302,\n",
       "  'Hotel': 0.0031413510411009687,\n",
       "  'Electricity': 0.003089320382035114,\n",
       "  'Industry: type 4': 0.002851930500047153,\n",
       "  'Trade: type 6': 0.002051959116909639,\n",
       "  'Industry: type 5': 0.00194789779877793,\n",
       "  'Insurance': 0.001941393966394698,\n",
       "  'Telecom': 0.00187635564256238,\n",
       "  'Emergency': 0.0018210730673049094,\n",
       "  'Industry: type 2': 0.0014893776157600866,\n",
       "  'Advertising': 0.0013950720462032253,\n",
       "  'Realtor': 0.0012877588118799003,\n",
       "  'Culture': 0.0012324762366224297,\n",
       "  'Industry: type 12': 0.0011999570747062707,\n",
       "  'Trade: type 1': 0.0011316668346823366,\n",
       "  'Mobile': 0.0010308574327422433,\n",
       "  'Legal Services': 0.0009918344384428524,\n",
       "  'Cleaning': 0.0008454982098201365,\n",
       "  'Transport: type 1': 0.0006536351545147978,\n",
       "  'Industry: type 6': 0.0003642146134609819,\n",
       "  'Industry: type 10': 0.00035445886488613416,\n",
       "  'Religion': 0.00027641287628735233,\n",
       "  'Industry: type 13': 0.00021787838483826595,\n",
       "  'Trade: type 4': 0.0002081226362634182,\n",
       "  'Trade: type 5': 0.00015934389338917958,\n",
       "  'Industry: type 8': 7.804598859878183e-05},\n",
       " 'EMERGENCYSTATE_MODE': {'No': 0.9924295391059181,\n",
       "  'Yes': 0.007570460894081837},\n",
       " 'FLAG_DOCUMENT_3': {1: 0.7100233812774177, 0: 0.2899766187225823},\n",
       " 'FLAG_DOCUMENT_6': {0: 0.9119446133634244, 1: 0.0880553866365756},\n",
       " 'FLAG_DOCUMENT_8': {0: 0.9186240492210035, 1: 0.08137595077899652}}"
      ]
     },
     "execution_count": 107,
     "metadata": {},
     "output_type": "execute_result"
    }
   ],
   "source": [
    "encoder_dict"
   ]
  },
  {
   "cell_type": "code",
   "execution_count": 108,
   "metadata": {},
   "outputs": [],
   "source": [
    "# Apply the encoder value in the new columns\n",
    "for var in list_cat_ok:\n",
    "    app_train_ok[var] = app_train_ok[var].map(encoder_dict[var])"
   ]
  },
  {
   "cell_type": "code",
   "execution_count": 109,
   "metadata": {},
   "outputs": [
    {
     "data": {
      "text/html": [
       "<div>\n",
       "<style scoped>\n",
       "    .dataframe tbody tr th:only-of-type {\n",
       "        vertical-align: middle;\n",
       "    }\n",
       "\n",
       "    .dataframe tbody tr th {\n",
       "        vertical-align: top;\n",
       "    }\n",
       "\n",
       "    .dataframe thead th {\n",
       "        text-align: right;\n",
       "    }\n",
       "</style>\n",
       "<table border=\"1\" class=\"dataframe\">\n",
       "  <thead>\n",
       "    <tr style=\"text-align: right;\">\n",
       "      <th></th>\n",
       "      <th>SK_ID_CURR</th>\n",
       "      <th>TARGET</th>\n",
       "      <th>CNT_CHILDREN</th>\n",
       "      <th>AMT_INCOME_TOTAL</th>\n",
       "      <th>AMT_CREDIT</th>\n",
       "      <th>AMT_ANNUITY</th>\n",
       "      <th>AMT_GOODS_PRICE</th>\n",
       "      <th>REGION_POPULATION_RELATIVE</th>\n",
       "      <th>DAYS_BIRTH</th>\n",
       "      <th>DAYS_EMPLOYED</th>\n",
       "      <th>...</th>\n",
       "      <th>REG_REGION_NOT_LIVE_REGION</th>\n",
       "      <th>REG_REGION_NOT_WORK_REGION</th>\n",
       "      <th>REG_CITY_NOT_LIVE_CITY</th>\n",
       "      <th>REG_CITY_NOT_WORK_CITY</th>\n",
       "      <th>LIVE_CITY_NOT_WORK_CITY</th>\n",
       "      <th>ORGANIZATION_TYPE</th>\n",
       "      <th>EMERGENCYSTATE_MODE</th>\n",
       "      <th>FLAG_DOCUMENT_3</th>\n",
       "      <th>FLAG_DOCUMENT_6</th>\n",
       "      <th>FLAG_DOCUMENT_8</th>\n",
       "    </tr>\n",
       "  </thead>\n",
       "  <tbody>\n",
       "    <tr>\n",
       "      <th>0</th>\n",
       "      <td>100002</td>\n",
       "      <td>1</td>\n",
       "      <td>0</td>\n",
       "      <td>202500.0</td>\n",
       "      <td>406597.5</td>\n",
       "      <td>24700.5</td>\n",
       "      <td>351000.0</td>\n",
       "      <td>0.018801</td>\n",
       "      <td>-9461</td>\n",
       "      <td>-637</td>\n",
       "      <td>...</td>\n",
       "      <td>0.984856</td>\n",
       "      <td>0.949231</td>\n",
       "      <td>0.921827</td>\n",
       "      <td>0.769546</td>\n",
       "      <td>0.820445</td>\n",
       "      <td>0.221104</td>\n",
       "      <td>0.99243</td>\n",
       "      <td>0.710023</td>\n",
       "      <td>0.911945</td>\n",
       "      <td>0.918624</td>\n",
       "    </tr>\n",
       "    <tr>\n",
       "      <th>1</th>\n",
       "      <td>100003</td>\n",
       "      <td>0</td>\n",
       "      <td>0</td>\n",
       "      <td>270000.0</td>\n",
       "      <td>1293502.5</td>\n",
       "      <td>35698.5</td>\n",
       "      <td>1129500.0</td>\n",
       "      <td>0.003541</td>\n",
       "      <td>-16765</td>\n",
       "      <td>-1188</td>\n",
       "      <td>...</td>\n",
       "      <td>0.984856</td>\n",
       "      <td>0.949231</td>\n",
       "      <td>0.921827</td>\n",
       "      <td>0.769546</td>\n",
       "      <td>0.820445</td>\n",
       "      <td>0.028919</td>\n",
       "      <td>0.99243</td>\n",
       "      <td>0.710023</td>\n",
       "      <td>0.911945</td>\n",
       "      <td>0.918624</td>\n",
       "    </tr>\n",
       "  </tbody>\n",
       "</table>\n",
       "<p>2 rows × 56 columns</p>\n",
       "</div>"
      ],
      "text/plain": [
       "   SK_ID_CURR  TARGET  CNT_CHILDREN  AMT_INCOME_TOTAL  AMT_CREDIT  \\\n",
       "0      100002       1             0          202500.0    406597.5   \n",
       "1      100003       0             0          270000.0   1293502.5   \n",
       "\n",
       "   AMT_ANNUITY  AMT_GOODS_PRICE  REGION_POPULATION_RELATIVE  DAYS_BIRTH  \\\n",
       "0      24700.5         351000.0                    0.018801       -9461   \n",
       "1      35698.5        1129500.0                    0.003541      -16765   \n",
       "\n",
       "   DAYS_EMPLOYED  ...  REG_REGION_NOT_LIVE_REGION  REG_REGION_NOT_WORK_REGION  \\\n",
       "0           -637  ...                    0.984856                    0.949231   \n",
       "1          -1188  ...                    0.984856                    0.949231   \n",
       "\n",
       "   REG_CITY_NOT_LIVE_CITY  REG_CITY_NOT_WORK_CITY  LIVE_CITY_NOT_WORK_CITY  \\\n",
       "0                0.921827                0.769546                 0.820445   \n",
       "1                0.921827                0.769546                 0.820445   \n",
       "\n",
       "   ORGANIZATION_TYPE  EMERGENCYSTATE_MODE  FLAG_DOCUMENT_3  FLAG_DOCUMENT_6  \\\n",
       "0           0.221104              0.99243         0.710023         0.911945   \n",
       "1           0.028919              0.99243         0.710023         0.911945   \n",
       "\n",
       "   FLAG_DOCUMENT_8  \n",
       "0         0.918624  \n",
       "1         0.918624  \n",
       "\n",
       "[2 rows x 56 columns]"
      ]
     },
     "execution_count": 109,
     "metadata": {},
     "output_type": "execute_result"
    }
   ],
   "source": [
    "app_train_ok.head(2)"
   ]
  },
  {
   "cell_type": "code",
   "execution_count": 110,
   "metadata": {},
   "outputs": [
    {
     "data": {
      "text/plain": [
       "['encoder_dict.joblib']"
      ]
     },
     "execution_count": 110,
     "metadata": {},
     "output_type": "execute_result"
    }
   ],
   "source": [
    "# Save the \"encoder_dict\"\n",
    "joblib.dump(encoder_dict, \"save_files/encoder_dict.joblib\")"
   ]
  },
  {
   "cell_type": "code",
   "execution_count": 111,
   "metadata": {},
   "outputs": [
    {
     "data": {
      "text/html": [
       "<div>\n",
       "<style scoped>\n",
       "    .dataframe tbody tr th:only-of-type {\n",
       "        vertical-align: middle;\n",
       "    }\n",
       "\n",
       "    .dataframe tbody tr th {\n",
       "        vertical-align: top;\n",
       "    }\n",
       "\n",
       "    .dataframe thead th {\n",
       "        text-align: right;\n",
       "    }\n",
       "</style>\n",
       "<table border=\"1\" class=\"dataframe\">\n",
       "  <thead>\n",
       "    <tr style=\"text-align: right;\">\n",
       "      <th></th>\n",
       "      <th>TARGET</th>\n",
       "      <th>CNT_CHILDREN</th>\n",
       "      <th>AMT_INCOME_TOTAL</th>\n",
       "      <th>AMT_CREDIT</th>\n",
       "      <th>AMT_ANNUITY</th>\n",
       "      <th>AMT_GOODS_PRICE</th>\n",
       "      <th>REGION_POPULATION_RELATIVE</th>\n",
       "      <th>DAYS_BIRTH</th>\n",
       "      <th>DAYS_EMPLOYED</th>\n",
       "      <th>DAYS_REGISTRATION</th>\n",
       "      <th>...</th>\n",
       "      <th>REG_REGION_NOT_LIVE_REGION</th>\n",
       "      <th>REG_REGION_NOT_WORK_REGION</th>\n",
       "      <th>REG_CITY_NOT_LIVE_CITY</th>\n",
       "      <th>REG_CITY_NOT_WORK_CITY</th>\n",
       "      <th>LIVE_CITY_NOT_WORK_CITY</th>\n",
       "      <th>ORGANIZATION_TYPE</th>\n",
       "      <th>EMERGENCYSTATE_MODE</th>\n",
       "      <th>FLAG_DOCUMENT_3</th>\n",
       "      <th>FLAG_DOCUMENT_6</th>\n",
       "      <th>FLAG_DOCUMENT_8</th>\n",
       "    </tr>\n",
       "  </thead>\n",
       "  <tbody>\n",
       "    <tr>\n",
       "      <th>0</th>\n",
       "      <td>1</td>\n",
       "      <td>0</td>\n",
       "      <td>202500.0</td>\n",
       "      <td>406597.5</td>\n",
       "      <td>24700.5</td>\n",
       "      <td>351000.0</td>\n",
       "      <td>0.018801</td>\n",
       "      <td>-9461</td>\n",
       "      <td>-637</td>\n",
       "      <td>-3648.0</td>\n",
       "      <td>...</td>\n",
       "      <td>0.984856</td>\n",
       "      <td>0.949231</td>\n",
       "      <td>0.921827</td>\n",
       "      <td>0.769546</td>\n",
       "      <td>0.820445</td>\n",
       "      <td>0.221104</td>\n",
       "      <td>0.99243</td>\n",
       "      <td>0.710023</td>\n",
       "      <td>0.911945</td>\n",
       "      <td>0.918624</td>\n",
       "    </tr>\n",
       "    <tr>\n",
       "      <th>1</th>\n",
       "      <td>0</td>\n",
       "      <td>0</td>\n",
       "      <td>270000.0</td>\n",
       "      <td>1293502.5</td>\n",
       "      <td>35698.5</td>\n",
       "      <td>1129500.0</td>\n",
       "      <td>0.003541</td>\n",
       "      <td>-16765</td>\n",
       "      <td>-1188</td>\n",
       "      <td>-1186.0</td>\n",
       "      <td>...</td>\n",
       "      <td>0.984856</td>\n",
       "      <td>0.949231</td>\n",
       "      <td>0.921827</td>\n",
       "      <td>0.769546</td>\n",
       "      <td>0.820445</td>\n",
       "      <td>0.028919</td>\n",
       "      <td>0.99243</td>\n",
       "      <td>0.710023</td>\n",
       "      <td>0.911945</td>\n",
       "      <td>0.918624</td>\n",
       "    </tr>\n",
       "  </tbody>\n",
       "</table>\n",
       "<p>2 rows × 55 columns</p>\n",
       "</div>"
      ],
      "text/plain": [
       "   TARGET  CNT_CHILDREN  AMT_INCOME_TOTAL  AMT_CREDIT  AMT_ANNUITY  \\\n",
       "0       1             0          202500.0    406597.5      24700.5   \n",
       "1       0             0          270000.0   1293502.5      35698.5   \n",
       "\n",
       "   AMT_GOODS_PRICE  REGION_POPULATION_RELATIVE  DAYS_BIRTH  DAYS_EMPLOYED  \\\n",
       "0         351000.0                    0.018801       -9461           -637   \n",
       "1        1129500.0                    0.003541      -16765          -1188   \n",
       "\n",
       "   DAYS_REGISTRATION  ...  REG_REGION_NOT_LIVE_REGION  \\\n",
       "0            -3648.0  ...                    0.984856   \n",
       "1            -1186.0  ...                    0.984856   \n",
       "\n",
       "   REG_REGION_NOT_WORK_REGION  REG_CITY_NOT_LIVE_CITY  REG_CITY_NOT_WORK_CITY  \\\n",
       "0                    0.949231                0.921827                0.769546   \n",
       "1                    0.949231                0.921827                0.769546   \n",
       "\n",
       "   LIVE_CITY_NOT_WORK_CITY  ORGANIZATION_TYPE  EMERGENCYSTATE_MODE  \\\n",
       "0                 0.820445           0.221104              0.99243   \n",
       "1                 0.820445           0.028919              0.99243   \n",
       "\n",
       "   FLAG_DOCUMENT_3  FLAG_DOCUMENT_6  FLAG_DOCUMENT_8  \n",
       "0         0.710023         0.911945         0.918624  \n",
       "1         0.710023         0.911945         0.918624  \n",
       "\n",
       "[2 rows x 55 columns]"
      ]
     },
     "execution_count": 111,
     "metadata": {},
     "output_type": "execute_result"
    }
   ],
   "source": [
    "app_train_ok = app_train_ok.drop(\"SK_ID_CURR\", axis = 1)\n",
    "app_train_ok.head(2)"
   ]
  },
  {
   "cell_type": "markdown",
   "metadata": {},
   "source": [
    "### 5. Handling Imbalanced Data"
   ]
  },
  {
   "cell_type": "code",
   "execution_count": 112,
   "metadata": {},
   "outputs": [
    {
     "data": {
      "text/plain": [
       "TARGET\n",
       "0    91.927118\n",
       "1     8.072882\n",
       "Name: count, dtype: float64"
      ]
     },
     "execution_count": 112,
     "metadata": {},
     "output_type": "execute_result"
    }
   ],
   "source": [
    "# Percentage of each class\n",
    "app_train_ok[\"TARGET\"].value_counts() / len(app_train_ok) * 100"
   ]
  },
  {
   "cell_type": "code",
   "execution_count": 113,
   "metadata": {},
   "outputs": [],
   "source": [
    "X = app_train_ok.drop(\"TARGET\", axis = 1)\n",
    "y = app_train_ok[\"TARGET\"]"
   ]
  },
  {
   "cell_type": "code",
   "execution_count": 114,
   "metadata": {},
   "outputs": [
    {
     "data": {
      "text/plain": [
       "54"
      ]
     },
     "execution_count": 114,
     "metadata": {},
     "output_type": "execute_result"
    }
   ],
   "source": [
    "len(X.columns)"
   ]
  },
  {
   "cell_type": "code",
   "execution_count": 115,
   "metadata": {},
   "outputs": [
    {
     "data": {
      "text/plain": [
       "TARGET\n",
       "0    282686\n",
       "1     24825\n",
       "Name: count, dtype: int64"
      ]
     },
     "execution_count": 115,
     "metadata": {},
     "output_type": "execute_result"
    }
   ],
   "source": [
    "y.value_counts()"
   ]
  },
  {
   "cell_type": "code",
   "execution_count": 116,
   "metadata": {
    "scrolled": true
   },
   "outputs": [],
   "source": [
    "# Undersampling the majority class\n",
    "undersample = RandomUnderSampler(random_state = 42)\n",
    "X_res, y_res = undersample.fit_resample(X, y)"
   ]
  },
  {
   "cell_type": "code",
   "execution_count": 117,
   "metadata": {},
   "outputs": [
    {
     "data": {
      "text/plain": [
       "TARGET\n",
       "0    24825\n",
       "1    24825\n",
       "Name: count, dtype: int64"
      ]
     },
     "execution_count": 117,
     "metadata": {},
     "output_type": "execute_result"
    }
   ],
   "source": [
    "y_res.value_counts()"
   ]
  },
  {
   "cell_type": "markdown",
   "metadata": {},
   "source": [
    "### 6. Feature Scaling"
   ]
  },
  {
   "cell_type": "code",
   "execution_count": 118,
   "metadata": {},
   "outputs": [
    {
     "data": {
      "text/plain": [
       "(49650, 54)"
      ]
     },
     "execution_count": 118,
     "metadata": {},
     "output_type": "execute_result"
    }
   ],
   "source": [
    "X_res.shape"
   ]
  },
  {
   "cell_type": "code",
   "execution_count": 119,
   "metadata": {},
   "outputs": [
    {
     "data": {
      "text/plain": [
       "array([dtype('int64'), dtype('float64')], dtype=object)"
      ]
     },
     "execution_count": 119,
     "metadata": {},
     "output_type": "execute_result"
    }
   ],
   "source": [
    "X_res.dtypes.unique()"
   ]
  },
  {
   "cell_type": "code",
   "execution_count": 120,
   "metadata": {},
   "outputs": [],
   "source": [
    "list_num_ok = joblib.load(\"save_files/list_num.joblib\")"
   ]
  },
  {
   "cell_type": "code",
   "execution_count": 121,
   "metadata": {},
   "outputs": [
    {
     "data": {
      "text/plain": [
       "30"
      ]
     },
     "execution_count": 121,
     "metadata": {},
     "output_type": "execute_result"
    }
   ],
   "source": [
    "len(list_num_ok)"
   ]
  },
  {
   "cell_type": "code",
   "execution_count": 122,
   "metadata": {},
   "outputs": [
    {
     "data": {
      "text/plain": [
       "['CNT_CHILDREN',\n",
       " 'AMT_INCOME_TOTAL',\n",
       " 'AMT_CREDIT',\n",
       " 'AMT_ANNUITY',\n",
       " 'AMT_GOODS_PRICE',\n",
       " 'REGION_POPULATION_RELATIVE',\n",
       " 'DAYS_BIRTH',\n",
       " 'DAYS_EMPLOYED',\n",
       " 'DAYS_REGISTRATION',\n",
       " 'DAYS_ID_PUBLISH',\n",
       " 'CNT_FAM_MEMBERS',\n",
       " 'HOUR_APPR_PROCESS_START',\n",
       " 'EXT_SOURCE_2',\n",
       " 'EXT_SOURCE_3',\n",
       " 'YEARS_BEGINEXPLUATATION_AVG',\n",
       " 'FLOORSMAX_AVG',\n",
       " 'YEARS_BEGINEXPLUATATION_MODE',\n",
       " 'FLOORSMAX_MODE',\n",
       " 'YEARS_BEGINEXPLUATATION_MEDI',\n",
       " 'FLOORSMAX_MEDI',\n",
       " 'TOTALAREA_MODE',\n",
       " 'OBS_30_CNT_SOCIAL_CIRCLE',\n",
       " 'DEF_30_CNT_SOCIAL_CIRCLE',\n",
       " 'OBS_60_CNT_SOCIAL_CIRCLE',\n",
       " 'DEF_60_CNT_SOCIAL_CIRCLE',\n",
       " 'DAYS_LAST_PHONE_CHANGE',\n",
       " 'AMT_REQ_CREDIT_BUREAU_MON',\n",
       " 'AMT_REQ_CREDIT_BUREAU_YEAR']"
      ]
     },
     "execution_count": 122,
     "metadata": {},
     "output_type": "execute_result"
    }
   ],
   "source": [
    "list_num_ok.remove(\"SK_ID_CURR\")\n",
    "list_num_ok.remove(\"TARGET\")\n",
    "list_num_ok"
   ]
  },
  {
   "cell_type": "code",
   "execution_count": 123,
   "metadata": {},
   "outputs": [],
   "source": [
    "X_res_stand = X_res.copy()"
   ]
  },
  {
   "cell_type": "code",
   "execution_count": 124,
   "metadata": {},
   "outputs": [],
   "source": [
    "# Use Standardization"
   ]
  },
  {
   "cell_type": "code",
   "execution_count": 125,
   "metadata": {},
   "outputs": [],
   "source": [
    "# Apply standardization on numerical features\n",
    "dict_standardization = {}\n",
    "\n",
    "for i in list_num_ok:\n",
    "    # fit on training data column\n",
    "    scale = StandardScaler()\n",
    "    scale.fit(X_res_stand[[i]])\n",
    "\n",
    "    # save the scaler object per variable\n",
    "    joblib.dump(scale, \"save_files/joblib_standardization/\" + i + \".joblib\")\n",
    "    dict_standardization[i] = \"save_files/joblib_standardization/\" + i + \".joblib\"\n",
    "    \n",
    "    # transform the training data column\n",
    "    X_res_stand[i] = scale.transform(X_res_stand[[i]])"
   ]
  },
  {
   "cell_type": "code",
   "execution_count": 126,
   "metadata": {},
   "outputs": [
    {
     "data": {
      "text/plain": [
       "['dict_standardization.joblib']"
      ]
     },
     "execution_count": 126,
     "metadata": {},
     "output_type": "execute_result"
    }
   ],
   "source": [
    "# save\n",
    "joblib.dump(dict_standardization, \"save_files/dict_standardization.joblib\")"
   ]
  },
  {
   "cell_type": "code",
   "execution_count": 127,
   "metadata": {
    "scrolled": true
   },
   "outputs": [
    {
     "data": {
      "text/plain": [
       "{'CNT_CHILDREN': 'joblib_standardization/CNT_CHILDREN.joblib',\n",
       " 'AMT_INCOME_TOTAL': 'joblib_standardization/AMT_INCOME_TOTAL.joblib',\n",
       " 'AMT_CREDIT': 'joblib_standardization/AMT_CREDIT.joblib',\n",
       " 'AMT_ANNUITY': 'joblib_standardization/AMT_ANNUITY.joblib',\n",
       " 'AMT_GOODS_PRICE': 'joblib_standardization/AMT_GOODS_PRICE.joblib',\n",
       " 'REGION_POPULATION_RELATIVE': 'joblib_standardization/REGION_POPULATION_RELATIVE.joblib',\n",
       " 'DAYS_BIRTH': 'joblib_standardization/DAYS_BIRTH.joblib',\n",
       " 'DAYS_EMPLOYED': 'joblib_standardization/DAYS_EMPLOYED.joblib',\n",
       " 'DAYS_REGISTRATION': 'joblib_standardization/DAYS_REGISTRATION.joblib',\n",
       " 'DAYS_ID_PUBLISH': 'joblib_standardization/DAYS_ID_PUBLISH.joblib',\n",
       " 'CNT_FAM_MEMBERS': 'joblib_standardization/CNT_FAM_MEMBERS.joblib',\n",
       " 'HOUR_APPR_PROCESS_START': 'joblib_standardization/HOUR_APPR_PROCESS_START.joblib',\n",
       " 'EXT_SOURCE_2': 'joblib_standardization/EXT_SOURCE_2.joblib',\n",
       " 'EXT_SOURCE_3': 'joblib_standardization/EXT_SOURCE_3.joblib',\n",
       " 'YEARS_BEGINEXPLUATATION_AVG': 'joblib_standardization/YEARS_BEGINEXPLUATATION_AVG.joblib',\n",
       " 'FLOORSMAX_AVG': 'joblib_standardization/FLOORSMAX_AVG.joblib',\n",
       " 'YEARS_BEGINEXPLUATATION_MODE': 'joblib_standardization/YEARS_BEGINEXPLUATATION_MODE.joblib',\n",
       " 'FLOORSMAX_MODE': 'joblib_standardization/FLOORSMAX_MODE.joblib',\n",
       " 'YEARS_BEGINEXPLUATATION_MEDI': 'joblib_standardization/YEARS_BEGINEXPLUATATION_MEDI.joblib',\n",
       " 'FLOORSMAX_MEDI': 'joblib_standardization/FLOORSMAX_MEDI.joblib',\n",
       " 'TOTALAREA_MODE': 'joblib_standardization/TOTALAREA_MODE.joblib',\n",
       " 'OBS_30_CNT_SOCIAL_CIRCLE': 'joblib_standardization/OBS_30_CNT_SOCIAL_CIRCLE.joblib',\n",
       " 'DEF_30_CNT_SOCIAL_CIRCLE': 'joblib_standardization/DEF_30_CNT_SOCIAL_CIRCLE.joblib',\n",
       " 'OBS_60_CNT_SOCIAL_CIRCLE': 'joblib_standardization/OBS_60_CNT_SOCIAL_CIRCLE.joblib',\n",
       " 'DEF_60_CNT_SOCIAL_CIRCLE': 'joblib_standardization/DEF_60_CNT_SOCIAL_CIRCLE.joblib',\n",
       " 'DAYS_LAST_PHONE_CHANGE': 'joblib_standardization/DAYS_LAST_PHONE_CHANGE.joblib',\n",
       " 'AMT_REQ_CREDIT_BUREAU_MON': 'joblib_standardization/AMT_REQ_CREDIT_BUREAU_MON.joblib',\n",
       " 'AMT_REQ_CREDIT_BUREAU_YEAR': 'joblib_standardization/AMT_REQ_CREDIT_BUREAU_YEAR.joblib'}"
      ]
     },
     "execution_count": 127,
     "metadata": {},
     "output_type": "execute_result"
    }
   ],
   "source": [
    "dict_standardization"
   ]
  },
  {
   "cell_type": "code",
   "execution_count": 128,
   "metadata": {},
   "outputs": [
    {
     "data": {
      "text/html": [
       "<div>\n",
       "<style scoped>\n",
       "    .dataframe tbody tr th:only-of-type {\n",
       "        vertical-align: middle;\n",
       "    }\n",
       "\n",
       "    .dataframe tbody tr th {\n",
       "        vertical-align: top;\n",
       "    }\n",
       "\n",
       "    .dataframe thead th {\n",
       "        text-align: right;\n",
       "    }\n",
       "</style>\n",
       "<table border=\"1\" class=\"dataframe\">\n",
       "  <thead>\n",
       "    <tr style=\"text-align: right;\">\n",
       "      <th></th>\n",
       "      <th>CNT_CHILDREN</th>\n",
       "      <th>AMT_INCOME_TOTAL</th>\n",
       "      <th>AMT_CREDIT</th>\n",
       "      <th>AMT_ANNUITY</th>\n",
       "      <th>AMT_GOODS_PRICE</th>\n",
       "      <th>REGION_POPULATION_RELATIVE</th>\n",
       "      <th>DAYS_BIRTH</th>\n",
       "      <th>DAYS_EMPLOYED</th>\n",
       "      <th>DAYS_REGISTRATION</th>\n",
       "      <th>DAYS_ID_PUBLISH</th>\n",
       "      <th>...</th>\n",
       "      <th>REG_REGION_NOT_LIVE_REGION</th>\n",
       "      <th>REG_REGION_NOT_WORK_REGION</th>\n",
       "      <th>REG_CITY_NOT_LIVE_CITY</th>\n",
       "      <th>REG_CITY_NOT_WORK_CITY</th>\n",
       "      <th>LIVE_CITY_NOT_WORK_CITY</th>\n",
       "      <th>ORGANIZATION_TYPE</th>\n",
       "      <th>EMERGENCYSTATE_MODE</th>\n",
       "      <th>FLAG_DOCUMENT_3</th>\n",
       "      <th>FLAG_DOCUMENT_6</th>\n",
       "      <th>FLAG_DOCUMENT_8</th>\n",
       "    </tr>\n",
       "  </thead>\n",
       "  <tbody>\n",
       "    <tr>\n",
       "      <th>201622</th>\n",
       "      <td>0.751970</td>\n",
       "      <td>0.235286</td>\n",
       "      <td>1.375052</td>\n",
       "      <td>0.403220</td>\n",
       "      <td>1.695226</td>\n",
       "      <td>-0.141886</td>\n",
       "      <td>0.860965</td>\n",
       "      <td>-0.413916</td>\n",
       "      <td>1.240573</td>\n",
       "      <td>-0.299187</td>\n",
       "      <td>...</td>\n",
       "      <td>0.984856</td>\n",
       "      <td>0.949231</td>\n",
       "      <td>0.921827</td>\n",
       "      <td>0.769546</td>\n",
       "      <td>0.820445</td>\n",
       "      <td>0.003860</td>\n",
       "      <td>0.99243</td>\n",
       "      <td>0.710023</td>\n",
       "      <td>0.911945</td>\n",
       "      <td>0.918624</td>\n",
       "    </tr>\n",
       "    <tr>\n",
       "      <th>8728</th>\n",
       "      <td>-0.591704</td>\n",
       "      <td>0.193017</td>\n",
       "      <td>0.366399</td>\n",
       "      <td>0.669629</td>\n",
       "      <td>0.588342</td>\n",
       "      <td>2.002004</td>\n",
       "      <td>-1.782893</td>\n",
       "      <td>2.354147</td>\n",
       "      <td>0.143480</td>\n",
       "      <td>-0.844557</td>\n",
       "      <td>...</td>\n",
       "      <td>0.984856</td>\n",
       "      <td>0.949231</td>\n",
       "      <td>0.921827</td>\n",
       "      <td>0.769546</td>\n",
       "      <td>0.820445</td>\n",
       "      <td>0.234323</td>\n",
       "      <td>0.99243</td>\n",
       "      <td>0.289977</td>\n",
       "      <td>0.911945</td>\n",
       "      <td>0.918624</td>\n",
       "    </tr>\n",
       "  </tbody>\n",
       "</table>\n",
       "<p>2 rows × 54 columns</p>\n",
       "</div>"
      ],
      "text/plain": [
       "        CNT_CHILDREN  AMT_INCOME_TOTAL  AMT_CREDIT  AMT_ANNUITY  \\\n",
       "201622      0.751970          0.235286    1.375052     0.403220   \n",
       "8728       -0.591704          0.193017    0.366399     0.669629   \n",
       "\n",
       "        AMT_GOODS_PRICE  REGION_POPULATION_RELATIVE  DAYS_BIRTH  \\\n",
       "201622         1.695226                   -0.141886    0.860965   \n",
       "8728           0.588342                    2.002004   -1.782893   \n",
       "\n",
       "        DAYS_EMPLOYED  DAYS_REGISTRATION  DAYS_ID_PUBLISH  ...  \\\n",
       "201622      -0.413916           1.240573        -0.299187  ...   \n",
       "8728         2.354147           0.143480        -0.844557  ...   \n",
       "\n",
       "        REG_REGION_NOT_LIVE_REGION  REG_REGION_NOT_WORK_REGION  \\\n",
       "201622                    0.984856                    0.949231   \n",
       "8728                      0.984856                    0.949231   \n",
       "\n",
       "        REG_CITY_NOT_LIVE_CITY  REG_CITY_NOT_WORK_CITY  \\\n",
       "201622                0.921827                0.769546   \n",
       "8728                  0.921827                0.769546   \n",
       "\n",
       "        LIVE_CITY_NOT_WORK_CITY  ORGANIZATION_TYPE  EMERGENCYSTATE_MODE  \\\n",
       "201622                 0.820445           0.003860              0.99243   \n",
       "8728                   0.820445           0.234323              0.99243   \n",
       "\n",
       "        FLAG_DOCUMENT_3  FLAG_DOCUMENT_6  FLAG_DOCUMENT_8  \n",
       "201622         0.710023         0.911945         0.918624  \n",
       "8728           0.289977         0.911945         0.918624  \n",
       "\n",
       "[2 rows x 54 columns]"
      ]
     },
     "execution_count": 128,
     "metadata": {},
     "output_type": "execute_result"
    }
   ],
   "source": [
    "X_res_stand.head(2)"
   ]
  },
  {
   "cell_type": "code",
   "execution_count": 129,
   "metadata": {},
   "outputs": [
    {
     "data": {
      "text/plain": [
       "(49650, 49650)"
      ]
     },
     "execution_count": 129,
     "metadata": {},
     "output_type": "execute_result"
    }
   ],
   "source": [
    "# Will use \"X_res_stand\" and \"y_res\"\n",
    "len(X_res_stand), len(y_res)"
   ]
  },
  {
   "cell_type": "code",
   "execution_count": 130,
   "metadata": {
    "scrolled": true
   },
   "outputs": [
    {
     "data": {
      "text/html": [
       "<div>\n",
       "<style scoped>\n",
       "    .dataframe tbody tr th:only-of-type {\n",
       "        vertical-align: middle;\n",
       "    }\n",
       "\n",
       "    .dataframe tbody tr th {\n",
       "        vertical-align: top;\n",
       "    }\n",
       "\n",
       "    .dataframe thead th {\n",
       "        text-align: right;\n",
       "    }\n",
       "</style>\n",
       "<table border=\"1\" class=\"dataframe\">\n",
       "  <thead>\n",
       "    <tr style=\"text-align: right;\">\n",
       "      <th></th>\n",
       "      <th>CNT_CHILDREN</th>\n",
       "      <th>AMT_INCOME_TOTAL</th>\n",
       "      <th>AMT_CREDIT</th>\n",
       "      <th>AMT_ANNUITY</th>\n",
       "      <th>AMT_GOODS_PRICE</th>\n",
       "      <th>REGION_POPULATION_RELATIVE</th>\n",
       "      <th>DAYS_BIRTH</th>\n",
       "      <th>DAYS_EMPLOYED</th>\n",
       "      <th>DAYS_REGISTRATION</th>\n",
       "      <th>DAYS_ID_PUBLISH</th>\n",
       "      <th>...</th>\n",
       "      <th>REG_REGION_NOT_WORK_REGION</th>\n",
       "      <th>REG_CITY_NOT_LIVE_CITY</th>\n",
       "      <th>REG_CITY_NOT_WORK_CITY</th>\n",
       "      <th>LIVE_CITY_NOT_WORK_CITY</th>\n",
       "      <th>ORGANIZATION_TYPE</th>\n",
       "      <th>EMERGENCYSTATE_MODE</th>\n",
       "      <th>FLAG_DOCUMENT_3</th>\n",
       "      <th>FLAG_DOCUMENT_6</th>\n",
       "      <th>FLAG_DOCUMENT_8</th>\n",
       "      <th>TARGET</th>\n",
       "    </tr>\n",
       "  </thead>\n",
       "  <tbody>\n",
       "    <tr>\n",
       "      <th>201622</th>\n",
       "      <td>0.751970</td>\n",
       "      <td>0.235286</td>\n",
       "      <td>1.375052</td>\n",
       "      <td>0.403220</td>\n",
       "      <td>1.695226</td>\n",
       "      <td>-0.141886</td>\n",
       "      <td>0.860965</td>\n",
       "      <td>-0.413916</td>\n",
       "      <td>1.240573</td>\n",
       "      <td>-0.299187</td>\n",
       "      <td>...</td>\n",
       "      <td>0.949231</td>\n",
       "      <td>0.921827</td>\n",
       "      <td>0.769546</td>\n",
       "      <td>0.820445</td>\n",
       "      <td>0.003860</td>\n",
       "      <td>0.99243</td>\n",
       "      <td>0.710023</td>\n",
       "      <td>0.911945</td>\n",
       "      <td>0.918624</td>\n",
       "      <td>0</td>\n",
       "    </tr>\n",
       "    <tr>\n",
       "      <th>8728</th>\n",
       "      <td>-0.591704</td>\n",
       "      <td>0.193017</td>\n",
       "      <td>0.366399</td>\n",
       "      <td>0.669629</td>\n",
       "      <td>0.588342</td>\n",
       "      <td>2.002004</td>\n",
       "      <td>-1.782893</td>\n",
       "      <td>2.354147</td>\n",
       "      <td>0.143480</td>\n",
       "      <td>-0.844557</td>\n",
       "      <td>...</td>\n",
       "      <td>0.949231</td>\n",
       "      <td>0.921827</td>\n",
       "      <td>0.769546</td>\n",
       "      <td>0.820445</td>\n",
       "      <td>0.234323</td>\n",
       "      <td>0.99243</td>\n",
       "      <td>0.289977</td>\n",
       "      <td>0.911945</td>\n",
       "      <td>0.918624</td>\n",
       "      <td>0</td>\n",
       "    </tr>\n",
       "  </tbody>\n",
       "</table>\n",
       "<p>2 rows × 55 columns</p>\n",
       "</div>"
      ],
      "text/plain": [
       "        CNT_CHILDREN  AMT_INCOME_TOTAL  AMT_CREDIT  AMT_ANNUITY  \\\n",
       "201622      0.751970          0.235286    1.375052     0.403220   \n",
       "8728       -0.591704          0.193017    0.366399     0.669629   \n",
       "\n",
       "        AMT_GOODS_PRICE  REGION_POPULATION_RELATIVE  DAYS_BIRTH  \\\n",
       "201622         1.695226                   -0.141886    0.860965   \n",
       "8728           0.588342                    2.002004   -1.782893   \n",
       "\n",
       "        DAYS_EMPLOYED  DAYS_REGISTRATION  DAYS_ID_PUBLISH  ...  \\\n",
       "201622      -0.413916           1.240573        -0.299187  ...   \n",
       "8728         2.354147           0.143480        -0.844557  ...   \n",
       "\n",
       "        REG_REGION_NOT_WORK_REGION  REG_CITY_NOT_LIVE_CITY  \\\n",
       "201622                    0.949231                0.921827   \n",
       "8728                      0.949231                0.921827   \n",
       "\n",
       "        REG_CITY_NOT_WORK_CITY  LIVE_CITY_NOT_WORK_CITY  ORGANIZATION_TYPE  \\\n",
       "201622                0.769546                 0.820445           0.003860   \n",
       "8728                  0.769546                 0.820445           0.234323   \n",
       "\n",
       "        EMERGENCYSTATE_MODE  FLAG_DOCUMENT_3  FLAG_DOCUMENT_6  \\\n",
       "201622              0.99243         0.710023         0.911945   \n",
       "8728                0.99243         0.289977         0.911945   \n",
       "\n",
       "        FLAG_DOCUMENT_8  TARGET  \n",
       "201622         0.918624       0  \n",
       "8728           0.918624       0  \n",
       "\n",
       "[2 rows x 55 columns]"
      ]
     },
     "execution_count": 130,
     "metadata": {},
     "output_type": "execute_result"
    }
   ],
   "source": [
    "# Combine \"X_res_stand\" and \"y_res\" to save the data\n",
    "data_resample = pd.concat(objs = [X_res_stand, y_res], axis = 1)\n",
    "data_resample.head(2)"
   ]
  },
  {
   "cell_type": "code",
   "execution_count": 131,
   "metadata": {},
   "outputs": [
    {
     "data": {
      "text/plain": [
       "(49650, 55)"
      ]
     },
     "execution_count": 131,
     "metadata": {},
     "output_type": "execute_result"
    }
   ],
   "source": [
    "data_resample.shape"
   ]
  },
  {
   "cell_type": "code",
   "execution_count": 132,
   "metadata": {},
   "outputs": [],
   "source": [
    "data_resample.to_csv(\"save_files/data_final_resample_standardization.csv\", index = False)"
   ]
  },
  {
   "cell_type": "markdown",
   "metadata": {},
   "source": [
    "### 7. Modeling and Evaluation"
   ]
  },
  {
   "cell_type": "markdown",
   "metadata": {},
   "source": [
    "#### 7a. Logistic Regression"
   ]
  },
  {
   "cell_type": "code",
   "execution_count": 150,
   "metadata": {},
   "outputs": [
    {
     "data": {
      "text/html": [
       "<div>\n",
       "<style scoped>\n",
       "    .dataframe tbody tr th:only-of-type {\n",
       "        vertical-align: middle;\n",
       "    }\n",
       "\n",
       "    .dataframe tbody tr th {\n",
       "        vertical-align: top;\n",
       "    }\n",
       "\n",
       "    .dataframe thead th {\n",
       "        text-align: right;\n",
       "    }\n",
       "</style>\n",
       "<table border=\"1\" class=\"dataframe\">\n",
       "  <thead>\n",
       "    <tr style=\"text-align: right;\">\n",
       "      <th></th>\n",
       "      <th>CNT_CHILDREN</th>\n",
       "      <th>AMT_INCOME_TOTAL</th>\n",
       "      <th>AMT_CREDIT</th>\n",
       "      <th>AMT_ANNUITY</th>\n",
       "      <th>AMT_GOODS_PRICE</th>\n",
       "      <th>REGION_POPULATION_RELATIVE</th>\n",
       "      <th>DAYS_BIRTH</th>\n",
       "      <th>DAYS_EMPLOYED</th>\n",
       "      <th>DAYS_REGISTRATION</th>\n",
       "      <th>DAYS_ID_PUBLISH</th>\n",
       "      <th>...</th>\n",
       "      <th>REG_REGION_NOT_WORK_REGION</th>\n",
       "      <th>REG_CITY_NOT_LIVE_CITY</th>\n",
       "      <th>REG_CITY_NOT_WORK_CITY</th>\n",
       "      <th>LIVE_CITY_NOT_WORK_CITY</th>\n",
       "      <th>ORGANIZATION_TYPE</th>\n",
       "      <th>EMERGENCYSTATE_MODE</th>\n",
       "      <th>FLAG_DOCUMENT_3</th>\n",
       "      <th>FLAG_DOCUMENT_6</th>\n",
       "      <th>FLAG_DOCUMENT_8</th>\n",
       "      <th>TARGET</th>\n",
       "    </tr>\n",
       "  </thead>\n",
       "  <tbody>\n",
       "    <tr>\n",
       "      <th>0</th>\n",
       "      <td>0.751970</td>\n",
       "      <td>0.235286</td>\n",
       "      <td>1.375052</td>\n",
       "      <td>0.403220</td>\n",
       "      <td>1.695226</td>\n",
       "      <td>-0.141886</td>\n",
       "      <td>0.860965</td>\n",
       "      <td>-0.413916</td>\n",
       "      <td>1.240573</td>\n",
       "      <td>-0.299187</td>\n",
       "      <td>...</td>\n",
       "      <td>0.949231</td>\n",
       "      <td>0.921827</td>\n",
       "      <td>0.769546</td>\n",
       "      <td>0.820445</td>\n",
       "      <td>0.003860</td>\n",
       "      <td>0.99243</td>\n",
       "      <td>0.710023</td>\n",
       "      <td>0.911945</td>\n",
       "      <td>0.918624</td>\n",
       "      <td>0</td>\n",
       "    </tr>\n",
       "    <tr>\n",
       "      <th>1</th>\n",
       "      <td>-0.591704</td>\n",
       "      <td>0.193017</td>\n",
       "      <td>0.366399</td>\n",
       "      <td>0.669629</td>\n",
       "      <td>0.588342</td>\n",
       "      <td>2.002004</td>\n",
       "      <td>-1.782893</td>\n",
       "      <td>2.354147</td>\n",
       "      <td>0.143480</td>\n",
       "      <td>-0.844557</td>\n",
       "      <td>...</td>\n",
       "      <td>0.949231</td>\n",
       "      <td>0.921827</td>\n",
       "      <td>0.769546</td>\n",
       "      <td>0.820445</td>\n",
       "      <td>0.234323</td>\n",
       "      <td>0.99243</td>\n",
       "      <td>0.289977</td>\n",
       "      <td>0.911945</td>\n",
       "      <td>0.918624</td>\n",
       "      <td>0</td>\n",
       "    </tr>\n",
       "    <tr>\n",
       "      <th>2</th>\n",
       "      <td>0.751970</td>\n",
       "      <td>-0.060600</td>\n",
       "      <td>-0.582922</td>\n",
       "      <td>-0.649225</td>\n",
       "      <td>-0.453432</td>\n",
       "      <td>-0.696247</td>\n",
       "      <td>-0.850283</td>\n",
       "      <td>-0.434673</td>\n",
       "      <td>0.067698</td>\n",
       "      <td>0.207228</td>\n",
       "      <td>...</td>\n",
       "      <td>0.949231</td>\n",
       "      <td>0.921827</td>\n",
       "      <td>0.769546</td>\n",
       "      <td>0.820445</td>\n",
       "      <td>0.221104</td>\n",
       "      <td>0.99243</td>\n",
       "      <td>0.289977</td>\n",
       "      <td>0.911945</td>\n",
       "      <td>0.918624</td>\n",
       "      <td>0</td>\n",
       "    </tr>\n",
       "    <tr>\n",
       "      <th>3</th>\n",
       "      <td>-0.591704</td>\n",
       "      <td>-0.145139</td>\n",
       "      <td>-0.938917</td>\n",
       "      <td>-1.204133</td>\n",
       "      <td>-0.844097</td>\n",
       "      <td>-0.370580</td>\n",
       "      <td>1.172374</td>\n",
       "      <td>-0.417441</td>\n",
       "      <td>-0.002838</td>\n",
       "      <td>-0.109034</td>\n",
       "      <td>...</td>\n",
       "      <td>0.949231</td>\n",
       "      <td>0.921827</td>\n",
       "      <td>0.230454</td>\n",
       "      <td>0.179555</td>\n",
       "      <td>0.124913</td>\n",
       "      <td>0.99243</td>\n",
       "      <td>0.710023</td>\n",
       "      <td>0.911945</td>\n",
       "      <td>0.918624</td>\n",
       "      <td>0</td>\n",
       "    </tr>\n",
       "    <tr>\n",
       "      <th>4</th>\n",
       "      <td>-0.591704</td>\n",
       "      <td>0.218378</td>\n",
       "      <td>3.214360</td>\n",
       "      <td>1.821318</td>\n",
       "      <td>3.713662</td>\n",
       "      <td>-1.264537</td>\n",
       "      <td>0.777275</td>\n",
       "      <td>-0.433341</td>\n",
       "      <td>0.828726</td>\n",
       "      <td>-0.933692</td>\n",
       "      <td>...</td>\n",
       "      <td>0.949231</td>\n",
       "      <td>0.921827</td>\n",
       "      <td>0.769546</td>\n",
       "      <td>0.820445</td>\n",
       "      <td>0.010952</td>\n",
       "      <td>0.99243</td>\n",
       "      <td>0.710023</td>\n",
       "      <td>0.911945</td>\n",
       "      <td>0.918624</td>\n",
       "      <td>0</td>\n",
       "    </tr>\n",
       "  </tbody>\n",
       "</table>\n",
       "<p>5 rows × 55 columns</p>\n",
       "</div>"
      ],
      "text/plain": [
       "   CNT_CHILDREN  AMT_INCOME_TOTAL  AMT_CREDIT  AMT_ANNUITY  AMT_GOODS_PRICE  \\\n",
       "0      0.751970          0.235286    1.375052     0.403220         1.695226   \n",
       "1     -0.591704          0.193017    0.366399     0.669629         0.588342   \n",
       "2      0.751970         -0.060600   -0.582922    -0.649225        -0.453432   \n",
       "3     -0.591704         -0.145139   -0.938917    -1.204133        -0.844097   \n",
       "4     -0.591704          0.218378    3.214360     1.821318         3.713662   \n",
       "\n",
       "   REGION_POPULATION_RELATIVE  DAYS_BIRTH  DAYS_EMPLOYED  DAYS_REGISTRATION  \\\n",
       "0                   -0.141886    0.860965      -0.413916           1.240573   \n",
       "1                    2.002004   -1.782893       2.354147           0.143480   \n",
       "2                   -0.696247   -0.850283      -0.434673           0.067698   \n",
       "3                   -0.370580    1.172374      -0.417441          -0.002838   \n",
       "4                   -1.264537    0.777275      -0.433341           0.828726   \n",
       "\n",
       "   DAYS_ID_PUBLISH  ...  REG_REGION_NOT_WORK_REGION  REG_CITY_NOT_LIVE_CITY  \\\n",
       "0        -0.299187  ...                    0.949231                0.921827   \n",
       "1        -0.844557  ...                    0.949231                0.921827   \n",
       "2         0.207228  ...                    0.949231                0.921827   \n",
       "3        -0.109034  ...                    0.949231                0.921827   \n",
       "4        -0.933692  ...                    0.949231                0.921827   \n",
       "\n",
       "   REG_CITY_NOT_WORK_CITY  LIVE_CITY_NOT_WORK_CITY  ORGANIZATION_TYPE  \\\n",
       "0                0.769546                 0.820445           0.003860   \n",
       "1                0.769546                 0.820445           0.234323   \n",
       "2                0.769546                 0.820445           0.221104   \n",
       "3                0.230454                 0.179555           0.124913   \n",
       "4                0.769546                 0.820445           0.010952   \n",
       "\n",
       "   EMERGENCYSTATE_MODE  FLAG_DOCUMENT_3  FLAG_DOCUMENT_6  FLAG_DOCUMENT_8  \\\n",
       "0              0.99243         0.710023         0.911945         0.918624   \n",
       "1              0.99243         0.289977         0.911945         0.918624   \n",
       "2              0.99243         0.289977         0.911945         0.918624   \n",
       "3              0.99243         0.710023         0.911945         0.918624   \n",
       "4              0.99243         0.710023         0.911945         0.918624   \n",
       "\n",
       "   TARGET  \n",
       "0       0  \n",
       "1       0  \n",
       "2       0  \n",
       "3       0  \n",
       "4       0  \n",
       "\n",
       "[5 rows x 55 columns]"
      ]
     },
     "execution_count": 150,
     "metadata": {},
     "output_type": "execute_result"
    }
   ],
   "source": [
    "df = pd.read_csv(\"save_files/data_final_resample_standardization.csv\")\n",
    "df.head()"
   ]
  },
  {
   "cell_type": "code",
   "execution_count": 151,
   "metadata": {},
   "outputs": [],
   "source": [
    "X = df.drop(\"TARGET\", axis = 1)\n",
    "y = df[\"TARGET\"]"
   ]
  },
  {
   "cell_type": "code",
   "execution_count": 152,
   "metadata": {},
   "outputs": [
    {
     "name": "stderr",
     "output_type": "stream",
     "text": [
      "/Users/wanda/anaconda3/lib/python3.11/site-packages/sklearn/linear_model/_logistic.py:460: ConvergenceWarning: lbfgs failed to converge (status=1):\n",
      "STOP: TOTAL NO. of ITERATIONS REACHED LIMIT.\n",
      "\n",
      "Increase the number of iterations (max_iter) or scale the data as shown in:\n",
      "    https://scikit-learn.org/stable/modules/preprocessing.html\n",
      "Please also refer to the documentation for alternative solver options:\n",
      "    https://scikit-learn.org/stable/modules/linear_model.html#logistic-regression\n",
      "  n_iter_i = _check_optimize_result(\n",
      "/Users/wanda/anaconda3/lib/python3.11/site-packages/sklearn/linear_model/_logistic.py:460: ConvergenceWarning: lbfgs failed to converge (status=1):\n",
      "STOP: TOTAL NO. of ITERATIONS REACHED LIMIT.\n",
      "\n",
      "Increase the number of iterations (max_iter) or scale the data as shown in:\n",
      "    https://scikit-learn.org/stable/modules/preprocessing.html\n",
      "Please also refer to the documentation for alternative solver options:\n",
      "    https://scikit-learn.org/stable/modules/linear_model.html#logistic-regression\n",
      "  n_iter_i = _check_optimize_result(\n",
      "/Users/wanda/anaconda3/lib/python3.11/site-packages/sklearn/linear_model/_logistic.py:460: ConvergenceWarning: lbfgs failed to converge (status=1):\n",
      "STOP: TOTAL NO. of ITERATIONS REACHED LIMIT.\n",
      "\n",
      "Increase the number of iterations (max_iter) or scale the data as shown in:\n",
      "    https://scikit-learn.org/stable/modules/preprocessing.html\n",
      "Please also refer to the documentation for alternative solver options:\n",
      "    https://scikit-learn.org/stable/modules/linear_model.html#logistic-regression\n",
      "  n_iter_i = _check_optimize_result(\n",
      "/Users/wanda/anaconda3/lib/python3.11/site-packages/sklearn/linear_model/_logistic.py:460: ConvergenceWarning: lbfgs failed to converge (status=1):\n",
      "STOP: TOTAL NO. of ITERATIONS REACHED LIMIT.\n",
      "\n",
      "Increase the number of iterations (max_iter) or scale the data as shown in:\n",
      "    https://scikit-learn.org/stable/modules/preprocessing.html\n",
      "Please also refer to the documentation for alternative solver options:\n",
      "    https://scikit-learn.org/stable/modules/linear_model.html#logistic-regression\n",
      "  n_iter_i = _check_optimize_result(\n",
      "/Users/wanda/anaconda3/lib/python3.11/site-packages/sklearn/linear_model/_logistic.py:460: ConvergenceWarning: lbfgs failed to converge (status=1):\n",
      "STOP: TOTAL NO. of ITERATIONS REACHED LIMIT.\n",
      "\n",
      "Increase the number of iterations (max_iter) or scale the data as shown in:\n",
      "    https://scikit-learn.org/stable/modules/preprocessing.html\n",
      "Please also refer to the documentation for alternative solver options:\n",
      "    https://scikit-learn.org/stable/modules/linear_model.html#logistic-regression\n",
      "  n_iter_i = _check_optimize_result(\n",
      "/Users/wanda/anaconda3/lib/python3.11/site-packages/sklearn/linear_model/_logistic.py:460: ConvergenceWarning: lbfgs failed to converge (status=1):\n",
      "STOP: TOTAL NO. of ITERATIONS REACHED LIMIT.\n",
      "\n",
      "Increase the number of iterations (max_iter) or scale the data as shown in:\n",
      "    https://scikit-learn.org/stable/modules/preprocessing.html\n",
      "Please also refer to the documentation for alternative solver options:\n",
      "    https://scikit-learn.org/stable/modules/linear_model.html#logistic-regression\n",
      "  n_iter_i = _check_optimize_result(\n",
      "/Users/wanda/anaconda3/lib/python3.11/site-packages/sklearn/linear_model/_logistic.py:460: ConvergenceWarning: lbfgs failed to converge (status=1):\n",
      "STOP: TOTAL NO. of ITERATIONS REACHED LIMIT.\n",
      "\n",
      "Increase the number of iterations (max_iter) or scale the data as shown in:\n",
      "    https://scikit-learn.org/stable/modules/preprocessing.html\n",
      "Please also refer to the documentation for alternative solver options:\n",
      "    https://scikit-learn.org/stable/modules/linear_model.html#logistic-regression\n",
      "  n_iter_i = _check_optimize_result(\n",
      "/Users/wanda/anaconda3/lib/python3.11/site-packages/sklearn/linear_model/_logistic.py:460: ConvergenceWarning: lbfgs failed to converge (status=1):\n",
      "STOP: TOTAL NO. of ITERATIONS REACHED LIMIT.\n",
      "\n",
      "Increase the number of iterations (max_iter) or scale the data as shown in:\n",
      "    https://scikit-learn.org/stable/modules/preprocessing.html\n",
      "Please also refer to the documentation for alternative solver options:\n",
      "    https://scikit-learn.org/stable/modules/linear_model.html#logistic-regression\n",
      "  n_iter_i = _check_optimize_result(\n",
      "/Users/wanda/anaconda3/lib/python3.11/site-packages/sklearn/linear_model/_logistic.py:460: ConvergenceWarning: lbfgs failed to converge (status=1):\n",
      "STOP: TOTAL NO. of ITERATIONS REACHED LIMIT.\n",
      "\n",
      "Increase the number of iterations (max_iter) or scale the data as shown in:\n",
      "    https://scikit-learn.org/stable/modules/preprocessing.html\n",
      "Please also refer to the documentation for alternative solver options:\n",
      "    https://scikit-learn.org/stable/modules/linear_model.html#logistic-regression\n",
      "  n_iter_i = _check_optimize_result(\n",
      "/Users/wanda/anaconda3/lib/python3.11/site-packages/sklearn/linear_model/_logistic.py:460: ConvergenceWarning: lbfgs failed to converge (status=1):\n",
      "STOP: TOTAL NO. of ITERATIONS REACHED LIMIT.\n",
      "\n",
      "Increase the number of iterations (max_iter) or scale the data as shown in:\n",
      "    https://scikit-learn.org/stable/modules/preprocessing.html\n",
      "Please also refer to the documentation for alternative solver options:\n",
      "    https://scikit-learn.org/stable/modules/linear_model.html#logistic-regression\n",
      "  n_iter_i = _check_optimize_result(\n",
      "/Users/wanda/anaconda3/lib/python3.11/site-packages/sklearn/linear_model/_logistic.py:460: ConvergenceWarning: lbfgs failed to converge (status=1):\n",
      "STOP: TOTAL NO. of ITERATIONS REACHED LIMIT.\n",
      "\n",
      "Increase the number of iterations (max_iter) or scale the data as shown in:\n",
      "    https://scikit-learn.org/stable/modules/preprocessing.html\n",
      "Please also refer to the documentation for alternative solver options:\n",
      "    https://scikit-learn.org/stable/modules/linear_model.html#logistic-regression\n",
      "  n_iter_i = _check_optimize_result(\n",
      "/Users/wanda/anaconda3/lib/python3.11/site-packages/sklearn/linear_model/_logistic.py:460: ConvergenceWarning: lbfgs failed to converge (status=1):\n",
      "STOP: TOTAL NO. of ITERATIONS REACHED LIMIT.\n",
      "\n",
      "Increase the number of iterations (max_iter) or scale the data as shown in:\n",
      "    https://scikit-learn.org/stable/modules/preprocessing.html\n",
      "Please also refer to the documentation for alternative solver options:\n",
      "    https://scikit-learn.org/stable/modules/linear_model.html#logistic-regression\n",
      "  n_iter_i = _check_optimize_result(\n",
      "/Users/wanda/anaconda3/lib/python3.11/site-packages/sklearn/linear_model/_logistic.py:460: ConvergenceWarning: lbfgs failed to converge (status=1):\n",
      "STOP: TOTAL NO. of ITERATIONS REACHED LIMIT.\n",
      "\n",
      "Increase the number of iterations (max_iter) or scale the data as shown in:\n",
      "    https://scikit-learn.org/stable/modules/preprocessing.html\n",
      "Please also refer to the documentation for alternative solver options:\n",
      "    https://scikit-learn.org/stable/modules/linear_model.html#logistic-regression\n",
      "  n_iter_i = _check_optimize_result(\n",
      "/Users/wanda/anaconda3/lib/python3.11/site-packages/sklearn/linear_model/_logistic.py:460: ConvergenceWarning: lbfgs failed to converge (status=1):\n",
      "STOP: TOTAL NO. of ITERATIONS REACHED LIMIT.\n",
      "\n",
      "Increase the number of iterations (max_iter) or scale the data as shown in:\n",
      "    https://scikit-learn.org/stable/modules/preprocessing.html\n",
      "Please also refer to the documentation for alternative solver options:\n",
      "    https://scikit-learn.org/stable/modules/linear_model.html#logistic-regression\n",
      "  n_iter_i = _check_optimize_result(\n",
      "/Users/wanda/anaconda3/lib/python3.11/site-packages/sklearn/linear_model/_logistic.py:460: ConvergenceWarning: lbfgs failed to converge (status=1):\n",
      "STOP: TOTAL NO. of ITERATIONS REACHED LIMIT.\n",
      "\n",
      "Increase the number of iterations (max_iter) or scale the data as shown in:\n",
      "    https://scikit-learn.org/stable/modules/preprocessing.html\n",
      "Please also refer to the documentation for alternative solver options:\n",
      "    https://scikit-learn.org/stable/modules/linear_model.html#logistic-regression\n",
      "  n_iter_i = _check_optimize_result(\n",
      "/Users/wanda/anaconda3/lib/python3.11/site-packages/sklearn/linear_model/_logistic.py:460: ConvergenceWarning: lbfgs failed to converge (status=1):\n",
      "STOP: TOTAL NO. of ITERATIONS REACHED LIMIT.\n",
      "\n",
      "Increase the number of iterations (max_iter) or scale the data as shown in:\n",
      "    https://scikit-learn.org/stable/modules/preprocessing.html\n",
      "Please also refer to the documentation for alternative solver options:\n",
      "    https://scikit-learn.org/stable/modules/linear_model.html#logistic-regression\n",
      "  n_iter_i = _check_optimize_result(\n"
     ]
    },
    {
     "name": "stderr",
     "output_type": "stream",
     "text": [
      "/Users/wanda/anaconda3/lib/python3.11/site-packages/sklearn/linear_model/_logistic.py:460: ConvergenceWarning: lbfgs failed to converge (status=1):\n",
      "STOP: TOTAL NO. of ITERATIONS REACHED LIMIT.\n",
      "\n",
      "Increase the number of iterations (max_iter) or scale the data as shown in:\n",
      "    https://scikit-learn.org/stable/modules/preprocessing.html\n",
      "Please also refer to the documentation for alternative solver options:\n",
      "    https://scikit-learn.org/stable/modules/linear_model.html#logistic-regression\n",
      "  n_iter_i = _check_optimize_result(\n",
      "/Users/wanda/anaconda3/lib/python3.11/site-packages/sklearn/linear_model/_logistic.py:460: ConvergenceWarning: lbfgs failed to converge (status=1):\n",
      "STOP: TOTAL NO. of ITERATIONS REACHED LIMIT.\n",
      "\n",
      "Increase the number of iterations (max_iter) or scale the data as shown in:\n",
      "    https://scikit-learn.org/stable/modules/preprocessing.html\n",
      "Please also refer to the documentation for alternative solver options:\n",
      "    https://scikit-learn.org/stable/modules/linear_model.html#logistic-regression\n",
      "  n_iter_i = _check_optimize_result(\n",
      "/Users/wanda/anaconda3/lib/python3.11/site-packages/sklearn/linear_model/_logistic.py:460: ConvergenceWarning: lbfgs failed to converge (status=1):\n",
      "STOP: TOTAL NO. of ITERATIONS REACHED LIMIT.\n",
      "\n",
      "Increase the number of iterations (max_iter) or scale the data as shown in:\n",
      "    https://scikit-learn.org/stable/modules/preprocessing.html\n",
      "Please also refer to the documentation for alternative solver options:\n",
      "    https://scikit-learn.org/stable/modules/linear_model.html#logistic-regression\n",
      "  n_iter_i = _check_optimize_result(\n",
      "/Users/wanda/anaconda3/lib/python3.11/site-packages/sklearn/linear_model/_logistic.py:460: ConvergenceWarning: lbfgs failed to converge (status=1):\n",
      "STOP: TOTAL NO. of ITERATIONS REACHED LIMIT.\n",
      "\n",
      "Increase the number of iterations (max_iter) or scale the data as shown in:\n",
      "    https://scikit-learn.org/stable/modules/preprocessing.html\n",
      "Please also refer to the documentation for alternative solver options:\n",
      "    https://scikit-learn.org/stable/modules/linear_model.html#logistic-regression\n",
      "  n_iter_i = _check_optimize_result(\n"
     ]
    },
    {
     "data": {
      "text/html": [
       "<style>#sk-container-id-3 {color: black;}#sk-container-id-3 pre{padding: 0;}#sk-container-id-3 div.sk-toggleable {background-color: white;}#sk-container-id-3 label.sk-toggleable__label {cursor: pointer;display: block;width: 100%;margin-bottom: 0;padding: 0.3em;box-sizing: border-box;text-align: center;}#sk-container-id-3 label.sk-toggleable__label-arrow:before {content: \"▸\";float: left;margin-right: 0.25em;color: #696969;}#sk-container-id-3 label.sk-toggleable__label-arrow:hover:before {color: black;}#sk-container-id-3 div.sk-estimator:hover label.sk-toggleable__label-arrow:before {color: black;}#sk-container-id-3 div.sk-toggleable__content {max-height: 0;max-width: 0;overflow: hidden;text-align: left;background-color: #f0f8ff;}#sk-container-id-3 div.sk-toggleable__content pre {margin: 0.2em;color: black;border-radius: 0.25em;background-color: #f0f8ff;}#sk-container-id-3 input.sk-toggleable__control:checked~div.sk-toggleable__content {max-height: 200px;max-width: 100%;overflow: auto;}#sk-container-id-3 input.sk-toggleable__control:checked~label.sk-toggleable__label-arrow:before {content: \"▾\";}#sk-container-id-3 div.sk-estimator input.sk-toggleable__control:checked~label.sk-toggleable__label {background-color: #d4ebff;}#sk-container-id-3 div.sk-label input.sk-toggleable__control:checked~label.sk-toggleable__label {background-color: #d4ebff;}#sk-container-id-3 input.sk-hidden--visually {border: 0;clip: rect(1px 1px 1px 1px);clip: rect(1px, 1px, 1px, 1px);height: 1px;margin: -1px;overflow: hidden;padding: 0;position: absolute;width: 1px;}#sk-container-id-3 div.sk-estimator {font-family: monospace;background-color: #f0f8ff;border: 1px dotted black;border-radius: 0.25em;box-sizing: border-box;margin-bottom: 0.5em;}#sk-container-id-3 div.sk-estimator:hover {background-color: #d4ebff;}#sk-container-id-3 div.sk-parallel-item::after {content: \"\";width: 100%;border-bottom: 1px solid gray;flex-grow: 1;}#sk-container-id-3 div.sk-label:hover label.sk-toggleable__label {background-color: #d4ebff;}#sk-container-id-3 div.sk-serial::before {content: \"\";position: absolute;border-left: 1px solid gray;box-sizing: border-box;top: 0;bottom: 0;left: 50%;z-index: 0;}#sk-container-id-3 div.sk-serial {display: flex;flex-direction: column;align-items: center;background-color: white;padding-right: 0.2em;padding-left: 0.2em;position: relative;}#sk-container-id-3 div.sk-item {position: relative;z-index: 1;}#sk-container-id-3 div.sk-parallel {display: flex;align-items: stretch;justify-content: center;background-color: white;position: relative;}#sk-container-id-3 div.sk-item::before, #sk-container-id-3 div.sk-parallel-item::before {content: \"\";position: absolute;border-left: 1px solid gray;box-sizing: border-box;top: 0;bottom: 0;left: 50%;z-index: -1;}#sk-container-id-3 div.sk-parallel-item {display: flex;flex-direction: column;z-index: 1;position: relative;background-color: white;}#sk-container-id-3 div.sk-parallel-item:first-child::after {align-self: flex-end;width: 50%;}#sk-container-id-3 div.sk-parallel-item:last-child::after {align-self: flex-start;width: 50%;}#sk-container-id-3 div.sk-parallel-item:only-child::after {width: 0;}#sk-container-id-3 div.sk-dashed-wrapped {border: 1px dashed gray;margin: 0 0.4em 0.5em 0.4em;box-sizing: border-box;padding-bottom: 0.4em;background-color: white;}#sk-container-id-3 div.sk-label label {font-family: monospace;font-weight: bold;display: inline-block;line-height: 1.2em;}#sk-container-id-3 div.sk-label-container {text-align: center;}#sk-container-id-3 div.sk-container {/* jupyter's `normalize.less` sets `[hidden] { display: none; }` but bootstrap.min.css set `[hidden] { display: none !important; }` so we also need the `!important` here to be able to override the default hidden behavior on the sphinx rendered scikit-learn.org. See: https://github.com/scikit-learn/scikit-learn/issues/21755 */display: inline-block !important;position: relative;}#sk-container-id-3 div.sk-text-repr-fallback {display: none;}</style><div id=\"sk-container-id-3\" class=\"sk-top-container\"><div class=\"sk-text-repr-fallback\"><pre>GridSearchCV(cv=5, estimator=LogisticRegression(random_state=42), n_jobs=2,\n",
       "             param_grid={&#x27;C&#x27;: [100, 10, 1.0, 0.1, 0.01], &#x27;penalty&#x27;: [&#x27;l2&#x27;],\n",
       "                         &#x27;solver&#x27;: [&#x27;newton-cg&#x27;, &#x27;lbfgs&#x27;, &#x27;liblinear&#x27;]},\n",
       "             scoring=&#x27;f1&#x27;)</pre><b>In a Jupyter environment, please rerun this cell to show the HTML representation or trust the notebook. <br />On GitHub, the HTML representation is unable to render, please try loading this page with nbviewer.org.</b></div><div class=\"sk-container\" hidden><div class=\"sk-item sk-dashed-wrapped\"><div class=\"sk-label-container\"><div class=\"sk-label sk-toggleable\"><input class=\"sk-toggleable__control sk-hidden--visually\" id=\"sk-estimator-id-7\" type=\"checkbox\" ><label for=\"sk-estimator-id-7\" class=\"sk-toggleable__label sk-toggleable__label-arrow\">GridSearchCV</label><div class=\"sk-toggleable__content\"><pre>GridSearchCV(cv=5, estimator=LogisticRegression(random_state=42), n_jobs=2,\n",
       "             param_grid={&#x27;C&#x27;: [100, 10, 1.0, 0.1, 0.01], &#x27;penalty&#x27;: [&#x27;l2&#x27;],\n",
       "                         &#x27;solver&#x27;: [&#x27;newton-cg&#x27;, &#x27;lbfgs&#x27;, &#x27;liblinear&#x27;]},\n",
       "             scoring=&#x27;f1&#x27;)</pre></div></div></div><div class=\"sk-parallel\"><div class=\"sk-parallel-item\"><div class=\"sk-item\"><div class=\"sk-label-container\"><div class=\"sk-label sk-toggleable\"><input class=\"sk-toggleable__control sk-hidden--visually\" id=\"sk-estimator-id-8\" type=\"checkbox\" ><label for=\"sk-estimator-id-8\" class=\"sk-toggleable__label sk-toggleable__label-arrow\">estimator: LogisticRegression</label><div class=\"sk-toggleable__content\"><pre>LogisticRegression(random_state=42)</pre></div></div></div><div class=\"sk-serial\"><div class=\"sk-item\"><div class=\"sk-estimator sk-toggleable\"><input class=\"sk-toggleable__control sk-hidden--visually\" id=\"sk-estimator-id-9\" type=\"checkbox\" ><label for=\"sk-estimator-id-9\" class=\"sk-toggleable__label sk-toggleable__label-arrow\">LogisticRegression</label><div class=\"sk-toggleable__content\"><pre>LogisticRegression(random_state=42)</pre></div></div></div></div></div></div></div></div></div></div>"
      ],
      "text/plain": [
       "GridSearchCV(cv=5, estimator=LogisticRegression(random_state=42), n_jobs=2,\n",
       "             param_grid={'C': [100, 10, 1.0, 0.1, 0.01], 'penalty': ['l2'],\n",
       "                         'solver': ['newton-cg', 'lbfgs', 'liblinear']},\n",
       "             scoring='f1')"
      ]
     },
     "execution_count": 152,
     "metadata": {},
     "output_type": "execute_result"
    }
   ],
   "source": [
    "logistic_classifier = LogisticRegression(random_state = 42)\n",
    "param_grid = {\"solver\": [\"newton-cg\", \"lbfgs\", \"liblinear\"], \n",
    "              \"penalty\": [\"l2\"], \n",
    "              \"C\": [100, 10, 1.0, 0.1, 0.01]}\n",
    "\n",
    "grid_search_1 = GridSearchCV(logistic_classifier, param_grid, n_jobs = 2, scoring = \"f1\", cv = 5)\n",
    "grid_search_1.fit(X, y)"
   ]
  },
  {
   "cell_type": "code",
   "execution_count": 153,
   "metadata": {},
   "outputs": [
    {
     "name": "stdout",
     "output_type": "stream",
     "text": [
      "Best Params:  {'C': 100, 'penalty': 'l2', 'solver': 'newton-cg'}\n",
      "Best Score:  0.6748808765269741\n"
     ]
    }
   ],
   "source": [
    "print(\"Best Params: \", grid_search_1.best_params_)\n",
    "print(\"Best Score: \", grid_search_1.best_score_)"
   ]
  },
  {
   "cell_type": "code",
   "execution_count": 154,
   "metadata": {},
   "outputs": [
    {
     "data": {
      "text/plain": [
       "['logistic_classifier_model.joblib']"
      ]
     },
     "execution_count": 154,
     "metadata": {},
     "output_type": "execute_result"
    }
   ],
   "source": [
    "# save the Logistic classifier model\n",
    "joblib.dump(grid_search_1, \"save_files/logistic_classifier_model.joblib\")"
   ]
  },
  {
   "cell_type": "markdown",
   "metadata": {},
   "source": [
    "#### 7b. Random Forest"
   ]
  },
  {
   "cell_type": "code",
   "execution_count": 155,
   "metadata": {},
   "outputs": [
    {
     "name": "stderr",
     "output_type": "stream",
     "text": [
      "/Users/wanda/anaconda3/lib/python3.11/site-packages/joblib/externals/loky/process_executor.py:700: UserWarning: A worker stopped while some jobs were given to the executor. This can be caused by a too short worker timeout or by a memory leak.\n",
      "  warnings.warn(\n"
     ]
    },
    {
     "data": {
      "text/html": [
       "<style>#sk-container-id-4 {color: black;}#sk-container-id-4 pre{padding: 0;}#sk-container-id-4 div.sk-toggleable {background-color: white;}#sk-container-id-4 label.sk-toggleable__label {cursor: pointer;display: block;width: 100%;margin-bottom: 0;padding: 0.3em;box-sizing: border-box;text-align: center;}#sk-container-id-4 label.sk-toggleable__label-arrow:before {content: \"▸\";float: left;margin-right: 0.25em;color: #696969;}#sk-container-id-4 label.sk-toggleable__label-arrow:hover:before {color: black;}#sk-container-id-4 div.sk-estimator:hover label.sk-toggleable__label-arrow:before {color: black;}#sk-container-id-4 div.sk-toggleable__content {max-height: 0;max-width: 0;overflow: hidden;text-align: left;background-color: #f0f8ff;}#sk-container-id-4 div.sk-toggleable__content pre {margin: 0.2em;color: black;border-radius: 0.25em;background-color: #f0f8ff;}#sk-container-id-4 input.sk-toggleable__control:checked~div.sk-toggleable__content {max-height: 200px;max-width: 100%;overflow: auto;}#sk-container-id-4 input.sk-toggleable__control:checked~label.sk-toggleable__label-arrow:before {content: \"▾\";}#sk-container-id-4 div.sk-estimator input.sk-toggleable__control:checked~label.sk-toggleable__label {background-color: #d4ebff;}#sk-container-id-4 div.sk-label input.sk-toggleable__control:checked~label.sk-toggleable__label {background-color: #d4ebff;}#sk-container-id-4 input.sk-hidden--visually {border: 0;clip: rect(1px 1px 1px 1px);clip: rect(1px, 1px, 1px, 1px);height: 1px;margin: -1px;overflow: hidden;padding: 0;position: absolute;width: 1px;}#sk-container-id-4 div.sk-estimator {font-family: monospace;background-color: #f0f8ff;border: 1px dotted black;border-radius: 0.25em;box-sizing: border-box;margin-bottom: 0.5em;}#sk-container-id-4 div.sk-estimator:hover {background-color: #d4ebff;}#sk-container-id-4 div.sk-parallel-item::after {content: \"\";width: 100%;border-bottom: 1px solid gray;flex-grow: 1;}#sk-container-id-4 div.sk-label:hover label.sk-toggleable__label {background-color: #d4ebff;}#sk-container-id-4 div.sk-serial::before {content: \"\";position: absolute;border-left: 1px solid gray;box-sizing: border-box;top: 0;bottom: 0;left: 50%;z-index: 0;}#sk-container-id-4 div.sk-serial {display: flex;flex-direction: column;align-items: center;background-color: white;padding-right: 0.2em;padding-left: 0.2em;position: relative;}#sk-container-id-4 div.sk-item {position: relative;z-index: 1;}#sk-container-id-4 div.sk-parallel {display: flex;align-items: stretch;justify-content: center;background-color: white;position: relative;}#sk-container-id-4 div.sk-item::before, #sk-container-id-4 div.sk-parallel-item::before {content: \"\";position: absolute;border-left: 1px solid gray;box-sizing: border-box;top: 0;bottom: 0;left: 50%;z-index: -1;}#sk-container-id-4 div.sk-parallel-item {display: flex;flex-direction: column;z-index: 1;position: relative;background-color: white;}#sk-container-id-4 div.sk-parallel-item:first-child::after {align-self: flex-end;width: 50%;}#sk-container-id-4 div.sk-parallel-item:last-child::after {align-self: flex-start;width: 50%;}#sk-container-id-4 div.sk-parallel-item:only-child::after {width: 0;}#sk-container-id-4 div.sk-dashed-wrapped {border: 1px dashed gray;margin: 0 0.4em 0.5em 0.4em;box-sizing: border-box;padding-bottom: 0.4em;background-color: white;}#sk-container-id-4 div.sk-label label {font-family: monospace;font-weight: bold;display: inline-block;line-height: 1.2em;}#sk-container-id-4 div.sk-label-container {text-align: center;}#sk-container-id-4 div.sk-container {/* jupyter's `normalize.less` sets `[hidden] { display: none; }` but bootstrap.min.css set `[hidden] { display: none !important; }` so we also need the `!important` here to be able to override the default hidden behavior on the sphinx rendered scikit-learn.org. See: https://github.com/scikit-learn/scikit-learn/issues/21755 */display: inline-block !important;position: relative;}#sk-container-id-4 div.sk-text-repr-fallback {display: none;}</style><div id=\"sk-container-id-4\" class=\"sk-top-container\"><div class=\"sk-text-repr-fallback\"><pre>GridSearchCV(cv=5, estimator=RandomForestClassifier(random_state=42), n_jobs=2,\n",
       "             param_grid={&#x27;max_features&#x27;: [&#x27;sqrt&#x27;, &#x27;log2&#x27;],\n",
       "                         &#x27;n_estimators&#x27;: [10, 100, 1000]},\n",
       "             scoring=&#x27;f1&#x27;)</pre><b>In a Jupyter environment, please rerun this cell to show the HTML representation or trust the notebook. <br />On GitHub, the HTML representation is unable to render, please try loading this page with nbviewer.org.</b></div><div class=\"sk-container\" hidden><div class=\"sk-item sk-dashed-wrapped\"><div class=\"sk-label-container\"><div class=\"sk-label sk-toggleable\"><input class=\"sk-toggleable__control sk-hidden--visually\" id=\"sk-estimator-id-10\" type=\"checkbox\" ><label for=\"sk-estimator-id-10\" class=\"sk-toggleable__label sk-toggleable__label-arrow\">GridSearchCV</label><div class=\"sk-toggleable__content\"><pre>GridSearchCV(cv=5, estimator=RandomForestClassifier(random_state=42), n_jobs=2,\n",
       "             param_grid={&#x27;max_features&#x27;: [&#x27;sqrt&#x27;, &#x27;log2&#x27;],\n",
       "                         &#x27;n_estimators&#x27;: [10, 100, 1000]},\n",
       "             scoring=&#x27;f1&#x27;)</pre></div></div></div><div class=\"sk-parallel\"><div class=\"sk-parallel-item\"><div class=\"sk-item\"><div class=\"sk-label-container\"><div class=\"sk-label sk-toggleable\"><input class=\"sk-toggleable__control sk-hidden--visually\" id=\"sk-estimator-id-11\" type=\"checkbox\" ><label for=\"sk-estimator-id-11\" class=\"sk-toggleable__label sk-toggleable__label-arrow\">estimator: RandomForestClassifier</label><div class=\"sk-toggleable__content\"><pre>RandomForestClassifier(random_state=42)</pre></div></div></div><div class=\"sk-serial\"><div class=\"sk-item\"><div class=\"sk-estimator sk-toggleable\"><input class=\"sk-toggleable__control sk-hidden--visually\" id=\"sk-estimator-id-12\" type=\"checkbox\" ><label for=\"sk-estimator-id-12\" class=\"sk-toggleable__label sk-toggleable__label-arrow\">RandomForestClassifier</label><div class=\"sk-toggleable__content\"><pre>RandomForestClassifier(random_state=42)</pre></div></div></div></div></div></div></div></div></div></div>"
      ],
      "text/plain": [
       "GridSearchCV(cv=5, estimator=RandomForestClassifier(random_state=42), n_jobs=2,\n",
       "             param_grid={'max_features': ['sqrt', 'log2'],\n",
       "                         'n_estimators': [10, 100, 1000]},\n",
       "             scoring='f1')"
      ]
     },
     "execution_count": 155,
     "metadata": {},
     "output_type": "execute_result"
    }
   ],
   "source": [
    "forest_classifier = RandomForestClassifier(random_state = 42)\n",
    "param_grid = {\"n_estimators\": [10, 100, 1000], \n",
    "              \"max_features\": [\"sqrt\", \"log2\"]}\n",
    "\n",
    "grid_search_2 = GridSearchCV(forest_classifier, param_grid, n_jobs = 2, scoring = \"f1\", cv = 5)\n",
    "grid_search_2.fit(X, y)"
   ]
  },
  {
   "cell_type": "code",
   "execution_count": 156,
   "metadata": {},
   "outputs": [
    {
     "name": "stdout",
     "output_type": "stream",
     "text": [
      "Best Params:  {'max_features': 'log2', 'n_estimators': 1000}\n",
      "Best Score:  0.6756810207415448\n"
     ]
    }
   ],
   "source": [
    "print(\"Best Params: \", grid_search_2.best_params_)\n",
    "print(\"Best Score: \", grid_search_2.best_score_)"
   ]
  },
  {
   "cell_type": "code",
   "execution_count": 157,
   "metadata": {},
   "outputs": [
    {
     "data": {
      "text/plain": [
       "['randomforest_classifier_model.joblib']"
      ]
     },
     "execution_count": 157,
     "metadata": {},
     "output_type": "execute_result"
    }
   ],
   "source": [
    "# save the Random Forest classifier model\n",
    "joblib.dump(grid_search_2, \"save_files/randomforest_classifier_model.joblib\")"
   ]
  },
  {
   "cell_type": "markdown",
   "metadata": {},
   "source": [
    "### 8. Remodeling Using Random Forest Features Importance "
   ]
  },
  {
   "cell_type": "code",
   "execution_count": 159,
   "metadata": {},
   "outputs": [
    {
     "data": {
      "text/html": [
       "<style>#sk-container-id-5 {color: black;}#sk-container-id-5 pre{padding: 0;}#sk-container-id-5 div.sk-toggleable {background-color: white;}#sk-container-id-5 label.sk-toggleable__label {cursor: pointer;display: block;width: 100%;margin-bottom: 0;padding: 0.3em;box-sizing: border-box;text-align: center;}#sk-container-id-5 label.sk-toggleable__label-arrow:before {content: \"▸\";float: left;margin-right: 0.25em;color: #696969;}#sk-container-id-5 label.sk-toggleable__label-arrow:hover:before {color: black;}#sk-container-id-5 div.sk-estimator:hover label.sk-toggleable__label-arrow:before {color: black;}#sk-container-id-5 div.sk-toggleable__content {max-height: 0;max-width: 0;overflow: hidden;text-align: left;background-color: #f0f8ff;}#sk-container-id-5 div.sk-toggleable__content pre {margin: 0.2em;color: black;border-radius: 0.25em;background-color: #f0f8ff;}#sk-container-id-5 input.sk-toggleable__control:checked~div.sk-toggleable__content {max-height: 200px;max-width: 100%;overflow: auto;}#sk-container-id-5 input.sk-toggleable__control:checked~label.sk-toggleable__label-arrow:before {content: \"▾\";}#sk-container-id-5 div.sk-estimator input.sk-toggleable__control:checked~label.sk-toggleable__label {background-color: #d4ebff;}#sk-container-id-5 div.sk-label input.sk-toggleable__control:checked~label.sk-toggleable__label {background-color: #d4ebff;}#sk-container-id-5 input.sk-hidden--visually {border: 0;clip: rect(1px 1px 1px 1px);clip: rect(1px, 1px, 1px, 1px);height: 1px;margin: -1px;overflow: hidden;padding: 0;position: absolute;width: 1px;}#sk-container-id-5 div.sk-estimator {font-family: monospace;background-color: #f0f8ff;border: 1px dotted black;border-radius: 0.25em;box-sizing: border-box;margin-bottom: 0.5em;}#sk-container-id-5 div.sk-estimator:hover {background-color: #d4ebff;}#sk-container-id-5 div.sk-parallel-item::after {content: \"\";width: 100%;border-bottom: 1px solid gray;flex-grow: 1;}#sk-container-id-5 div.sk-label:hover label.sk-toggleable__label {background-color: #d4ebff;}#sk-container-id-5 div.sk-serial::before {content: \"\";position: absolute;border-left: 1px solid gray;box-sizing: border-box;top: 0;bottom: 0;left: 50%;z-index: 0;}#sk-container-id-5 div.sk-serial {display: flex;flex-direction: column;align-items: center;background-color: white;padding-right: 0.2em;padding-left: 0.2em;position: relative;}#sk-container-id-5 div.sk-item {position: relative;z-index: 1;}#sk-container-id-5 div.sk-parallel {display: flex;align-items: stretch;justify-content: center;background-color: white;position: relative;}#sk-container-id-5 div.sk-item::before, #sk-container-id-5 div.sk-parallel-item::before {content: \"\";position: absolute;border-left: 1px solid gray;box-sizing: border-box;top: 0;bottom: 0;left: 50%;z-index: -1;}#sk-container-id-5 div.sk-parallel-item {display: flex;flex-direction: column;z-index: 1;position: relative;background-color: white;}#sk-container-id-5 div.sk-parallel-item:first-child::after {align-self: flex-end;width: 50%;}#sk-container-id-5 div.sk-parallel-item:last-child::after {align-self: flex-start;width: 50%;}#sk-container-id-5 div.sk-parallel-item:only-child::after {width: 0;}#sk-container-id-5 div.sk-dashed-wrapped {border: 1px dashed gray;margin: 0 0.4em 0.5em 0.4em;box-sizing: border-box;padding-bottom: 0.4em;background-color: white;}#sk-container-id-5 div.sk-label label {font-family: monospace;font-weight: bold;display: inline-block;line-height: 1.2em;}#sk-container-id-5 div.sk-label-container {text-align: center;}#sk-container-id-5 div.sk-container {/* jupyter's `normalize.less` sets `[hidden] { display: none; }` but bootstrap.min.css set `[hidden] { display: none !important; }` so we also need the `!important` here to be able to override the default hidden behavior on the sphinx rendered scikit-learn.org. See: https://github.com/scikit-learn/scikit-learn/issues/21755 */display: inline-block !important;position: relative;}#sk-container-id-5 div.sk-text-repr-fallback {display: none;}</style><div id=\"sk-container-id-5\" class=\"sk-top-container\"><div class=\"sk-text-repr-fallback\"><pre>RandomForestClassifier(max_features=&#x27;log2&#x27;, n_estimators=1000, random_state=42)</pre><b>In a Jupyter environment, please rerun this cell to show the HTML representation or trust the notebook. <br />On GitHub, the HTML representation is unable to render, please try loading this page with nbviewer.org.</b></div><div class=\"sk-container\" hidden><div class=\"sk-item\"><div class=\"sk-estimator sk-toggleable\"><input class=\"sk-toggleable__control sk-hidden--visually\" id=\"sk-estimator-id-13\" type=\"checkbox\" checked><label for=\"sk-estimator-id-13\" class=\"sk-toggleable__label sk-toggleable__label-arrow\">RandomForestClassifier</label><div class=\"sk-toggleable__content\"><pre>RandomForestClassifier(max_features=&#x27;log2&#x27;, n_estimators=1000, random_state=42)</pre></div></div></div></div></div>"
      ],
      "text/plain": [
       "RandomForestClassifier(max_features='log2', n_estimators=1000, random_state=42)"
      ]
     },
     "execution_count": 159,
     "metadata": {},
     "output_type": "execute_result"
    }
   ],
   "source": [
    "forest_classifier1 = RandomForestClassifier(random_state = 42, \n",
    "                                            max_features = \"log2\",\n",
    "                                            n_estimators = 1000)\n",
    "\n",
    "forest_classifier1.fit(X, y)"
   ]
  },
  {
   "cell_type": "code",
   "execution_count": 177,
   "metadata": {},
   "outputs": [
    {
     "data": {
      "text/plain": [
       "Text(0.5, 0, 'Random Forest Feature Importance')"
      ]
     },
     "execution_count": 177,
     "metadata": {},
     "output_type": "execute_result"
    },
    {
     "data": {
      "image/png": "[encoded data removed]",
      "text/plain": [
       "<Figure size 800x1200 with 1 Axes>"
      ]
     },
     "metadata": {},
     "output_type": "display_data"
    }
   ],
   "source": [
    "sorted_idx = forest_classifier1.feature_importances_.argsort()\n",
    "\n",
    "plt.figure(figsize = (8, 12))\n",
    "plt.barh(X.columns[sorted_idx], forest_classifier1.feature_importances_[sorted_idx])\n",
    "plt.xlabel(\"Random Forest Feature Importance\")"
   ]
  },
  {
   "cell_type": "code",
   "execution_count": 170,
   "metadata": {},
   "outputs": [
    {
     "data": {
      "text/html": [
       "<style>#sk-container-id-6 {color: black;}#sk-container-id-6 pre{padding: 0;}#sk-container-id-6 div.sk-toggleable {background-color: white;}#sk-container-id-6 label.sk-toggleable__label {cursor: pointer;display: block;width: 100%;margin-bottom: 0;padding: 0.3em;box-sizing: border-box;text-align: center;}#sk-container-id-6 label.sk-toggleable__label-arrow:before {content: \"▸\";float: left;margin-right: 0.25em;color: #696969;}#sk-container-id-6 label.sk-toggleable__label-arrow:hover:before {color: black;}#sk-container-id-6 div.sk-estimator:hover label.sk-toggleable__label-arrow:before {color: black;}#sk-container-id-6 div.sk-toggleable__content {max-height: 0;max-width: 0;overflow: hidden;text-align: left;background-color: #f0f8ff;}#sk-container-id-6 div.sk-toggleable__content pre {margin: 0.2em;color: black;border-radius: 0.25em;background-color: #f0f8ff;}#sk-container-id-6 input.sk-toggleable__control:checked~div.sk-toggleable__content {max-height: 200px;max-width: 100%;overflow: auto;}#sk-container-id-6 input.sk-toggleable__control:checked~label.sk-toggleable__label-arrow:before {content: \"▾\";}#sk-container-id-6 div.sk-estimator input.sk-toggleable__control:checked~label.sk-toggleable__label {background-color: #d4ebff;}#sk-container-id-6 div.sk-label input.sk-toggleable__control:checked~label.sk-toggleable__label {background-color: #d4ebff;}#sk-container-id-6 input.sk-hidden--visually {border: 0;clip: rect(1px 1px 1px 1px);clip: rect(1px, 1px, 1px, 1px);height: 1px;margin: -1px;overflow: hidden;padding: 0;position: absolute;width: 1px;}#sk-container-id-6 div.sk-estimator {font-family: monospace;background-color: #f0f8ff;border: 1px dotted black;border-radius: 0.25em;box-sizing: border-box;margin-bottom: 0.5em;}#sk-container-id-6 div.sk-estimator:hover {background-color: #d4ebff;}#sk-container-id-6 div.sk-parallel-item::after {content: \"\";width: 100%;border-bottom: 1px solid gray;flex-grow: 1;}#sk-container-id-6 div.sk-label:hover label.sk-toggleable__label {background-color: #d4ebff;}#sk-container-id-6 div.sk-serial::before {content: \"\";position: absolute;border-left: 1px solid gray;box-sizing: border-box;top: 0;bottom: 0;left: 50%;z-index: 0;}#sk-container-id-6 div.sk-serial {display: flex;flex-direction: column;align-items: center;background-color: white;padding-right: 0.2em;padding-left: 0.2em;position: relative;}#sk-container-id-6 div.sk-item {position: relative;z-index: 1;}#sk-container-id-6 div.sk-parallel {display: flex;align-items: stretch;justify-content: center;background-color: white;position: relative;}#sk-container-id-6 div.sk-item::before, #sk-container-id-6 div.sk-parallel-item::before {content: \"\";position: absolute;border-left: 1px solid gray;box-sizing: border-box;top: 0;bottom: 0;left: 50%;z-index: -1;}#sk-container-id-6 div.sk-parallel-item {display: flex;flex-direction: column;z-index: 1;position: relative;background-color: white;}#sk-container-id-6 div.sk-parallel-item:first-child::after {align-self: flex-end;width: 50%;}#sk-container-id-6 div.sk-parallel-item:last-child::after {align-self: flex-start;width: 50%;}#sk-container-id-6 div.sk-parallel-item:only-child::after {width: 0;}#sk-container-id-6 div.sk-dashed-wrapped {border: 1px dashed gray;margin: 0 0.4em 0.5em 0.4em;box-sizing: border-box;padding-bottom: 0.4em;background-color: white;}#sk-container-id-6 div.sk-label label {font-family: monospace;font-weight: bold;display: inline-block;line-height: 1.2em;}#sk-container-id-6 div.sk-label-container {text-align: center;}#sk-container-id-6 div.sk-container {/* jupyter's `normalize.less` sets `[hidden] { display: none; }` but bootstrap.min.css set `[hidden] { display: none !important; }` so we also need the `!important` here to be able to override the default hidden behavior on the sphinx rendered scikit-learn.org. See: https://github.com/scikit-learn/scikit-learn/issues/21755 */display: inline-block !important;position: relative;}#sk-container-id-6 div.sk-text-repr-fallback {display: none;}</style><div id=\"sk-container-id-6\" class=\"sk-top-container\"><div class=\"sk-text-repr-fallback\"><pre>SelectFromModel(estimator=RandomForestClassifier(max_features=&#x27;log2&#x27;,\n",
       "                                                 n_estimators=1000,\n",
       "                                                 random_state=42))</pre><b>In a Jupyter environment, please rerun this cell to show the HTML representation or trust the notebook. <br />On GitHub, the HTML representation is unable to render, please try loading this page with nbviewer.org.</b></div><div class=\"sk-container\" hidden><div class=\"sk-item sk-dashed-wrapped\"><div class=\"sk-label-container\"><div class=\"sk-label sk-toggleable\"><input class=\"sk-toggleable__control sk-hidden--visually\" id=\"sk-estimator-id-14\" type=\"checkbox\" ><label for=\"sk-estimator-id-14\" class=\"sk-toggleable__label sk-toggleable__label-arrow\">SelectFromModel</label><div class=\"sk-toggleable__content\"><pre>SelectFromModel(estimator=RandomForestClassifier(max_features=&#x27;log2&#x27;,\n",
       "                                                 n_estimators=1000,\n",
       "                                                 random_state=42))</pre></div></div></div><div class=\"sk-parallel\"><div class=\"sk-parallel-item\"><div class=\"sk-item\"><div class=\"sk-label-container\"><div class=\"sk-label sk-toggleable\"><input class=\"sk-toggleable__control sk-hidden--visually\" id=\"sk-estimator-id-15\" type=\"checkbox\" ><label for=\"sk-estimator-id-15\" class=\"sk-toggleable__label sk-toggleable__label-arrow\">estimator: RandomForestClassifier</label><div class=\"sk-toggleable__content\"><pre>RandomForestClassifier(max_features=&#x27;log2&#x27;, n_estimators=1000, random_state=42)</pre></div></div></div><div class=\"sk-serial\"><div class=\"sk-item\"><div class=\"sk-estimator sk-toggleable\"><input class=\"sk-toggleable__control sk-hidden--visually\" id=\"sk-estimator-id-16\" type=\"checkbox\" ><label for=\"sk-estimator-id-16\" class=\"sk-toggleable__label sk-toggleable__label-arrow\">RandomForestClassifier</label><div class=\"sk-toggleable__content\"><pre>RandomForestClassifier(max_features=&#x27;log2&#x27;, n_estimators=1000, random_state=42)</pre></div></div></div></div></div></div></div></div></div></div>"
      ],
      "text/plain": [
       "SelectFromModel(estimator=RandomForestClassifier(max_features='log2',\n",
       "                                                 n_estimators=1000,\n",
       "                                                 random_state=42))"
      ]
     },
     "execution_count": 170,
     "metadata": {},
     "output_type": "execute_result"
    }
   ],
   "source": [
    "# Select features importance using SelectFromModel\n",
    "sel = SelectFromModel(RandomForestClassifier(random_state = 42, \n",
    "                                            max_features = \"log2\",\n",
    "                                            n_estimators = 1000))\n",
    "sel.fit(X, y)"
   ]
  },
  {
   "cell_type": "code",
   "execution_count": 172,
   "metadata": {},
   "outputs": [
    {
     "data": {
      "text/plain": [
       "18"
      ]
     },
     "execution_count": 172,
     "metadata": {},
     "output_type": "execute_result"
    }
   ],
   "source": [
    "selected_feat = X.columns[(sel.get_support())]\n",
    "len(selected_feat)"
   ]
  },
  {
   "cell_type": "code",
   "execution_count": 181,
   "metadata": {},
   "outputs": [
    {
     "data": {
      "text/plain": [
       "Index(['AMT_INCOME_TOTAL', 'AMT_CREDIT', 'AMT_ANNUITY', 'AMT_GOODS_PRICE',\n",
       "       'REGION_POPULATION_RELATIVE', 'DAYS_BIRTH', 'DAYS_EMPLOYED',\n",
       "       'DAYS_REGISTRATION', 'DAYS_ID_PUBLISH', 'HOUR_APPR_PROCESS_START',\n",
       "       'EXT_SOURCE_2', 'EXT_SOURCE_3', 'YEARS_BEGINEXPLUATATION_MODE',\n",
       "       'TOTALAREA_MODE', 'DAYS_LAST_PHONE_CHANGE',\n",
       "       'AMT_REQ_CREDIT_BUREAU_YEAR', 'WEEKDAY_APPR_PROCESS_START',\n",
       "       'ORGANIZATION_TYPE'],\n",
       "      dtype='object')"
      ]
     },
     "execution_count": 181,
     "metadata": {},
     "output_type": "execute_result"
    }
   ],
   "source": [
    "selected_feat"
   ]
  },
  {
   "cell_type": "code",
   "execution_count": 182,
   "metadata": {},
   "outputs": [],
   "source": [
    "# Update the X data\n",
    "X_sel = X[selected_feat]\n",
    "y_sel = y"
   ]
  },
  {
   "cell_type": "markdown",
   "metadata": {},
   "source": [
    "#### 8a. Remodeling data based on selected features (Logistic Regression)"
   ]
  },
  {
   "cell_type": "code",
   "execution_count": 183,
   "metadata": {},
   "outputs": [
    {
     "data": {
      "text/html": [
       "<style>#sk-container-id-7 {color: black;}#sk-container-id-7 pre{padding: 0;}#sk-container-id-7 div.sk-toggleable {background-color: white;}#sk-container-id-7 label.sk-toggleable__label {cursor: pointer;display: block;width: 100%;margin-bottom: 0;padding: 0.3em;box-sizing: border-box;text-align: center;}#sk-container-id-7 label.sk-toggleable__label-arrow:before {content: \"▸\";float: left;margin-right: 0.25em;color: #696969;}#sk-container-id-7 label.sk-toggleable__label-arrow:hover:before {color: black;}#sk-container-id-7 div.sk-estimator:hover label.sk-toggleable__label-arrow:before {color: black;}#sk-container-id-7 div.sk-toggleable__content {max-height: 0;max-width: 0;overflow: hidden;text-align: left;background-color: #f0f8ff;}#sk-container-id-7 div.sk-toggleable__content pre {margin: 0.2em;color: black;border-radius: 0.25em;background-color: #f0f8ff;}#sk-container-id-7 input.sk-toggleable__control:checked~div.sk-toggleable__content {max-height: 200px;max-width: 100%;overflow: auto;}#sk-container-id-7 input.sk-toggleable__control:checked~label.sk-toggleable__label-arrow:before {content: \"▾\";}#sk-container-id-7 div.sk-estimator input.sk-toggleable__control:checked~label.sk-toggleable__label {background-color: #d4ebff;}#sk-container-id-7 div.sk-label input.sk-toggleable__control:checked~label.sk-toggleable__label {background-color: #d4ebff;}#sk-container-id-7 input.sk-hidden--visually {border: 0;clip: rect(1px 1px 1px 1px);clip: rect(1px, 1px, 1px, 1px);height: 1px;margin: -1px;overflow: hidden;padding: 0;position: absolute;width: 1px;}#sk-container-id-7 div.sk-estimator {font-family: monospace;background-color: #f0f8ff;border: 1px dotted black;border-radius: 0.25em;box-sizing: border-box;margin-bottom: 0.5em;}#sk-container-id-7 div.sk-estimator:hover {background-color: #d4ebff;}#sk-container-id-7 div.sk-parallel-item::after {content: \"\";width: 100%;border-bottom: 1px solid gray;flex-grow: 1;}#sk-container-id-7 div.sk-label:hover label.sk-toggleable__label {background-color: #d4ebff;}#sk-container-id-7 div.sk-serial::before {content: \"\";position: absolute;border-left: 1px solid gray;box-sizing: border-box;top: 0;bottom: 0;left: 50%;z-index: 0;}#sk-container-id-7 div.sk-serial {display: flex;flex-direction: column;align-items: center;background-color: white;padding-right: 0.2em;padding-left: 0.2em;position: relative;}#sk-container-id-7 div.sk-item {position: relative;z-index: 1;}#sk-container-id-7 div.sk-parallel {display: flex;align-items: stretch;justify-content: center;background-color: white;position: relative;}#sk-container-id-7 div.sk-item::before, #sk-container-id-7 div.sk-parallel-item::before {content: \"\";position: absolute;border-left: 1px solid gray;box-sizing: border-box;top: 0;bottom: 0;left: 50%;z-index: -1;}#sk-container-id-7 div.sk-parallel-item {display: flex;flex-direction: column;z-index: 1;position: relative;background-color: white;}#sk-container-id-7 div.sk-parallel-item:first-child::after {align-self: flex-end;width: 50%;}#sk-container-id-7 div.sk-parallel-item:last-child::after {align-self: flex-start;width: 50%;}#sk-container-id-7 div.sk-parallel-item:only-child::after {width: 0;}#sk-container-id-7 div.sk-dashed-wrapped {border: 1px dashed gray;margin: 0 0.4em 0.5em 0.4em;box-sizing: border-box;padding-bottom: 0.4em;background-color: white;}#sk-container-id-7 div.sk-label label {font-family: monospace;font-weight: bold;display: inline-block;line-height: 1.2em;}#sk-container-id-7 div.sk-label-container {text-align: center;}#sk-container-id-7 div.sk-container {/* jupyter's `normalize.less` sets `[hidden] { display: none; }` but bootstrap.min.css set `[hidden] { display: none !important; }` so we also need the `!important` here to be able to override the default hidden behavior on the sphinx rendered scikit-learn.org. See: https://github.com/scikit-learn/scikit-learn/issues/21755 */display: inline-block !important;position: relative;}#sk-container-id-7 div.sk-text-repr-fallback {display: none;}</style><div id=\"sk-container-id-7\" class=\"sk-top-container\"><div class=\"sk-text-repr-fallback\"><pre>GridSearchCV(cv=5, estimator=LogisticRegression(random_state=42), n_jobs=2,\n",
       "             param_grid={&#x27;C&#x27;: [100, 10, 1.0, 0.1, 0.01], &#x27;penalty&#x27;: [&#x27;l2&#x27;],\n",
       "                         &#x27;solver&#x27;: [&#x27;newton-cg&#x27;, &#x27;lbfgs&#x27;, &#x27;liblinear&#x27;]},\n",
       "             scoring=&#x27;f1&#x27;)</pre><b>In a Jupyter environment, please rerun this cell to show the HTML representation or trust the notebook. <br />On GitHub, the HTML representation is unable to render, please try loading this page with nbviewer.org.</b></div><div class=\"sk-container\" hidden><div class=\"sk-item sk-dashed-wrapped\"><div class=\"sk-label-container\"><div class=\"sk-label sk-toggleable\"><input class=\"sk-toggleable__control sk-hidden--visually\" id=\"sk-estimator-id-17\" type=\"checkbox\" ><label for=\"sk-estimator-id-17\" class=\"sk-toggleable__label sk-toggleable__label-arrow\">GridSearchCV</label><div class=\"sk-toggleable__content\"><pre>GridSearchCV(cv=5, estimator=LogisticRegression(random_state=42), n_jobs=2,\n",
       "             param_grid={&#x27;C&#x27;: [100, 10, 1.0, 0.1, 0.01], &#x27;penalty&#x27;: [&#x27;l2&#x27;],\n",
       "                         &#x27;solver&#x27;: [&#x27;newton-cg&#x27;, &#x27;lbfgs&#x27;, &#x27;liblinear&#x27;]},\n",
       "             scoring=&#x27;f1&#x27;)</pre></div></div></div><div class=\"sk-parallel\"><div class=\"sk-parallel-item\"><div class=\"sk-item\"><div class=\"sk-label-container\"><div class=\"sk-label sk-toggleable\"><input class=\"sk-toggleable__control sk-hidden--visually\" id=\"sk-estimator-id-18\" type=\"checkbox\" ><label for=\"sk-estimator-id-18\" class=\"sk-toggleable__label sk-toggleable__label-arrow\">estimator: LogisticRegression</label><div class=\"sk-toggleable__content\"><pre>LogisticRegression(random_state=42)</pre></div></div></div><div class=\"sk-serial\"><div class=\"sk-item\"><div class=\"sk-estimator sk-toggleable\"><input class=\"sk-toggleable__control sk-hidden--visually\" id=\"sk-estimator-id-19\" type=\"checkbox\" ><label for=\"sk-estimator-id-19\" class=\"sk-toggleable__label sk-toggleable__label-arrow\">LogisticRegression</label><div class=\"sk-toggleable__content\"><pre>LogisticRegression(random_state=42)</pre></div></div></div></div></div></div></div></div></div></div>"
      ],
      "text/plain": [
       "GridSearchCV(cv=5, estimator=LogisticRegression(random_state=42), n_jobs=2,\n",
       "             param_grid={'C': [100, 10, 1.0, 0.1, 0.01], 'penalty': ['l2'],\n",
       "                         'solver': ['newton-cg', 'lbfgs', 'liblinear']},\n",
       "             scoring='f1')"
      ]
     },
     "execution_count": 183,
     "metadata": {},
     "output_type": "execute_result"
    }
   ],
   "source": [
    "logistic_classifier_sel = LogisticRegression(random_state = 42)\n",
    "param_grid = {\"solver\": [\"newton-cg\", \"lbfgs\", \"liblinear\"], \n",
    "              \"penalty\": [\"l2\"], \n",
    "              \"C\": [100, 10, 1.0, 0.1, 0.01]}\n",
    "\n",
    "grid_search_3 = GridSearchCV(logistic_classifier_sel, param_grid, n_jobs = 2, scoring = \"f1\", cv = 5)\n",
    "grid_search_3.fit(X_sel, y_sel)"
   ]
  },
  {
   "cell_type": "code",
   "execution_count": 184,
   "metadata": {},
   "outputs": [
    {
     "name": "stdout",
     "output_type": "stream",
     "text": [
      "Best Params:  {'C': 100, 'penalty': 'l2', 'solver': 'newton-cg'}\n",
      "Best Score:  0.6588315547763948\n"
     ]
    }
   ],
   "source": [
    "print(\"Best Params: \", grid_search_3.best_params_)\n",
    "print(\"Best Score: \", grid_search_3.best_score_)"
   ]
  },
  {
   "cell_type": "code",
   "execution_count": 185,
   "metadata": {},
   "outputs": [
    {
     "data": {
      "text/plain": [
       "['logistic_classifier_model_sel.joblib']"
      ]
     },
     "execution_count": 185,
     "metadata": {},
     "output_type": "execute_result"
    }
   ],
   "source": [
    "# save the Logistic classifier model (selected features)\n",
    "joblib.dump(grid_search_3, \"save_files/logistic_classifier_model_sel.joblib\")"
   ]
  },
  {
   "cell_type": "markdown",
   "metadata": {},
   "source": [
    "#### 8b. Remodeling data based on selected features (Random Forest)"
   ]
  },
  {
   "cell_type": "code",
   "execution_count": 186,
   "metadata": {},
   "outputs": [
    {
     "name": "stderr",
     "output_type": "stream",
     "text": [
      "/Users/wanda/anaconda3/lib/python3.11/site-packages/joblib/externals/loky/process_executor.py:700: UserWarning: A worker stopped while some jobs were given to the executor. This can be caused by a too short worker timeout or by a memory leak.\n",
      "  warnings.warn(\n"
     ]
    },
    {
     "data": {
      "text/html": [
       "<style>#sk-container-id-8 {color: black;}#sk-container-id-8 pre{padding: 0;}#sk-container-id-8 div.sk-toggleable {background-color: white;}#sk-container-id-8 label.sk-toggleable__label {cursor: pointer;display: block;width: 100%;margin-bottom: 0;padding: 0.3em;box-sizing: border-box;text-align: center;}#sk-container-id-8 label.sk-toggleable__label-arrow:before {content: \"▸\";float: left;margin-right: 0.25em;color: #696969;}#sk-container-id-8 label.sk-toggleable__label-arrow:hover:before {color: black;}#sk-container-id-8 div.sk-estimator:hover label.sk-toggleable__label-arrow:before {color: black;}#sk-container-id-8 div.sk-toggleable__content {max-height: 0;max-width: 0;overflow: hidden;text-align: left;background-color: #f0f8ff;}#sk-container-id-8 div.sk-toggleable__content pre {margin: 0.2em;color: black;border-radius: 0.25em;background-color: #f0f8ff;}#sk-container-id-8 input.sk-toggleable__control:checked~div.sk-toggleable__content {max-height: 200px;max-width: 100%;overflow: auto;}#sk-container-id-8 input.sk-toggleable__control:checked~label.sk-toggleable__label-arrow:before {content: \"▾\";}#sk-container-id-8 div.sk-estimator input.sk-toggleable__control:checked~label.sk-toggleable__label {background-color: #d4ebff;}#sk-container-id-8 div.sk-label input.sk-toggleable__control:checked~label.sk-toggleable__label {background-color: #d4ebff;}#sk-container-id-8 input.sk-hidden--visually {border: 0;clip: rect(1px 1px 1px 1px);clip: rect(1px, 1px, 1px, 1px);height: 1px;margin: -1px;overflow: hidden;padding: 0;position: absolute;width: 1px;}#sk-container-id-8 div.sk-estimator {font-family: monospace;background-color: #f0f8ff;border: 1px dotted black;border-radius: 0.25em;box-sizing: border-box;margin-bottom: 0.5em;}#sk-container-id-8 div.sk-estimator:hover {background-color: #d4ebff;}#sk-container-id-8 div.sk-parallel-item::after {content: \"\";width: 100%;border-bottom: 1px solid gray;flex-grow: 1;}#sk-container-id-8 div.sk-label:hover label.sk-toggleable__label {background-color: #d4ebff;}#sk-container-id-8 div.sk-serial::before {content: \"\";position: absolute;border-left: 1px solid gray;box-sizing: border-box;top: 0;bottom: 0;left: 50%;z-index: 0;}#sk-container-id-8 div.sk-serial {display: flex;flex-direction: column;align-items: center;background-color: white;padding-right: 0.2em;padding-left: 0.2em;position: relative;}#sk-container-id-8 div.sk-item {position: relative;z-index: 1;}#sk-container-id-8 div.sk-parallel {display: flex;align-items: stretch;justify-content: center;background-color: white;position: relative;}#sk-container-id-8 div.sk-item::before, #sk-container-id-8 div.sk-parallel-item::before {content: \"\";position: absolute;border-left: 1px solid gray;box-sizing: border-box;top: 0;bottom: 0;left: 50%;z-index: -1;}#sk-container-id-8 div.sk-parallel-item {display: flex;flex-direction: column;z-index: 1;position: relative;background-color: white;}#sk-container-id-8 div.sk-parallel-item:first-child::after {align-self: flex-end;width: 50%;}#sk-container-id-8 div.sk-parallel-item:last-child::after {align-self: flex-start;width: 50%;}#sk-container-id-8 div.sk-parallel-item:only-child::after {width: 0;}#sk-container-id-8 div.sk-dashed-wrapped {border: 1px dashed gray;margin: 0 0.4em 0.5em 0.4em;box-sizing: border-box;padding-bottom: 0.4em;background-color: white;}#sk-container-id-8 div.sk-label label {font-family: monospace;font-weight: bold;display: inline-block;line-height: 1.2em;}#sk-container-id-8 div.sk-label-container {text-align: center;}#sk-container-id-8 div.sk-container {/* jupyter's `normalize.less` sets `[hidden] { display: none; }` but bootstrap.min.css set `[hidden] { display: none !important; }` so we also need the `!important` here to be able to override the default hidden behavior on the sphinx rendered scikit-learn.org. See: https://github.com/scikit-learn/scikit-learn/issues/21755 */display: inline-block !important;position: relative;}#sk-container-id-8 div.sk-text-repr-fallback {display: none;}</style><div id=\"sk-container-id-8\" class=\"sk-top-container\"><div class=\"sk-text-repr-fallback\"><pre>GridSearchCV(cv=5, estimator=RandomForestClassifier(random_state=42), n_jobs=2,\n",
       "             param_grid={&#x27;max_features&#x27;: [&#x27;sqrt&#x27;, &#x27;log2&#x27;],\n",
       "                         &#x27;n_estimators&#x27;: [10, 100, 1000]},\n",
       "             scoring=&#x27;f1&#x27;)</pre><b>In a Jupyter environment, please rerun this cell to show the HTML representation or trust the notebook. <br />On GitHub, the HTML representation is unable to render, please try loading this page with nbviewer.org.</b></div><div class=\"sk-container\" hidden><div class=\"sk-item sk-dashed-wrapped\"><div class=\"sk-label-container\"><div class=\"sk-label sk-toggleable\"><input class=\"sk-toggleable__control sk-hidden--visually\" id=\"sk-estimator-id-20\" type=\"checkbox\" ><label for=\"sk-estimator-id-20\" class=\"sk-toggleable__label sk-toggleable__label-arrow\">GridSearchCV</label><div class=\"sk-toggleable__content\"><pre>GridSearchCV(cv=5, estimator=RandomForestClassifier(random_state=42), n_jobs=2,\n",
       "             param_grid={&#x27;max_features&#x27;: [&#x27;sqrt&#x27;, &#x27;log2&#x27;],\n",
       "                         &#x27;n_estimators&#x27;: [10, 100, 1000]},\n",
       "             scoring=&#x27;f1&#x27;)</pre></div></div></div><div class=\"sk-parallel\"><div class=\"sk-parallel-item\"><div class=\"sk-item\"><div class=\"sk-label-container\"><div class=\"sk-label sk-toggleable\"><input class=\"sk-toggleable__control sk-hidden--visually\" id=\"sk-estimator-id-21\" type=\"checkbox\" ><label for=\"sk-estimator-id-21\" class=\"sk-toggleable__label sk-toggleable__label-arrow\">estimator: RandomForestClassifier</label><div class=\"sk-toggleable__content\"><pre>RandomForestClassifier(random_state=42)</pre></div></div></div><div class=\"sk-serial\"><div class=\"sk-item\"><div class=\"sk-estimator sk-toggleable\"><input class=\"sk-toggleable__control sk-hidden--visually\" id=\"sk-estimator-id-22\" type=\"checkbox\" ><label for=\"sk-estimator-id-22\" class=\"sk-toggleable__label sk-toggleable__label-arrow\">RandomForestClassifier</label><div class=\"sk-toggleable__content\"><pre>RandomForestClassifier(random_state=42)</pre></div></div></div></div></div></div></div></div></div></div>"
      ],
      "text/plain": [
       "GridSearchCV(cv=5, estimator=RandomForestClassifier(random_state=42), n_jobs=2,\n",
       "             param_grid={'max_features': ['sqrt', 'log2'],\n",
       "                         'n_estimators': [10, 100, 1000]},\n",
       "             scoring='f1')"
      ]
     },
     "execution_count": 186,
     "metadata": {},
     "output_type": "execute_result"
    }
   ],
   "source": [
    "forest_classifier_sel = RandomForestClassifier(random_state = 42)\n",
    "param_grid = {\"n_estimators\": [10, 100, 1000], \n",
    "              \"max_features\": [\"sqrt\", \"log2\"]}\n",
    "\n",
    "grid_search_4 = GridSearchCV(forest_classifier_sel, param_grid, n_jobs = 2, scoring = \"f1\", cv = 5)\n",
    "grid_search_4.fit(X_sel, y_sel)"
   ]
  },
  {
   "cell_type": "code",
   "execution_count": 187,
   "metadata": {},
   "outputs": [
    {
     "name": "stdout",
     "output_type": "stream",
     "text": [
      "Best Params:  {'max_features': 'sqrt', 'n_estimators': 1000}\n",
      "Best Score:  0.6648048412532948\n"
     ]
    }
   ],
   "source": [
    "print(\"Best Params: \", grid_search_4.best_params_)\n",
    "print(\"Best Score: \", grid_search_4.best_score_)"
   ]
  },
  {
   "cell_type": "code",
   "execution_count": 188,
   "metadata": {},
   "outputs": [
    {
     "data": {
      "text/plain": [
       "['randomforest_classifier_model_sel.joblib']"
      ]
     },
     "execution_count": 188,
     "metadata": {},
     "output_type": "execute_result"
    }
   ],
   "source": [
    "# save the Random Forest classifier model (selected features)\n",
    "joblib.dump(grid_search_4, \"save_files/randomforest_classifier_model_sel.joblib\")"
   ]
  },
  {
   "cell_type": "code",
   "execution_count": null,
   "metadata": {},
   "outputs": [],
   "source": [
    "# Will use \"randomforest_classifier_model_sel.joblib\" for modeling the input data in the future"
   ]
  }
 ],
 "metadata": {
  "kernelspec": {
   "display_name": "Python 3 (ipykernel)",
   "language": "python",
   "name": "python3"
  },
  "language_info": {
   "codemirror_mode": {
    "name": "ipython",
    "version": 3
   },
   "file_extension": ".py",
   "mimetype": "text/x-python",
   "name": "python",
   "nbconvert_exporter": "python",
   "pygments_lexer": "ipython3",
   "version": "3.11.4"
  }
 },
 "nbformat": 4,
 "nbformat_minor": 4
}
