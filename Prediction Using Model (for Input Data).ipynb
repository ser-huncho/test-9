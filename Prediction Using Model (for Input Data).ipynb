{
 "cells": [
  {
   "cell_type": "code",
   "execution_count": 1,
   "id": "30883b7f",
   "metadata": {},
   "outputs": [],
   "source": [
    "import pandas as pd\n",
    "import numpy as np\n",
    "import joblib"
   ]
  },
  {
   "cell_type": "code",
   "execution_count": 2,
   "id": "dfec012d",
   "metadata": {},
   "outputs": [
    {
     "data": {
      "text/html": [
       "<div>\n",
       "<style scoped>\n",
       "    .dataframe tbody tr th:only-of-type {\n",
       "        vertical-align: middle;\n",
       "    }\n",
       "\n",
       "    .dataframe tbody tr th {\n",
       "        vertical-align: top;\n",
       "    }\n",
       "\n",
       "    .dataframe thead th {\n",
       "        text-align: right;\n",
       "    }\n",
       "</style>\n",
       "<table border=\"1\" class=\"dataframe\">\n",
       "  <thead>\n",
       "    <tr style=\"text-align: right;\">\n",
       "      <th></th>\n",
       "      <th>CNT_CHILDREN</th>\n",
       "      <th>AMT_INCOME_TOTAL</th>\n",
       "      <th>AMT_CREDIT</th>\n",
       "      <th>AMT_ANNUITY</th>\n",
       "      <th>AMT_GOODS_PRICE</th>\n",
       "      <th>REGION_POPULATION_RELATIVE</th>\n",
       "      <th>DAYS_BIRTH</th>\n",
       "      <th>DAYS_EMPLOYED</th>\n",
       "      <th>DAYS_REGISTRATION</th>\n",
       "      <th>DAYS_ID_PUBLISH</th>\n",
       "      <th>...</th>\n",
       "      <th>REG_REGION_NOT_WORK_REGION</th>\n",
       "      <th>REG_CITY_NOT_LIVE_CITY</th>\n",
       "      <th>REG_CITY_NOT_WORK_CITY</th>\n",
       "      <th>LIVE_CITY_NOT_WORK_CITY</th>\n",
       "      <th>ORGANIZATION_TYPE</th>\n",
       "      <th>EMERGENCYSTATE_MODE</th>\n",
       "      <th>FLAG_DOCUMENT_3</th>\n",
       "      <th>FLAG_DOCUMENT_6</th>\n",
       "      <th>FLAG_DOCUMENT_8</th>\n",
       "      <th>TARGET</th>\n",
       "    </tr>\n",
       "  </thead>\n",
       "  <tbody>\n",
       "    <tr>\n",
       "      <th>0</th>\n",
       "      <td>0.751970</td>\n",
       "      <td>0.235286</td>\n",
       "      <td>1.375052</td>\n",
       "      <td>0.403220</td>\n",
       "      <td>1.695226</td>\n",
       "      <td>-0.141886</td>\n",
       "      <td>0.860965</td>\n",
       "      <td>-0.413916</td>\n",
       "      <td>1.240573</td>\n",
       "      <td>-0.299187</td>\n",
       "      <td>...</td>\n",
       "      <td>0.949231</td>\n",
       "      <td>0.921827</td>\n",
       "      <td>0.769546</td>\n",
       "      <td>0.820445</td>\n",
       "      <td>0.003860</td>\n",
       "      <td>0.99243</td>\n",
       "      <td>0.710023</td>\n",
       "      <td>0.911945</td>\n",
       "      <td>0.918624</td>\n",
       "      <td>0</td>\n",
       "    </tr>\n",
       "    <tr>\n",
       "      <th>1</th>\n",
       "      <td>-0.591704</td>\n",
       "      <td>0.193017</td>\n",
       "      <td>0.366399</td>\n",
       "      <td>0.669629</td>\n",
       "      <td>0.588342</td>\n",
       "      <td>2.002004</td>\n",
       "      <td>-1.782893</td>\n",
       "      <td>2.354147</td>\n",
       "      <td>0.143480</td>\n",
       "      <td>-0.844557</td>\n",
       "      <td>...</td>\n",
       "      <td>0.949231</td>\n",
       "      <td>0.921827</td>\n",
       "      <td>0.769546</td>\n",
       "      <td>0.820445</td>\n",
       "      <td>0.234323</td>\n",
       "      <td>0.99243</td>\n",
       "      <td>0.289977</td>\n",
       "      <td>0.911945</td>\n",
       "      <td>0.918624</td>\n",
       "      <td>0</td>\n",
       "    </tr>\n",
       "    <tr>\n",
       "      <th>2</th>\n",
       "      <td>0.751970</td>\n",
       "      <td>-0.060600</td>\n",
       "      <td>-0.582922</td>\n",
       "      <td>-0.649225</td>\n",
       "      <td>-0.453432</td>\n",
       "      <td>-0.696247</td>\n",
       "      <td>-0.850283</td>\n",
       "      <td>-0.434673</td>\n",
       "      <td>0.067698</td>\n",
       "      <td>0.207228</td>\n",
       "      <td>...</td>\n",
       "      <td>0.949231</td>\n",
       "      <td>0.921827</td>\n",
       "      <td>0.769546</td>\n",
       "      <td>0.820445</td>\n",
       "      <td>0.221104</td>\n",
       "      <td>0.99243</td>\n",
       "      <td>0.289977</td>\n",
       "      <td>0.911945</td>\n",
       "      <td>0.918624</td>\n",
       "      <td>0</td>\n",
       "    </tr>\n",
       "    <tr>\n",
       "      <th>3</th>\n",
       "      <td>-0.591704</td>\n",
       "      <td>-0.145139</td>\n",
       "      <td>-0.938917</td>\n",
       "      <td>-1.204133</td>\n",
       "      <td>-0.844097</td>\n",
       "      <td>-0.370580</td>\n",
       "      <td>1.172374</td>\n",
       "      <td>-0.417441</td>\n",
       "      <td>-0.002838</td>\n",
       "      <td>-0.109034</td>\n",
       "      <td>...</td>\n",
       "      <td>0.949231</td>\n",
       "      <td>0.921827</td>\n",
       "      <td>0.230454</td>\n",
       "      <td>0.179555</td>\n",
       "      <td>0.124913</td>\n",
       "      <td>0.99243</td>\n",
       "      <td>0.710023</td>\n",
       "      <td>0.911945</td>\n",
       "      <td>0.918624</td>\n",
       "      <td>0</td>\n",
       "    </tr>\n",
       "    <tr>\n",
       "      <th>4</th>\n",
       "      <td>-0.591704</td>\n",
       "      <td>0.218378</td>\n",
       "      <td>3.214360</td>\n",
       "      <td>1.821318</td>\n",
       "      <td>3.713662</td>\n",
       "      <td>-1.264537</td>\n",
       "      <td>0.777275</td>\n",
       "      <td>-0.433341</td>\n",
       "      <td>0.828726</td>\n",
       "      <td>-0.933692</td>\n",
       "      <td>...</td>\n",
       "      <td>0.949231</td>\n",
       "      <td>0.921827</td>\n",
       "      <td>0.769546</td>\n",
       "      <td>0.820445</td>\n",
       "      <td>0.010952</td>\n",
       "      <td>0.99243</td>\n",
       "      <td>0.710023</td>\n",
       "      <td>0.911945</td>\n",
       "      <td>0.918624</td>\n",
       "      <td>0</td>\n",
       "    </tr>\n",
       "  </tbody>\n",
       "</table>\n",
       "<p>5 rows × 55 columns</p>\n",
       "</div>"
      ],
      "text/plain": [
       "   CNT_CHILDREN  AMT_INCOME_TOTAL  AMT_CREDIT  AMT_ANNUITY  AMT_GOODS_PRICE  \\\n",
       "0      0.751970          0.235286    1.375052     0.403220         1.695226   \n",
       "1     -0.591704          0.193017    0.366399     0.669629         0.588342   \n",
       "2      0.751970         -0.060600   -0.582922    -0.649225        -0.453432   \n",
       "3     -0.591704         -0.145139   -0.938917    -1.204133        -0.844097   \n",
       "4     -0.591704          0.218378    3.214360     1.821318         3.713662   \n",
       "\n",
       "   REGION_POPULATION_RELATIVE  DAYS_BIRTH  DAYS_EMPLOYED  DAYS_REGISTRATION  \\\n",
       "0                   -0.141886    0.860965      -0.413916           1.240573   \n",
       "1                    2.002004   -1.782893       2.354147           0.143480   \n",
       "2                   -0.696247   -0.850283      -0.434673           0.067698   \n",
       "3                   -0.370580    1.172374      -0.417441          -0.002838   \n",
       "4                   -1.264537    0.777275      -0.433341           0.828726   \n",
       "\n",
       "   DAYS_ID_PUBLISH  ...  REG_REGION_NOT_WORK_REGION  REG_CITY_NOT_LIVE_CITY  \\\n",
       "0        -0.299187  ...                    0.949231                0.921827   \n",
       "1        -0.844557  ...                    0.949231                0.921827   \n",
       "2         0.207228  ...                    0.949231                0.921827   \n",
       "3        -0.109034  ...                    0.949231                0.921827   \n",
       "4        -0.933692  ...                    0.949231                0.921827   \n",
       "\n",
       "   REG_CITY_NOT_WORK_CITY  LIVE_CITY_NOT_WORK_CITY  ORGANIZATION_TYPE  \\\n",
       "0                0.769546                 0.820445           0.003860   \n",
       "1                0.769546                 0.820445           0.234323   \n",
       "2                0.769546                 0.820445           0.221104   \n",
       "3                0.230454                 0.179555           0.124913   \n",
       "4                0.769546                 0.820445           0.010952   \n",
       "\n",
       "   EMERGENCYSTATE_MODE  FLAG_DOCUMENT_3  FLAG_DOCUMENT_6  FLAG_DOCUMENT_8  \\\n",
       "0              0.99243         0.710023         0.911945         0.918624   \n",
       "1              0.99243         0.289977         0.911945         0.918624   \n",
       "2              0.99243         0.289977         0.911945         0.918624   \n",
       "3              0.99243         0.710023         0.911945         0.918624   \n",
       "4              0.99243         0.710023         0.911945         0.918624   \n",
       "\n",
       "   TARGET  \n",
       "0       0  \n",
       "1       0  \n",
       "2       0  \n",
       "3       0  \n",
       "4       0  \n",
       "\n",
       "[5 rows x 55 columns]"
      ]
     },
     "execution_count": 2,
     "metadata": {},
     "output_type": "execute_result"
    }
   ],
   "source": [
    "df = pd.read_csv(\"data_final_resample_standardization.csv\")\n",
    "df.head()"
   ]
  },
  {
   "cell_type": "code",
   "execution_count": 3,
   "id": "a9888c90",
   "metadata": {},
   "outputs": [],
   "source": [
    "encoder = joblib.load(\"save_files/encoder_dict.joblib\")\n",
    "dict_stand = joblib.load(\"save_files/dict_standardization.joblib\")\n",
    "model_logistic = joblib.load(\"save_files/logistic_classifier_model_sel.joblib\") # Use the lighter model"
   ]
  },
  {
   "cell_type": "markdown",
   "id": "b4da98dd",
   "metadata": {},
   "source": [
    "### Data for Prediction"
   ]
  },
  {
   "cell_type": "code",
   "execution_count": 4,
   "id": "2fc10e16",
   "metadata": {},
   "outputs": [],
   "source": [
    "# Target = 1 (Loan Rejected)\n",
    "applicant_income = 202500.0\n",
    "credit_amount = 406597.5\n",
    "loan_annuity = 24700.5\n",
    "goods_price = 351000.0\n",
    "region_pop = 0.018801\n",
    "applicant_age = -9461\n",
    "day = \"WEDNESDAY\"\n",
    "hour = 10\n",
    "org_type = \"Business Entity Type 3\"\n",
    "credit_bureau = 1.0\n",
    "days_employed = -637\n",
    "days_reg = -3648.0\n",
    "days_id = -2120\n",
    "days_phone = -1134.0\n",
    "exp_mode = 0.9722\n",
    "area_mode = 0.0149\n",
    "source_2 = 0.2629485927471776\n",
    "source_3 = 0.13937578009978951"
   ]
  },
  {
   "cell_type": "code",
   "execution_count": 5,
   "id": "318f6101",
   "metadata": {},
   "outputs": [],
   "source": [
    "# Target = 0 (Loan Accepted)\n",
    "applicant_income0 = 270000.0\n",
    "credit_amount0 = 1293502.5\n",
    "loan_annuity0 = 35698.5\n",
    "goods_price0 = 1129500.0\n",
    "region_pop0 = 0.003540999999999999\n",
    "applicant_age0 = -16765\n",
    "day0 = \"MONDAY\"\n",
    "hour0 = 11\n",
    "org_type0 = \"School\"\n",
    "credit_bureau0 = 0\n",
    "days_employed0 = -1188\n",
    "days_reg0 = -1186.0\n",
    "days_id0 = -291\n",
    "days_phone0 = -828.0\n",
    "exp_mode0 = 0.9851\n",
    "area_mode0 = 0.0714\n",
    "source_20 = 0.6222457752555098\n",
    "source_30 = 0.7295666907060153"
   ]
  },
  {
   "cell_type": "markdown",
   "id": "fa24aee9",
   "metadata": {},
   "source": [
    "### 1. Categorical Data"
   ]
  },
  {
   "cell_type": "code",
   "execution_count": 6,
   "id": "d686873c",
   "metadata": {},
   "outputs": [],
   "source": [
    "dict_orgtype_encoder = {}\n",
    "for i in list(df[\"ORGANIZATION_TYPE\"].unique()):\n",
    "    for k,v in encoder[\"ORGANIZATION_TYPE\"].items():\n",
    "        if str(round(v, 6)) in str(round(i, 6)):\n",
    "            dict_orgtype_encoder[k] = round(v, 6)"
   ]
  },
  {
   "cell_type": "code",
   "execution_count": 7,
   "id": "fd6a3e72",
   "metadata": {
    "scrolled": true
   },
   "outputs": [
    {
     "data": {
      "text/plain": [
       "{'Transport: type 3': 0.00386,\n",
       " 'Other': 0.234323,\n",
       " 'Business Entity Type 3': 0.221104,\n",
       " 'Self-employed': 0.124913,\n",
       " 'Industry: type 9': 0.010952,\n",
       " 'Medicine': 0.036399,\n",
       " 'School': 0.028919,\n",
       " 'Construction': 0.021856,\n",
       " 'Industry: type 3': 0.01066,\n",
       " 'Government': 0.033833,\n",
       " 'Security': 0.010559,\n",
       " 'Electricity': 0.003089,\n",
       " 'Kindergarten': 0.022373,\n",
       " 'Industry: type 2': 0.001489,\n",
       " 'Transport: type 4': 0.017554,\n",
       " 'Business Entity Type 1': 0.019459,\n",
       " 'Business Entity Type 2': 0.034317,\n",
       " 'Transport: type 2': 0.007167,\n",
       " 'Housing': 0.009619,\n",
       " 'Police': 0.007613,\n",
       " 'Services': 0.005122,\n",
       " 'Security Ministries': 0.006419,\n",
       " 'Industry: type 11': 0.008793,\n",
       " 'Trade: type 7': 0.025466,\n",
       " 'Trade: type 2': 0.006179,\n",
       " 'Hotel': 0.003141,\n",
       " 'Postal': 0.007014,\n",
       " 'Military': 0.008566,\n",
       " 'Trade: type 1': 0.001132,\n",
       " 'Industry: type 5': 0.001948,\n",
       " 'Industry: type 4': 0.002852,\n",
       " 'Industry: type 12': 0.0012,\n",
       " 'Agriculture': 0.00798,\n",
       " 'University': 0.004315,\n",
       " 'Bank': 0.008153,\n",
       " 'Trade: type 6': 0.002052,\n",
       " 'Industry: type 1': 0.003379,\n",
       " 'Trade: type 5': 0.000159,\n",
       " 'Cleaning': 0.000845,\n",
       " 'Trade: type 3': 0.011356,\n",
       " 'Industry: type 7': 0.00425,\n",
       " 'Restaurant': 0.005889,\n",
       " 'Transport: type 1': 0.000654,\n",
       " 'Insurance': 0.001941,\n",
       " 'Mobile': 0.001031,\n",
       " 'Advertising': 0.001395,\n",
       " 'Telecom': 0.001876,\n",
       " 'Realtor': 0.001288,\n",
       " 'Emergency': 0.001821,\n",
       " 'Religion': 0.000276,\n",
       " 'Trade: type 4': 0.000208,\n",
       " 'Culture': 0.001232,\n",
       " 'Industry: type 6': 0.000364,\n",
       " 'Industry: type 10': 0.000354,\n",
       " 'Industry: type 8': 7.8e-05,\n",
       " 'Legal Services': 0.000992,\n",
       " 'Industry: type 13': 0.000218}"
      ]
     },
     "execution_count": 7,
     "metadata": {},
     "output_type": "execute_result"
    }
   ],
   "source": [
    "dict_orgtype_encoder"
   ]
  },
  {
   "cell_type": "code",
   "execution_count": 8,
   "id": "5bb4b2b8",
   "metadata": {},
   "outputs": [
    {
     "data": {
      "text/plain": [
       "['save_files/list_orgtype.joblib']"
      ]
     },
     "execution_count": 8,
     "metadata": {},
     "output_type": "execute_result"
    }
   ],
   "source": [
    "x = list(dict_orgtype_encoder.keys())\n",
    "joblib.dump(x, \"save_files/list_orgtype.joblib\")"
   ]
  },
  {
   "cell_type": "code",
   "execution_count": 9,
   "id": "4741e97c",
   "metadata": {},
   "outputs": [],
   "source": [
    "# 1. Organization Type\n",
    "dict_orgtype_encoder = {}\n",
    "for k,v in encoder[\"ORGANIZATION_TYPE\"].items():\n",
    "    dict_orgtype_encoder[k.lower()] = round(v, 6)"
   ]
  },
  {
   "cell_type": "code",
   "execution_count": 10,
   "id": "3a751dba",
   "metadata": {},
   "outputs": [
    {
     "data": {
      "text/plain": [
       "{'other': 0.234323,\n",
       " 'business entity type 3': 0.221104,\n",
       " 'self-employed': 0.124913,\n",
       " 'medicine': 0.036399,\n",
       " 'business entity type 2': 0.034317,\n",
       " 'government': 0.033833,\n",
       " 'school': 0.028919,\n",
       " 'trade: type 7': 0.025466,\n",
       " 'kindergarten': 0.022373,\n",
       " 'construction': 0.021856,\n",
       " 'business entity type 1': 0.019459,\n",
       " 'transport: type 4': 0.017554,\n",
       " 'trade: type 3': 0.011356,\n",
       " 'industry: type 9': 0.010952,\n",
       " 'industry: type 3': 0.01066,\n",
       " 'security': 0.010559,\n",
       " 'housing': 0.009619,\n",
       " 'industry: type 11': 0.008793,\n",
       " 'military': 0.008566,\n",
       " 'bank': 0.008153,\n",
       " 'agriculture': 0.00798,\n",
       " 'police': 0.007613,\n",
       " 'transport: type 2': 0.007167,\n",
       " 'postal': 0.007014,\n",
       " 'security ministries': 0.006419,\n",
       " 'trade: type 2': 0.006179,\n",
       " 'restaurant': 0.005889,\n",
       " 'services': 0.005122,\n",
       " 'university': 0.004315,\n",
       " 'industry: type 7': 0.00425,\n",
       " 'transport: type 3': 0.00386,\n",
       " 'industry: type 1': 0.003379,\n",
       " 'hotel': 0.003141,\n",
       " 'electricity': 0.003089,\n",
       " 'industry: type 4': 0.002852,\n",
       " 'trade: type 6': 0.002052,\n",
       " 'industry: type 5': 0.001948,\n",
       " 'insurance': 0.001941,\n",
       " 'telecom': 0.001876,\n",
       " 'emergency': 0.001821,\n",
       " 'industry: type 2': 0.001489,\n",
       " 'advertising': 0.001395,\n",
       " 'realtor': 0.001288,\n",
       " 'culture': 0.001232,\n",
       " 'industry: type 12': 0.0012,\n",
       " 'trade: type 1': 0.001132,\n",
       " 'mobile': 0.001031,\n",
       " 'legal services': 0.000992,\n",
       " 'cleaning': 0.000845,\n",
       " 'transport: type 1': 0.000654,\n",
       " 'industry: type 6': 0.000364,\n",
       " 'industry: type 10': 0.000354,\n",
       " 'religion': 0.000276,\n",
       " 'industry: type 13': 0.000218,\n",
       " 'trade: type 4': 0.000208,\n",
       " 'trade: type 5': 0.000159,\n",
       " 'industry: type 8': 7.8e-05}"
      ]
     },
     "execution_count": 10,
     "metadata": {},
     "output_type": "execute_result"
    }
   ],
   "source": [
    "dict_orgtype_encoder"
   ]
  },
  {
   "cell_type": "code",
   "execution_count": 11,
   "id": "697ff7d3",
   "metadata": {},
   "outputs": [],
   "source": [
    "org_type_encode = None\n",
    "for k,v in dict_orgtype_encoder.items():\n",
    "    if org_type.lower() == k:\n",
    "        org_type_encode = v"
   ]
  },
  {
   "cell_type": "code",
   "execution_count": 12,
   "id": "da133581",
   "metadata": {},
   "outputs": [
    {
     "data": {
      "text/plain": [
       "0.221104"
      ]
     },
     "execution_count": 12,
     "metadata": {},
     "output_type": "execute_result"
    }
   ],
   "source": [
    "org_type_encode"
   ]
  },
  {
   "cell_type": "code",
   "execution_count": 13,
   "id": "e032cd60",
   "metadata": {},
   "outputs": [],
   "source": [
    "# 2. Day\n",
    "dict_day_encoder = {}\n",
    "for k,v in encoder[\"WEEKDAY_APPR_PROCESS_START\"].items():\n",
    "    dict_day_encoder[k.lower()] = round(v, 6)"
   ]
  },
  {
   "cell_type": "code",
   "execution_count": 14,
   "id": "0ab03a24",
   "metadata": {},
   "outputs": [
    {
     "data": {
      "text/plain": [
       "{'tuesday': 0.175282,\n",
       " 'wednesday': 0.168885,\n",
       " 'monday': 0.164918,\n",
       " 'thursday': 0.164518,\n",
       " 'friday': 0.163695,\n",
       " 'saturday': 0.110084,\n",
       " 'sunday': 0.052619}"
      ]
     },
     "execution_count": 14,
     "metadata": {},
     "output_type": "execute_result"
    }
   ],
   "source": [
    "dict_day_encoder"
   ]
  },
  {
   "cell_type": "code",
   "execution_count": 15,
   "id": "d7f0350b",
   "metadata": {},
   "outputs": [],
   "source": [
    "days = [\"Monday\", \"Tuesday\", \"Wednesday\", \"Thursday\", \"Friday\", \"Saturday\", \"Sunday\"]"
   ]
  },
  {
   "cell_type": "code",
   "execution_count": 16,
   "id": "c8097cd7",
   "metadata": {},
   "outputs": [],
   "source": [
    "day_encode = None\n",
    "for k,v in dict_day_encoder.items():\n",
    "    if day.lower() == k:\n",
    "        day_encode = v"
   ]
  },
  {
   "cell_type": "code",
   "execution_count": 17,
   "id": "06ac98c5",
   "metadata": {},
   "outputs": [
    {
     "data": {
      "text/plain": [
       "0.168885"
      ]
     },
     "execution_count": 17,
     "metadata": {},
     "output_type": "execute_result"
    }
   ],
   "source": [
    "day_encode"
   ]
  },
  {
   "cell_type": "markdown",
   "id": "786aa92d",
   "metadata": {},
   "source": [
    "### 2. Numerical Data (Standardization)"
   ]
  },
  {
   "cell_type": "code",
   "execution_count": 18,
   "id": "82866776",
   "metadata": {},
   "outputs": [
    {
     "data": {
      "text/plain": [
       "{'CNT_CHILDREN': 'save_files/joblib_standardization/CNT_CHILDREN.joblib',\n",
       " 'AMT_INCOME_TOTAL': 'save_files/joblib_standardization/AMT_INCOME_TOTAL.joblib',\n",
       " 'AMT_CREDIT': 'save_files/joblib_standardization/AMT_CREDIT.joblib',\n",
       " 'AMT_ANNUITY': 'save_files/joblib_standardization/AMT_ANNUITY.joblib',\n",
       " 'AMT_GOODS_PRICE': 'save_files/joblib_standardization/AMT_GOODS_PRICE.joblib',\n",
       " 'REGION_POPULATION_RELATIVE': 'save_files/joblib_standardization/REGION_POPULATION_RELATIVE.joblib',\n",
       " 'DAYS_BIRTH': 'save_files/joblib_standardization/DAYS_BIRTH.joblib',\n",
       " 'DAYS_EMPLOYED': 'save_files/joblib_standardization/DAYS_EMPLOYED.joblib',\n",
       " 'DAYS_REGISTRATION': 'save_files/joblib_standardization/DAYS_REGISTRATION.joblib',\n",
       " 'DAYS_ID_PUBLISH': 'save_files/joblib_standardization/DAYS_ID_PUBLISH.joblib',\n",
       " 'CNT_FAM_MEMBERS': 'save_files/joblib_standardization/CNT_FAM_MEMBERS.joblib',\n",
       " 'HOUR_APPR_PROCESS_START': 'save_files/joblib_standardization/HOUR_APPR_PROCESS_START.joblib',\n",
       " 'EXT_SOURCE_2': 'save_files/joblib_standardization/EXT_SOURCE_2.joblib',\n",
       " 'EXT_SOURCE_3': 'save_files/joblib_standardization/EXT_SOURCE_3.joblib',\n",
       " 'YEARS_BEGINEXPLUATATION_AVG': 'save_files/joblib_standardization/YEARS_BEGINEXPLUATATION_AVG.joblib',\n",
       " 'FLOORSMAX_AVG': 'save_files/joblib_standardization/FLOORSMAX_AVG.joblib',\n",
       " 'YEARS_BEGINEXPLUATATION_MODE': 'save_files/joblib_standardization/YEARS_BEGINEXPLUATATION_MODE.joblib',\n",
       " 'FLOORSMAX_MODE': 'save_files/joblib_standardization/FLOORSMAX_MODE.joblib',\n",
       " 'YEARS_BEGINEXPLUATATION_MEDI': 'save_files/joblib_standardization/YEARS_BEGINEXPLUATATION_MEDI.joblib',\n",
       " 'FLOORSMAX_MEDI': 'save_files/joblib_standardization/FLOORSMAX_MEDI.joblib',\n",
       " 'TOTALAREA_MODE': 'save_files/joblib_standardization/TOTALAREA_MODE.joblib',\n",
       " 'OBS_30_CNT_SOCIAL_CIRCLE': 'save_files/joblib_standardization/OBS_30_CNT_SOCIAL_CIRCLE.joblib',\n",
       " 'DEF_30_CNT_SOCIAL_CIRCLE': 'save_files/joblib_standardization/DEF_30_CNT_SOCIAL_CIRCLE.joblib',\n",
       " 'OBS_60_CNT_SOCIAL_CIRCLE': 'save_files/joblib_standardization/OBS_60_CNT_SOCIAL_CIRCLE.joblib',\n",
       " 'DEF_60_CNT_SOCIAL_CIRCLE': 'save_files/joblib_standardization/DEF_60_CNT_SOCIAL_CIRCLE.joblib',\n",
       " 'DAYS_LAST_PHONE_CHANGE': 'save_files/joblib_standardization/DAYS_LAST_PHONE_CHANGE.joblib',\n",
       " 'AMT_REQ_CREDIT_BUREAU_MON': 'save_files/joblib_standardization/AMT_REQ_CREDIT_BUREAU_MON.joblib',\n",
       " 'AMT_REQ_CREDIT_BUREAU_YEAR': 'save_files/joblib_standardization/AMT_REQ_CREDIT_BUREAU_YEAR.joblib'}"
      ]
     },
     "execution_count": 18,
     "metadata": {},
     "output_type": "execute_result"
    }
   ],
   "source": [
    "dict_stand"
   ]
  },
  {
   "cell_type": "code",
   "execution_count": 19,
   "id": "e0b5299f",
   "metadata": {},
   "outputs": [],
   "source": [
    "selected_feat = ['AMT_INCOME_TOTAL', 'AMT_CREDIT', 'AMT_ANNUITY', 'AMT_GOODS_PRICE',\n",
    "                 'REGION_POPULATION_RELATIVE', 'DAYS_BIRTH', 'DAYS_EMPLOYED',\n",
    "                 'DAYS_REGISTRATION', 'DAYS_ID_PUBLISH', 'HOUR_APPR_PROCESS_START',\n",
    "                 'EXT_SOURCE_2', 'EXT_SOURCE_3', 'YEARS_BEGINEXPLUATATION_MODE',\n",
    "                 'TOTALAREA_MODE', 'DAYS_LAST_PHONE_CHANGE',\n",
    "                 'AMT_REQ_CREDIT_BUREAU_YEAR', 'WEEKDAY_APPR_PROCESS_START','ORGANIZATION_TYPE']"
   ]
  },
  {
   "cell_type": "code",
   "execution_count": 20,
   "id": "563805c3",
   "metadata": {},
   "outputs": [
    {
     "data": {
      "text/plain": [
       "['AMT_INCOME_TOTAL',\n",
       " 'AMT_CREDIT',\n",
       " 'AMT_ANNUITY',\n",
       " 'AMT_GOODS_PRICE',\n",
       " 'REGION_POPULATION_RELATIVE',\n",
       " 'DAYS_BIRTH',\n",
       " 'DAYS_EMPLOYED',\n",
       " 'DAYS_REGISTRATION',\n",
       " 'DAYS_ID_PUBLISH',\n",
       " 'HOUR_APPR_PROCESS_START',\n",
       " 'EXT_SOURCE_2',\n",
       " 'EXT_SOURCE_3',\n",
       " 'YEARS_BEGINEXPLUATATION_MODE',\n",
       " 'TOTALAREA_MODE',\n",
       " 'DAYS_LAST_PHONE_CHANGE',\n",
       " 'AMT_REQ_CREDIT_BUREAU_YEAR']"
      ]
     },
     "execution_count": 20,
     "metadata": {},
     "output_type": "execute_result"
    }
   ],
   "source": [
    "selected_feat[:-2] # Numerical variables"
   ]
  },
  {
   "cell_type": "code",
   "execution_count": 21,
   "id": "d33ab543",
   "metadata": {},
   "outputs": [
    {
     "name": "stderr",
     "output_type": "stream",
     "text": [
      "/Users/wanda/anaconda3/lib/python3.11/site-packages/sklearn/base.py:464: UserWarning: X does not have valid feature names, but StandardScaler was fitted with feature names\n",
      "  warnings.warn(\n",
      "/Users/wanda/anaconda3/lib/python3.11/site-packages/sklearn/base.py:464: UserWarning: X does not have valid feature names, but StandardScaler was fitted with feature names\n",
      "  warnings.warn(\n",
      "/Users/wanda/anaconda3/lib/python3.11/site-packages/sklearn/base.py:464: UserWarning: X does not have valid feature names, but StandardScaler was fitted with feature names\n",
      "  warnings.warn(\n",
      "/Users/wanda/anaconda3/lib/python3.11/site-packages/sklearn/base.py:464: UserWarning: X does not have valid feature names, but StandardScaler was fitted with feature names\n",
      "  warnings.warn(\n",
      "/Users/wanda/anaconda3/lib/python3.11/site-packages/sklearn/base.py:464: UserWarning: X does not have valid feature names, but StandardScaler was fitted with feature names\n",
      "  warnings.warn(\n",
      "/Users/wanda/anaconda3/lib/python3.11/site-packages/sklearn/base.py:464: UserWarning: X does not have valid feature names, but StandardScaler was fitted with feature names\n",
      "  warnings.warn(\n",
      "/Users/wanda/anaconda3/lib/python3.11/site-packages/sklearn/base.py:464: UserWarning: X does not have valid feature names, but StandardScaler was fitted with feature names\n",
      "  warnings.warn(\n",
      "/Users/wanda/anaconda3/lib/python3.11/site-packages/sklearn/base.py:464: UserWarning: X does not have valid feature names, but StandardScaler was fitted with feature names\n",
      "  warnings.warn(\n",
      "/Users/wanda/anaconda3/lib/python3.11/site-packages/sklearn/base.py:464: UserWarning: X does not have valid feature names, but StandardScaler was fitted with feature names\n",
      "  warnings.warn(\n",
      "/Users/wanda/anaconda3/lib/python3.11/site-packages/sklearn/base.py:464: UserWarning: X does not have valid feature names, but StandardScaler was fitted with feature names\n",
      "  warnings.warn(\n",
      "/Users/wanda/anaconda3/lib/python3.11/site-packages/sklearn/base.py:464: UserWarning: X does not have valid feature names, but StandardScaler was fitted with feature names\n",
      "  warnings.warn(\n",
      "/Users/wanda/anaconda3/lib/python3.11/site-packages/sklearn/base.py:464: UserWarning: X does not have valid feature names, but StandardScaler was fitted with feature names\n",
      "  warnings.warn(\n",
      "/Users/wanda/anaconda3/lib/python3.11/site-packages/sklearn/base.py:464: UserWarning: X does not have valid feature names, but StandardScaler was fitted with feature names\n",
      "  warnings.warn(\n",
      "/Users/wanda/anaconda3/lib/python3.11/site-packages/sklearn/base.py:464: UserWarning: X does not have valid feature names, but StandardScaler was fitted with feature names\n",
      "  warnings.warn(\n",
      "/Users/wanda/anaconda3/lib/python3.11/site-packages/sklearn/base.py:464: UserWarning: X does not have valid feature names, but StandardScaler was fitted with feature names\n",
      "  warnings.warn(\n",
      "/Users/wanda/anaconda3/lib/python3.11/site-packages/sklearn/base.py:464: UserWarning: X does not have valid feature names, but StandardScaler was fitted with feature names\n",
      "  warnings.warn(\n"
     ]
    }
   ],
   "source": [
    "num_value = []\n",
    "\n",
    "for i in selected_feat:\n",
    "    if i == 'AMT_INCOME_TOTAL':\n",
    "        applicant_income1 = joblib.load(dict_stand[i]).transform([[applicant_income]])\n",
    "        num_value.append(applicant_income1)\n",
    "    if i == 'AMT_CREDIT':\n",
    "        credit_amount1 = joblib.load(dict_stand[i]).transform([[credit_amount]])\n",
    "        num_value.append(credit_amount1)\n",
    "    if i == 'AMT_ANNUITY':\n",
    "        loan_annuity1 = joblib.load(dict_stand[i]).transform([[loan_annuity]])\n",
    "        num_value.append(loan_annuity1)\n",
    "    if i == 'AMT_GOODS_PRICE':\n",
    "        goods_price1 = joblib.load(dict_stand[i]).transform([[goods_price]])\n",
    "        num_value.append(goods_price1)\n",
    "    if i == 'REGION_POPULATION_RELATIVE':\n",
    "        region_pop1 = joblib.load(dict_stand[i]).transform([[region_pop]])\n",
    "        num_value.append(region_pop1)\n",
    "    if i == 'DAYS_BIRTH':\n",
    "        applicant_age1 = joblib.load(dict_stand[i]).transform([[applicant_age]])\n",
    "        num_value.append(applicant_age1)\n",
    "    if i == 'DAYS_EMPLOYED':\n",
    "        days_employed1 = joblib.load(dict_stand[i]).transform([[days_employed]])\n",
    "        num_value.append(days_employed1)\n",
    "    if i == 'DAYS_REGISTRATION':\n",
    "        days_reg1 = joblib.load(dict_stand[i]).transform([[days_reg]])\n",
    "        num_value.append(days_reg1)\n",
    "    if i == 'DAYS_ID_PUBLISH':\n",
    "        days_id1 = joblib.load(dict_stand[i]).transform([[days_id]])\n",
    "        num_value.append(days_id1)\n",
    "    if i == 'HOUR_APPR_PROCESS_START':\n",
    "        hour1 = joblib.load(dict_stand[i]).transform([[hour]])\n",
    "        num_value.append(hour1)\n",
    "    if i == 'EXT_SOURCE_2':\n",
    "        source_21 = joblib.load(dict_stand[i]).transform([[source_2]])\n",
    "        num_value.append(source_21)\n",
    "    if i == 'EXT_SOURCE_3':\n",
    "        source_31 = joblib.load(dict_stand[i]).transform([[source_3]])\n",
    "        num_value.append(source_31)\n",
    "    if i == 'YEARS_BEGINEXPLUATATION_MODE':\n",
    "        exp_mode1 = joblib.load(dict_stand[i]).transform([[exp_mode]])\n",
    "        num_value.append(exp_mode1)\n",
    "    if i == 'TOTALAREA_MODE':\n",
    "        area_mode1 = joblib.load(dict_stand[i]).transform([[area_mode]])\n",
    "        num_value.append(area_mode1)\n",
    "    if i == 'DAYS_LAST_PHONE_CHANGE':\n",
    "        days_phone1 = joblib.load(dict_stand[i]).transform([[days_phone]])\n",
    "        num_value.append(days_phone1)\n",
    "    if i == 'AMT_REQ_CREDIT_BUREAU_YEAR':\n",
    "        credit_bureau1 = joblib.load(dict_stand[i]).transform([[credit_bureau]])\n",
    "        num_value.append(credit_bureau1)"
   ]
  },
  {
   "cell_type": "code",
   "execution_count": 22,
   "id": "368cd1d9",
   "metadata": {},
   "outputs": [
    {
     "data": {
      "text/plain": [
       "[array([[0.06620835]]),\n",
       " array([[-0.46004406]]),\n",
       " array([[-0.1582816]]),\n",
       " array([[-0.47947617]]),\n",
       " array([[-0.09657595]]),\n",
       " array([[1.39315836]]),\n",
       " array([[-0.41353008]]),\n",
       " array([[0.3230257]]),\n",
       " array([[0.49641994]]),\n",
       " array([[-0.5966161]]),\n",
       " array([[-0.98465467]]),\n",
       " array([[-1.76801616]]),\n",
       " array([[-0.09550409]]),\n",
       " array([[-1.16890495]]),\n",
       " array([[-0.30424599]]),\n",
       " array([[-0.54461827]])]"
      ]
     },
     "execution_count": 22,
     "metadata": {},
     "output_type": "execute_result"
    }
   ],
   "source": [
    "num_value"
   ]
  },
  {
   "cell_type": "markdown",
   "id": "fc5bffe6",
   "metadata": {},
   "source": [
    "### 3. Predict Data"
   ]
  },
  {
   "cell_type": "code",
   "execution_count": 23,
   "id": "abd7334e",
   "metadata": {},
   "outputs": [],
   "source": [
    "# Combine into DataFrame \n",
    "\n",
    "# Target = 1\n",
    "df_pred1 = pd.DataFrame(np.concatenate(num_value), index = selected_feat[:-2]).T\n",
    "df_pred1[selected_feat[-2]] = day_encode\n",
    "df_pred1[selected_feat[-1]] = org_type_encode"
   ]
  },
  {
   "cell_type": "code",
   "execution_count": 24,
   "id": "bb2fbf1f",
   "metadata": {},
   "outputs": [
    {
     "data": {
      "text/html": [
       "<div>\n",
       "<style scoped>\n",
       "    .dataframe tbody tr th:only-of-type {\n",
       "        vertical-align: middle;\n",
       "    }\n",
       "\n",
       "    .dataframe tbody tr th {\n",
       "        vertical-align: top;\n",
       "    }\n",
       "\n",
       "    .dataframe thead th {\n",
       "        text-align: right;\n",
       "    }\n",
       "</style>\n",
       "<table border=\"1\" class=\"dataframe\">\n",
       "  <thead>\n",
       "    <tr style=\"text-align: right;\">\n",
       "      <th></th>\n",
       "      <th>AMT_INCOME_TOTAL</th>\n",
       "      <th>AMT_CREDIT</th>\n",
       "      <th>AMT_ANNUITY</th>\n",
       "      <th>AMT_GOODS_PRICE</th>\n",
       "      <th>REGION_POPULATION_RELATIVE</th>\n",
       "      <th>DAYS_BIRTH</th>\n",
       "      <th>DAYS_EMPLOYED</th>\n",
       "      <th>DAYS_REGISTRATION</th>\n",
       "      <th>DAYS_ID_PUBLISH</th>\n",
       "      <th>HOUR_APPR_PROCESS_START</th>\n",
       "      <th>EXT_SOURCE_2</th>\n",
       "      <th>EXT_SOURCE_3</th>\n",
       "      <th>YEARS_BEGINEXPLUATATION_MODE</th>\n",
       "      <th>TOTALAREA_MODE</th>\n",
       "      <th>DAYS_LAST_PHONE_CHANGE</th>\n",
       "      <th>AMT_REQ_CREDIT_BUREAU_YEAR</th>\n",
       "      <th>WEEKDAY_APPR_PROCESS_START</th>\n",
       "      <th>ORGANIZATION_TYPE</th>\n",
       "    </tr>\n",
       "  </thead>\n",
       "  <tbody>\n",
       "    <tr>\n",
       "      <th>0</th>\n",
       "      <td>0.066208</td>\n",
       "      <td>-0.460044</td>\n",
       "      <td>-0.158282</td>\n",
       "      <td>-0.479476</td>\n",
       "      <td>-0.096576</td>\n",
       "      <td>1.393158</td>\n",
       "      <td>-0.41353</td>\n",
       "      <td>0.323026</td>\n",
       "      <td>0.49642</td>\n",
       "      <td>-0.596616</td>\n",
       "      <td>-0.984655</td>\n",
       "      <td>-1.768016</td>\n",
       "      <td>-0.095504</td>\n",
       "      <td>-1.168905</td>\n",
       "      <td>-0.304246</td>\n",
       "      <td>-0.544618</td>\n",
       "      <td>0.168885</td>\n",
       "      <td>0.221104</td>\n",
       "    </tr>\n",
       "  </tbody>\n",
       "</table>\n",
       "</div>"
      ],
      "text/plain": [
       "   AMT_INCOME_TOTAL  AMT_CREDIT  AMT_ANNUITY  AMT_GOODS_PRICE  \\\n",
       "0          0.066208   -0.460044    -0.158282        -0.479476   \n",
       "\n",
       "   REGION_POPULATION_RELATIVE  DAYS_BIRTH  DAYS_EMPLOYED  DAYS_REGISTRATION  \\\n",
       "0                   -0.096576    1.393158       -0.41353           0.323026   \n",
       "\n",
       "   DAYS_ID_PUBLISH  HOUR_APPR_PROCESS_START  EXT_SOURCE_2  EXT_SOURCE_3  \\\n",
       "0          0.49642                -0.596616     -0.984655     -1.768016   \n",
       "\n",
       "   YEARS_BEGINEXPLUATATION_MODE  TOTALAREA_MODE  DAYS_LAST_PHONE_CHANGE  \\\n",
       "0                     -0.095504       -1.168905               -0.304246   \n",
       "\n",
       "   AMT_REQ_CREDIT_BUREAU_YEAR  WEEKDAY_APPR_PROCESS_START  ORGANIZATION_TYPE  \n",
       "0                   -0.544618                    0.168885           0.221104  "
      ]
     },
     "execution_count": 24,
     "metadata": {},
     "output_type": "execute_result"
    }
   ],
   "source": [
    "df_pred1"
   ]
  },
  {
   "cell_type": "code",
   "execution_count": 26,
   "id": "a1fa7518",
   "metadata": {},
   "outputs": [],
   "source": [
    "# Predict the Data\n",
    "\n",
    "pred = int(model_logistic.predict(df_pred1))\n",
    "\n",
    "msg1 = None\n",
    "msg2 = None\n",
    "\n",
    "if pred == 1:\n",
    "    msg1 = \"The Applicant Has Payment Difficulties\"\n",
    "    msg2 = \"Loan Rejected\"\n",
    "elif pred == 0:\n",
    "    msg1 = \"The Applicant Doesn’t Have Payment Difficulties\"\n",
    "    msg2 = \"Loan Accepted\""
   ]
  },
  {
   "cell_type": "code",
   "execution_count": 27,
   "id": "1d32b4e8",
   "metadata": {},
   "outputs": [
    {
     "name": "stdout",
     "output_type": "stream",
     "text": [
      "The Applicant Has Payment Difficulties\n",
      "Loan Rejected\n"
     ]
    }
   ],
   "source": [
    "print(msg1)\n",
    "print(msg2)"
   ]
  },
  {
   "cell_type": "code",
   "execution_count": null,
   "id": "24630152",
   "metadata": {},
   "outputs": [],
   "source": []
  }
 ],
 "metadata": {
  "kernelspec": {
   "display_name": "Python 3 (ipykernel)",
   "language": "python",
   "name": "python3"
  },
  "language_info": {
   "codemirror_mode": {
    "name": "ipython",
    "version": 3
   },
   "file_extension": ".py",
   "mimetype": "text/x-python",
   "name": "python",
   "nbconvert_exporter": "python",
   "pygments_lexer": "ipython3",
   "version": "3.11.4"
  }
 },
 "nbformat": 4,
 "nbformat_minor": 5
}
